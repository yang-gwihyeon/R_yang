{
 "cells": [
  {
   "cell_type": "code",
   "execution_count": 1,
   "id": "e881691e",
   "metadata": {},
   "outputs": [],
   "source": [
    "일월 <- read.csv(\"../R_yang/card.csv\")"
   ]
  },
  {
   "cell_type": "code",
   "execution_count": 3,
   "id": "09b4f547",
   "metadata": {},
   "outputs": [
    {
     "data": {
      "text/html": [
       "<table>\n",
       "<thead><tr><th scope=col>이용일자</th><th scope=col>업종대분류</th><th scope=col>카드결제건수.천건.</th></tr></thead>\n",
       "<tbody>\n",
       "\t<tr><td>20190101        </td><td>가전/가구       </td><td>  149           </td></tr>\n",
       "\t<tr><td>20190101        </td><td>가정생활/서비스 </td><td>  189           </td></tr>\n",
       "\t<tr><td>20190101        </td><td>교육/학원       </td><td>  142           </td></tr>\n",
       "\t<tr><td>20190101        </td><td>미용            </td><td>  464           </td></tr>\n",
       "\t<tr><td>20190101        </td><td>스포츠/문화/레저</td><td>  1,752         </td></tr>\n",
       "\t<tr><td>20190101        </td><td>여행/교통       </td><td>  260           </td></tr>\n",
       "</tbody>\n",
       "</table>\n"
      ],
      "text/latex": [
       "\\begin{tabular}{r|lll}\n",
       " 이용일자 & 업종대분류 & 카드결제건수.천건.\\\\\n",
       "\\hline\n",
       "\t 20190101         & 가전/가구        &   149           \\\\\n",
       "\t 20190101         & 가정생활/서비스  &   189           \\\\\n",
       "\t 20190101         & 교육/학원        &   142           \\\\\n",
       "\t 20190101         & 미용             &   464           \\\\\n",
       "\t 20190101         & 스포츠/문화/레저 &   1,752         \\\\\n",
       "\t 20190101         & 여행/교통        &   260           \\\\\n",
       "\\end{tabular}\n"
      ],
      "text/markdown": [
       "\n",
       "| 이용일자 | 업종대분류 | 카드결제건수.천건. |\n",
       "|---|---|---|\n",
       "| 20190101         | 가전/가구        |   149            |\n",
       "| 20190101         | 가정생활/서비스  |   189            |\n",
       "| 20190101         | 교육/학원        |   142            |\n",
       "| 20190101         | 미용             |   464            |\n",
       "| 20190101         | 스포츠/문화/레저 |   1,752          |\n",
       "| 20190101         | 여행/교통        |   260            |\n",
       "\n"
      ],
      "text/plain": [
       "  이용일자 업종대분류       카드결제건수.천건.\n",
       "1 20190101 가전/가구          149             \n",
       "2 20190101 가정생활/서비스    189             \n",
       "3 20190101 교육/학원          142             \n",
       "4 20190101 미용               464             \n",
       "5 20190101 스포츠/문화/레저   1,752           \n",
       "6 20190101 여행/교통          260             "
      ]
     },
     "metadata": {},
     "output_type": "display_data"
    }
   ],
   "source": [
    "head(일월)"
   ]
  },
  {
   "cell_type": "code",
   "execution_count": null,
   "id": "018beb16",
   "metadata": {},
   "outputs": [],
   "source": []
  }
 ],
 "metadata": {
  "kernelspec": {
   "display_name": "R",
   "language": "R",
   "name": "ir"
  },
  "language_info": {
   "codemirror_mode": "r",
   "file_extension": ".r",
   "mimetype": "text/x-r-source",
   "name": "R",
   "pygments_lexer": "r",
   "version": "3.6.1"
  }
 },
 "nbformat": 4,
 "nbformat_minor": 5
}
