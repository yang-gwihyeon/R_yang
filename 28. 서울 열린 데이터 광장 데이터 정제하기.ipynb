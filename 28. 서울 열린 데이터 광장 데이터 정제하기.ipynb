{
 "cells": [
  {
   "cell_type": "code",
   "execution_count": 35,
   "id": "46bd1022",
   "metadata": {},
   "outputs": [],
   "source": [
    "a <- read.table(\"../R_yang/trafficAccident_2011_2019.txt\", sep=\"\\t\")"
   ]
  },
  {
   "cell_type": "code",
   "execution_count": 16,
   "id": "c33cdb30",
   "metadata": {},
   "outputs": [],
   "source": [
    "seoul <- read.csv(\"../R_yang/newSeoul2019.csv\")"
   ]
  },
  {
   "cell_type": "code",
   "execution_count": 24,
   "id": "b6ce4bb9",
   "metadata": {},
   "outputs": [
    {
     "data": {
      "text/html": [
       "<table>\n",
       "<thead><tr><th></th><th scope=col>V1</th><th scope=col>V2</th><th scope=col>V3</th><th scope=col>V4</th><th scope=col>V5</th><th scope=col>V6</th><th scope=col>V7</th><th scope=col>V8</th><th scope=col>V9</th><th scope=col>V10</th><th scope=col>V11</th><th scope=col>V12</th><th scope=col>V13</th><th scope=col>V14</th><th scope=col>V15</th><th scope=col>V16</th></tr></thead>\n",
       "<tbody>\n",
       "\t<tr><th scope=row>4</th><td>2011    </td><td>합계    </td><td>부상자수</td><td>57,625  </td><td>4,429   </td><td>3,734   </td><td>4,513   </td><td>4,905   </td><td>5,036   </td><td>4,831   </td><td>5,067   </td><td>4,823   </td><td>4,893   </td><td>5,244   </td><td>5,150   </td><td>5,000   </td></tr>\n",
       "\t<tr><th scope=row>5</th><td>2011    </td><td>종로구  </td><td>발생건수</td><td>1,421   </td><td>115     </td><td>99      </td><td>116     </td><td>110     </td><td>122     </td><td>116     </td><td>103     </td><td>122     </td><td>121     </td><td>135     </td><td>140     </td><td>122     </td></tr>\n",
       "\t<tr><th scope=row>6</th><td>2011    </td><td>종로구  </td><td>사망자수</td><td>14      </td><td>2       </td><td>-       </td><td>-       </td><td>1       </td><td>-       </td><td>3       </td><td>1       </td><td>1       </td><td>2       </td><td>2       </td><td>1       </td><td>1       </td></tr>\n",
       "\t<tr><th scope=row>7</th><td>2011    </td><td>종로구  </td><td>부상자수</td><td>1,994   </td><td>165     </td><td>134     </td><td>162     </td><td>153     </td><td>157     </td><td>163     </td><td>154     </td><td>171     </td><td>166     </td><td>193     </td><td>204     </td><td>172     </td></tr>\n",
       "\t<tr><th scope=row>8</th><td>2011    </td><td>중구    </td><td>발생건수</td><td>1,497   </td><td>108     </td><td>86      </td><td>141     </td><td>128     </td><td>121     </td><td>115     </td><td>119     </td><td>117     </td><td>140     </td><td>147     </td><td>132     </td><td>143     </td></tr>\n",
       "\t<tr><th scope=row>9</th><td>2011    </td><td>중구    </td><td>사망자수</td><td>13      </td><td>-       </td><td>-       </td><td>-       </td><td>3       </td><td>1       </td><td>1       </td><td>1       </td><td>1       </td><td>1       </td><td>2       </td><td>3       </td><td>-       </td></tr>\n",
       "\t<tr><th scope=row>10</th><td>2011    </td><td>중구    </td><td>부상자수</td><td>2,025   </td><td>159     </td><td>112     </td><td>183     </td><td>175     </td><td>165     </td><td>156     </td><td>154     </td><td>154     </td><td>181     </td><td>203     </td><td>172     </td><td>211     </td></tr>\n",
       "\t<tr><th scope=row>11</th><td>2011    </td><td>용산구  </td><td>발생건수</td><td>1,170   </td><td>98      </td><td>92      </td><td>88      </td><td>103     </td><td>104     </td><td>98      </td><td>102     </td><td>104     </td><td>75      </td><td>109     </td><td>107     </td><td>90      </td></tr>\n",
       "\t<tr><th scope=row>12</th><td>2011    </td><td>용산구  </td><td>사망자수</td><td>9       </td><td>-       </td><td>1       </td><td>2       </td><td>1       </td><td>1       </td><td>-       </td><td>-       </td><td>1       </td><td>1       </td><td>1       </td><td>1       </td><td>-       </td></tr>\n",
       "\t<tr><th scope=row>13</th><td>2011    </td><td>용산구  </td><td>부상자수</td><td>1,704   </td><td>141     </td><td>134     </td><td>132     </td><td>149     </td><td>151     </td><td>143     </td><td>151     </td><td>146     </td><td>107     </td><td>157     </td><td>156     </td><td>137     </td></tr>\n",
       "\t<tr><th scope=row>14</th><td>2011    </td><td>성동구  </td><td>발생건수</td><td>1,154   </td><td>90      </td><td>80      </td><td>80      </td><td>109     </td><td>98      </td><td>99      </td><td>106     </td><td>77      </td><td>109     </td><td>102     </td><td>104     </td><td>100     </td></tr>\n",
       "</tbody>\n",
       "</table>\n"
      ],
      "text/latex": [
       "\\begin{tabular}{r|llllllllllllllll}\n",
       "  & V1 & V2 & V3 & V4 & V5 & V6 & V7 & V8 & V9 & V10 & V11 & V12 & V13 & V14 & V15 & V16\\\\\n",
       "\\hline\n",
       "\t4 & 2011     & 합계     & 부상자수 & 57,625   & 4,429    & 3,734    & 4,513    & 4,905    & 5,036    & 4,831    & 5,067    & 4,823    & 4,893    & 5,244    & 5,150    & 5,000   \\\\\n",
       "\t5 & 2011     & 종로구   & 발생건수 & 1,421    & 115      & 99       & 116      & 110      & 122      & 116      & 103      & 122      & 121      & 135      & 140      & 122     \\\\\n",
       "\t6 & 2011     & 종로구   & 사망자수 & 14       & 2        & -        & -        & 1        & -        & 3        & 1        & 1        & 2        & 2        & 1        & 1       \\\\\n",
       "\t7 & 2011     & 종로구   & 부상자수 & 1,994    & 165      & 134      & 162      & 153      & 157      & 163      & 154      & 171      & 166      & 193      & 204      & 172     \\\\\n",
       "\t8 & 2011     & 중구     & 발생건수 & 1,497    & 108      & 86       & 141      & 128      & 121      & 115      & 119      & 117      & 140      & 147      & 132      & 143     \\\\\n",
       "\t9 & 2011     & 중구     & 사망자수 & 13       & -        & -        & -        & 3        & 1        & 1        & 1        & 1        & 1        & 2        & 3        & -       \\\\\n",
       "\t10 & 2011     & 중구     & 부상자수 & 2,025    & 159      & 112      & 183      & 175      & 165      & 156      & 154      & 154      & 181      & 203      & 172      & 211     \\\\\n",
       "\t11 & 2011     & 용산구   & 발생건수 & 1,170    & 98       & 92       & 88       & 103      & 104      & 98       & 102      & 104      & 75       & 109      & 107      & 90      \\\\\n",
       "\t12 & 2011     & 용산구   & 사망자수 & 9        & -        & 1        & 2        & 1        & 1        & -        & -        & 1        & 1        & 1        & 1        & -       \\\\\n",
       "\t13 & 2011     & 용산구   & 부상자수 & 1,704    & 141      & 134      & 132      & 149      & 151      & 143      & 151      & 146      & 107      & 157      & 156      & 137     \\\\\n",
       "\t14 & 2011     & 성동구   & 발생건수 & 1,154    & 90       & 80       & 80       & 109      & 98       & 99       & 106      & 77       & 109      & 102      & 104      & 100     \\\\\n",
       "\\end{tabular}\n"
      ],
      "text/markdown": [
       "\n",
       "| <!--/--> | V1 | V2 | V3 | V4 | V5 | V6 | V7 | V8 | V9 | V10 | V11 | V12 | V13 | V14 | V15 | V16 |\n",
       "|---|---|---|---|---|---|---|---|---|---|---|---|---|---|---|---|---|\n",
       "| 4 | 2011     | 합계     | 부상자수 | 57,625   | 4,429    | 3,734    | 4,513    | 4,905    | 5,036    | 4,831    | 5,067    | 4,823    | 4,893    | 5,244    | 5,150    | 5,000    |\n",
       "| 5 | 2011     | 종로구   | 발생건수 | 1,421    | 115      | 99       | 116      | 110      | 122      | 116      | 103      | 122      | 121      | 135      | 140      | 122      |\n",
       "| 6 | 2011     | 종로구   | 사망자수 | 14       | 2        | -        | -        | 1        | -        | 3        | 1        | 1        | 2        | 2        | 1        | 1        |\n",
       "| 7 | 2011     | 종로구   | 부상자수 | 1,994    | 165      | 134      | 162      | 153      | 157      | 163      | 154      | 171      | 166      | 193      | 204      | 172      |\n",
       "| 8 | 2011     | 중구     | 발생건수 | 1,497    | 108      | 86       | 141      | 128      | 121      | 115      | 119      | 117      | 140      | 147      | 132      | 143      |\n",
       "| 9 | 2011     | 중구     | 사망자수 | 13       | -        | -        | -        | 3        | 1        | 1        | 1        | 1        | 1        | 2        | 3        | -        |\n",
       "| 10 | 2011     | 중구     | 부상자수 | 2,025    | 159      | 112      | 183      | 175      | 165      | 156      | 154      | 154      | 181      | 203      | 172      | 211      |\n",
       "| 11 | 2011     | 용산구   | 발생건수 | 1,170    | 98       | 92       | 88       | 103      | 104      | 98       | 102      | 104      | 75       | 109      | 107      | 90       |\n",
       "| 12 | 2011     | 용산구   | 사망자수 | 9        | -        | 1        | 2        | 1        | 1        | -        | -        | 1        | 1        | 1        | 1        | -        |\n",
       "| 13 | 2011     | 용산구   | 부상자수 | 1,704    | 141      | 134      | 132      | 149      | 151      | 143      | 151      | 146      | 107      | 157      | 156      | 137      |\n",
       "| 14 | 2011     | 성동구   | 발생건수 | 1,154    | 90       | 80       | 80       | 109      | 98       | 99       | 106      | 77       | 109      | 102      | 104      | 100      |\n",
       "\n"
      ],
      "text/plain": [
       "   V1   V2     V3       V4     V5    V6    V7    V8    V9    V10   V11   V12  \n",
       "4  2011 합계   부상자수 57,625 4,429 3,734 4,513 4,905 5,036 4,831 5,067 4,823\n",
       "5  2011 종로구 발생건수 1,421  115   99    116   110   122   116   103   122  \n",
       "6  2011 종로구 사망자수 14     2     -     -     1     -     3     1     1    \n",
       "7  2011 종로구 부상자수 1,994  165   134   162   153   157   163   154   171  \n",
       "8  2011 중구   발생건수 1,497  108   86    141   128   121   115   119   117  \n",
       "9  2011 중구   사망자수 13     -     -     -     3     1     1     1     1    \n",
       "10 2011 중구   부상자수 2,025  159   112   183   175   165   156   154   154  \n",
       "11 2011 용산구 발생건수 1,170  98    92    88    103   104   98    102   104  \n",
       "12 2011 용산구 사망자수 9      -     1     2     1     1     -     -     1    \n",
       "13 2011 용산구 부상자수 1,704  141   134   132   149   151   143   151   146  \n",
       "14 2011 성동구 발생건수 1,154  90    80    80    109   98    99    106   77   \n",
       "   V13   V14   V15   V16  \n",
       "4  4,893 5,244 5,150 5,000\n",
       "5  121   135   140   122  \n",
       "6  2     2     1     1    \n",
       "7  166   193   204   172  \n",
       "8  140   147   132   143  \n",
       "9  1     2     3     -    \n",
       "10 181   203   172   211  \n",
       "11 75    109   107   90   \n",
       "12 1     1     1     -    \n",
       "13 107   157   156   137  \n",
       "14 109   102   104   100  "
      ]
     },
     "metadata": {},
     "output_type": "display_data"
    }
   ],
   "source": [
    "a[4:14,]"
   ]
  },
  {
   "cell_type": "code",
   "execution_count": 22,
   "id": "2427f07d",
   "metadata": {},
   "outputs": [
    {
     "data": {
      "text/html": [
       "<table>\n",
       "<thead><tr><th scope=col>년도</th><th scope=col>월</th><th scope=col>자치구명</th><th scope=col>발생건수</th><th scope=col>사망자수</th><th scope=col>부상자수</th></tr></thead>\n",
       "<tbody>\n",
       "\t<tr><td>2011  </td><td>1     </td><td>종로구</td><td>115   </td><td>2     </td><td>165   </td></tr>\n",
       "\t<tr><td>2011  </td><td>2     </td><td>종로구</td><td> 99   </td><td>0     </td><td>134   </td></tr>\n",
       "\t<tr><td>2011  </td><td>3     </td><td>종로구</td><td>116   </td><td>0     </td><td>162   </td></tr>\n",
       "\t<tr><td>2011  </td><td>4     </td><td>종로구</td><td>110   </td><td>1     </td><td>153   </td></tr>\n",
       "\t<tr><td>2011  </td><td>5     </td><td>종로구</td><td>122   </td><td>0     </td><td>157   </td></tr>\n",
       "\t<tr><td>2011  </td><td>6     </td><td>종로구</td><td>116   </td><td>3     </td><td>163   </td></tr>\n",
       "</tbody>\n",
       "</table>\n"
      ],
      "text/latex": [
       "\\begin{tabular}{r|llllll}\n",
       " 년도 & 월 & 자치구명 & 발생건수 & 사망자수 & 부상자수\\\\\n",
       "\\hline\n",
       "\t 2011   & 1      & 종로구 & 115    & 2      & 165   \\\\\n",
       "\t 2011   & 2      & 종로구 &  99    & 0      & 134   \\\\\n",
       "\t 2011   & 3      & 종로구 & 116    & 0      & 162   \\\\\n",
       "\t 2011   & 4      & 종로구 & 110    & 1      & 153   \\\\\n",
       "\t 2011   & 5      & 종로구 & 122    & 0      & 157   \\\\\n",
       "\t 2011   & 6      & 종로구 & 116    & 3      & 163   \\\\\n",
       "\\end{tabular}\n"
      ],
      "text/markdown": [
       "\n",
       "| 년도 | 월 | 자치구명 | 발생건수 | 사망자수 | 부상자수 |\n",
       "|---|---|---|---|---|---|\n",
       "| 2011   | 1      | 종로구 | 115    | 2      | 165    |\n",
       "| 2011   | 2      | 종로구 |  99    | 0      | 134    |\n",
       "| 2011   | 3      | 종로구 | 116    | 0      | 162    |\n",
       "| 2011   | 4      | 종로구 | 110    | 1      | 153    |\n",
       "| 2011   | 5      | 종로구 | 122    | 0      | 157    |\n",
       "| 2011   | 6      | 종로구 | 116    | 3      | 163    |\n",
       "\n"
      ],
      "text/plain": [
       "  년도 월 자치구명 발생건수 사망자수 부상자수\n",
       "1 2011 1  종로구   115      2        165     \n",
       "2 2011 2  종로구    99      0        134     \n",
       "3 2011 3  종로구   116      0        162     \n",
       "4 2011 4  종로구   110      1        153     \n",
       "5 2011 5  종로구   122      0        157     \n",
       "6 2011 6  종로구   116      3        163     "
      ]
     },
     "metadata": {},
     "output_type": "display_data"
    }
   ],
   "source": [
    "head(seoul)"
   ]
  },
  {
   "cell_type": "code",
   "execution_count": 41,
   "id": "3b74b257",
   "metadata": {},
   "outputs": [
    {
     "data": {
      "text/html": [
       "<table>\n",
       "<thead><tr><th></th><th scope=col>V4</th><th scope=col>V5</th><th scope=col>V6</th><th scope=col>V7</th><th scope=col>V8</th><th scope=col>V9</th><th scope=col>V10</th><th scope=col>V11</th><th scope=col>V12</th><th scope=col>V13</th><th scope=col>V14</th><th scope=col>V15</th></tr></thead>\n",
       "<tbody>\n",
       "\t<tr><th scope=row>3</th><td>435   </td><td>36    </td><td>32    </td><td>20    </td><td>44    </td><td>36    </td><td>37    </td><td>36    </td><td>50    </td><td>37    </td><td>25    </td><td>40    </td></tr>\n",
       "\t<tr><th scope=row>4</th><td>57,625</td><td>4,429 </td><td>3,734 </td><td>4,513 </td><td>4,905 </td><td>5,036 </td><td>4,831 </td><td>5,067 </td><td>4,823 </td><td>4,893 </td><td>5,244 </td><td>5,150 </td></tr>\n",
       "\t<tr><th scope=row>5</th><td>1,421 </td><td>115   </td><td>99    </td><td>116   </td><td>110   </td><td>122   </td><td>116   </td><td>103   </td><td>122   </td><td>121   </td><td>135   </td><td>140   </td></tr>\n",
       "</tbody>\n",
       "</table>\n"
      ],
      "text/latex": [
       "\\begin{tabular}{r|llllllllllll}\n",
       "  & V4 & V5 & V6 & V7 & V8 & V9 & V10 & V11 & V12 & V13 & V14 & V15\\\\\n",
       "\\hline\n",
       "\t3 & 435    & 36     & 32     & 20     & 44     & 36     & 37     & 36     & 50     & 37     & 25     & 40    \\\\\n",
       "\t4 & 57,625 & 4,429  & 3,734  & 4,513  & 4,905  & 5,036  & 4,831  & 5,067  & 4,823  & 4,893  & 5,244  & 5,150 \\\\\n",
       "\t5 & 1,421  & 115    & 99     & 116    & 110    & 122    & 116    & 103    & 122    & 121    & 135    & 140   \\\\\n",
       "\\end{tabular}\n"
      ],
      "text/markdown": [
       "\n",
       "| <!--/--> | V4 | V5 | V6 | V7 | V8 | V9 | V10 | V11 | V12 | V13 | V14 | V15 |\n",
       "|---|---|---|---|---|---|---|---|---|---|---|---|---|\n",
       "| 3 | 435    | 36     | 32     | 20     | 44     | 36     | 37     | 36     | 50     | 37     | 25     | 40     |\n",
       "| 4 | 57,625 | 4,429  | 3,734  | 4,513  | 4,905  | 5,036  | 4,831  | 5,067  | 4,823  | 4,893  | 5,244  | 5,150  |\n",
       "| 5 | 1,421  | 115    | 99     | 116    | 110    | 122    | 116    | 103    | 122    | 121    | 135    | 140    |\n",
       "\n"
      ],
      "text/plain": [
       "  V4     V5    V6    V7    V8    V9    V10   V11   V12   V13   V14   V15  \n",
       "3 435    36    32    20    44    36    37    36    50    37    25    40   \n",
       "4 57,625 4,429 3,734 4,513 4,905 5,036 4,831 5,067 4,823 4,893 5,244 5,150\n",
       "5 1,421  115   99    116   110   122   116   103   122   121   135   140  "
      ]
     },
     "metadata": {},
     "output_type": "display_data"
    }
   ],
   "source": [
    "ta1[3:5,4:15]"
   ]
  },
  {
   "cell_type": "code",
   "execution_count": 45,
   "id": "b2af93ab",
   "metadata": {},
   "outputs": [
    {
     "data": {
      "text/html": [
       "<table>\n",
       "<thead><tr><th scope=col>V4</th><th scope=col>V5</th><th scope=col>V6</th><th scope=col>V7</th><th scope=col>V8</th><th scope=col>V9</th><th scope=col>V10</th><th scope=col>V11</th><th scope=col>V12</th><th scope=col>V13</th><th scope=col>V14</th><th scope=col>V15</th></tr></thead>\n",
       "<tbody>\n",
       "\t<tr><td>합계  </td><td>1월   </td><td>2월   </td><td>3월   </td><td>4월   </td><td>5월   </td><td>6월   </td><td>7월   </td><td>8월   </td><td>9월   </td><td>10월  </td><td>11월  </td></tr>\n",
       "\t<tr><td>40,451</td><td>3,038 </td><td>2,573 </td><td>3,126 </td><td>3,450 </td><td>3,603 </td><td>3,390 </td><td>3,529 </td><td>3,360 </td><td>3,433 </td><td>3,734 </td><td>3,701 </td></tr>\n",
       "\t<tr><td>435   </td><td>36    </td><td>32    </td><td>20    </td><td>44    </td><td>36    </td><td>37    </td><td>36    </td><td>50    </td><td>37    </td><td>25    </td><td>40    </td></tr>\n",
       "</tbody>\n",
       "</table>\n"
      ],
      "text/latex": [
       "\\begin{tabular}{r|llllllllllll}\n",
       " V4 & V5 & V6 & V7 & V8 & V9 & V10 & V11 & V12 & V13 & V14 & V15\\\\\n",
       "\\hline\n",
       "\t 합계   & 1월    & 2월    & 3월    & 4월    & 5월    & 6월    & 7월    & 8월    & 9월    & 10월   & 11월  \\\\\n",
       "\t 40,451 & 3,038  & 2,573  & 3,126  & 3,450  & 3,603  & 3,390  & 3,529  & 3,360  & 3,433  & 3,734  & 3,701 \\\\\n",
       "\t 435    & 36     & 32     & 20     & 44     & 36     & 37     & 36     & 50     & 37     & 25     & 40    \\\\\n",
       "\\end{tabular}\n"
      ],
      "text/markdown": [
       "\n",
       "| V4 | V5 | V6 | V7 | V8 | V9 | V10 | V11 | V12 | V13 | V14 | V15 |\n",
       "|---|---|---|---|---|---|---|---|---|---|---|---|\n",
       "| 합계   | 1월    | 2월    | 3월    | 4월    | 5월    | 6월    | 7월    | 8월    | 9월    | 10월   | 11월   |\n",
       "| 40,451 | 3,038  | 2,573  | 3,126  | 3,450  | 3,603  | 3,390  | 3,529  | 3,360  | 3,433  | 3,734  | 3,701  |\n",
       "| 435    | 36     | 32     | 20     | 44     | 36     | 37     | 36     | 50     | 37     | 25     | 40     |\n",
       "\n"
      ],
      "text/plain": [
       "  V4     V5    V6    V7    V8    V9    V10   V11   V12   V13   V14   V15  \n",
       "1 합계   1월   2월   3월   4월   5월   6월   7월   8월   9월   10월  11월 \n",
       "2 40,451 3,038 2,573 3,126 3,450 3,603 3,390 3,529 3,360 3,433 3,734 3,701\n",
       "3 435    36    32    20    44    36    37    36    50    37    25    40   "
      ]
     },
     "metadata": {},
     "output_type": "display_data"
    }
   ],
   "source": [
    "ta1 <- a\n",
    "\n",
    "d = 1\n",
    "\n",
    "for(i in 1:2){\n",
    "dd <- d+2\n",
    "c <- ta1[d:dd,4:15]\n",
    "}\n",
    "c"
   ]
  },
  {
   "cell_type": "code",
   "execution_count": 43,
   "id": "4637714a",
   "metadata": {},
   "outputs": [
    {
     "data": {
      "text/html": [
       "'numeric'"
      ],
      "text/latex": [
       "'numeric'"
      ],
      "text/markdown": [
       "'numeric'"
      ],
      "text/plain": [
       "[1] \"numeric\""
      ]
     },
     "metadata": {},
     "output_type": "display_data"
    }
   ],
   "source": [
    "class(d)"
   ]
  },
  {
   "cell_type": "code",
   "execution_count": 47,
   "id": "1bd0e94e",
   "metadata": {},
   "outputs": [
    {
     "data": {
      "text/html": [
       "<table>\n",
       "<thead><tr><th></th><th scope=col>V1</th><th scope=col>V2</th><th scope=col>V3</th><th scope=col>V4</th><th scope=col>V5</th><th scope=col>V6</th><th scope=col>V7</th><th scope=col>V8</th><th scope=col>V9</th><th scope=col>V10</th><th scope=col>...</th><th scope=col>V7</th><th scope=col>V8</th><th scope=col>V9</th><th scope=col>V10</th><th scope=col>V11</th><th scope=col>V12</th><th scope=col>V13</th><th scope=col>V14</th><th scope=col>V15</th><th scope=col>V16</th></tr></thead>\n",
       "<tbody>\n",
       "\t<tr><th scope=row>76</th><td>2011    </td><td>송파구  </td><td>부상자수</td><td>3,632   </td><td>252     </td><td>226     </td><td>306     </td><td>284     </td><td>281     </td><td>325     </td><td>...     </td><td>4,513   </td><td>4,905   </td><td>5,036   </td><td>4,831   </td><td>5,067   </td><td>4,823   </td><td>4,893   </td><td>5,244   </td><td>5,150   </td><td>5,000   </td></tr>\n",
       "\t<tr><th scope=row>77</th><td>2011    </td><td>강동구  </td><td>발생건수</td><td>1,423   </td><td>114     </td><td>80      </td><td>106     </td><td>113     </td><td>128     </td><td>109     </td><td>...     </td><td>116     </td><td>110     </td><td>122     </td><td>116     </td><td>103     </td><td>122     </td><td>121     </td><td>135     </td><td>140     </td><td>122     </td></tr>\n",
       "\t<tr><th scope=row>78</th><td>2011    </td><td>강동구  </td><td>사망자수</td><td>13      </td><td>1       </td><td>-       </td><td>2       </td><td>1       </td><td>-       </td><td>2       </td><td>...     </td><td>-       </td><td>1       </td><td>-       </td><td>3       </td><td>1       </td><td>1       </td><td>2       </td><td>2       </td><td>1       </td><td>1       </td></tr>\n",
       "</tbody>\n",
       "</table>\n"
      ],
      "text/latex": [
       "\\begin{tabular}{r|llllllllllllllllllllllllllllllllllllllllllllllll}\n",
       "  & V1 & V2 & V3 & V4 & V5 & V6 & V7 & V8 & V9 & V10 & ... & V7 & V8 & V9 & V10 & V11 & V12 & V13 & V14 & V15 & V16\\\\\n",
       "\\hline\n",
       "\t76 & 2011     & 송파구   & 부상자수 & 3,632    & 252      & 226      & 306      & 284      & 281      & 325      & ...      & 4,513    & 4,905    & 5,036    & 4,831    & 5,067    & 4,823    & 4,893    & 5,244    & 5,150    & 5,000   \\\\\n",
       "\t77 & 2011     & 강동구   & 발생건수 & 1,423    & 114      & 80       & 106      & 113      & 128      & 109      & ...      & 116      & 110      & 122      & 116      & 103      & 122      & 121      & 135      & 140      & 122     \\\\\n",
       "\t78 & 2011     & 강동구   & 사망자수 & 13       & 1        & -        & 2        & 1        & -        & 2        & ...      & -        & 1        & -        & 3        & 1        & 1        & 2        & 2        & 1        & 1       \\\\\n",
       "\\end{tabular}\n"
      ],
      "text/markdown": [
       "\n",
       "| <!--/--> | V1 | V2 | V3 | V4 | V5 | V6 | V7 | V8 | V9 | V10 | ... | V7 | V8 | V9 | V10 | V11 | V12 | V13 | V14 | V15 | V16 |\n",
       "|---|---|---|---|---|---|---|---|---|---|---|---|---|---|---|---|---|---|---|---|---|---|\n",
       "| 76 | 2011     | 송파구   | 부상자수 | 3,632    | 252      | 226      | 306      | 284      | 281      | 325      | ...      | 4,513    | 4,905    | 5,036    | 4,831    | 5,067    | 4,823    | 4,893    | 5,244    | 5,150    | 5,000    |\n",
       "| 77 | 2011     | 강동구   | 발생건수 | 1,423    | 114      | 80       | 106      | 113      | 128      | 109      | ...      | 116      | 110      | 122      | 116      | 103      | 122      | 121      | 135      | 140      | 122      |\n",
       "| 78 | 2011     | 강동구   | 사망자수 | 13       | 1        | -        | 2        | 1        | -        | 2        | ...      | -        | 1        | -        | 3        | 1        | 1        | 2        | 2        | 1        | 1        |\n",
       "\n"
      ],
      "text/plain": [
       "   V1   V2     V3       V4    V5  V6  V7  V8  V9  V10 ... V7    V8    V9   \n",
       "76 2011 송파구 부상자수 3,632 252 226 306 284 281 325 ... 4,513 4,905 5,036\n",
       "77 2011 강동구 발생건수 1,423 114 80  106 113 128 109 ... 116   110   122  \n",
       "78 2011 강동구 사망자수 13    1   -   2   1   -   2   ... -     1     -    \n",
       "   V10   V11   V12   V13   V14   V15   V16  \n",
       "76 4,831 5,067 4,823 4,893 5,244 5,150 5,000\n",
       "77 116   103   122   121   135   140   122  \n",
       "78 3     1     1     2     2     1     1    "
      ]
     },
     "metadata": {},
     "output_type": "display_data"
    }
   ],
   "source": [
    "d = 1\n",
    "for(i in 1:2){\n",
    "    \n",
    "    dd <- d+2\n",
    "    \n",
    "   a <- cbind(a, ta1[d:dd,])\n",
    "    d = d+3\n",
    "}\n",
    "a"
   ]
  },
  {
   "cell_type": "code",
   "execution_count": 48,
   "id": "ba012c4b",
   "metadata": {},
   "outputs": [
    {
     "data": {
      "text/html": [
       "<table>\n",
       "<thead><tr><th></th><th scope=col>76</th><th scope=col>77</th><th scope=col>78</th></tr></thead>\n",
       "<tbody>\n",
       "\t<tr><th scope=row>V1</th><td>2011    </td><td>2011    </td><td>2011    </td></tr>\n",
       "\t<tr><th scope=row>V2</th><td>송파구  </td><td>강동구  </td><td>강동구  </td></tr>\n",
       "\t<tr><th scope=row>V3</th><td>부상자수</td><td>발생건수</td><td>사망자수</td></tr>\n",
       "\t<tr><th scope=row>V4</th><td>3,632   </td><td>1,423   </td><td>13      </td></tr>\n",
       "\t<tr><th scope=row>V5</th><td>252     </td><td>114     </td><td>1       </td></tr>\n",
       "\t<tr><th scope=row>V6</th><td>226     </td><td>80      </td><td>-       </td></tr>\n",
       "\t<tr><th scope=row>V7</th><td>306     </td><td>106     </td><td>2       </td></tr>\n",
       "\t<tr><th scope=row>V8</th><td>284     </td><td>113     </td><td>1       </td></tr>\n",
       "\t<tr><th scope=row>V9</th><td>281     </td><td>128     </td><td>-       </td></tr>\n",
       "\t<tr><th scope=row>V10</th><td>325     </td><td>109     </td><td>2       </td></tr>\n",
       "\t<tr><th scope=row>V11</th><td>324     </td><td>126     </td><td>2       </td></tr>\n",
       "\t<tr><th scope=row>V12</th><td>301     </td><td>120     </td><td>3       </td></tr>\n",
       "\t<tr><th scope=row>V13</th><td>270     </td><td>137     </td><td>1       </td></tr>\n",
       "\t<tr><th scope=row>V14</th><td>314     </td><td>149     </td><td>1       </td></tr>\n",
       "\t<tr><th scope=row>V15</th><td>360     </td><td>126     </td><td>-       </td></tr>\n",
       "\t<tr><th scope=row>V16</th><td>389     </td><td>115     </td><td>-       </td></tr>\n",
       "\t<tr><th scope=row>V1</th><td>기간    </td><td>2011    </td><td>2011    </td></tr>\n",
       "\t<tr><th scope=row>V2</th><td>자치구별</td><td>합계    </td><td>합계    </td></tr>\n",
       "\t<tr><th scope=row>V3</th><td>구분    </td><td>발생건수</td><td>사망자수</td></tr>\n",
       "\t<tr><th scope=row>V4</th><td>합계    </td><td>40,451  </td><td>435     </td></tr>\n",
       "\t<tr><th scope=row>V5</th><td>1월     </td><td>3,038   </td><td>36      </td></tr>\n",
       "\t<tr><th scope=row>V6</th><td>2월     </td><td>2,573   </td><td>32      </td></tr>\n",
       "\t<tr><th scope=row>V7</th><td>3월     </td><td>3,126   </td><td>20      </td></tr>\n",
       "\t<tr><th scope=row>V8</th><td>4월     </td><td>3,450   </td><td>44      </td></tr>\n",
       "\t<tr><th scope=row>V9</th><td>5월     </td><td>3,603   </td><td>36      </td></tr>\n",
       "\t<tr><th scope=row>V10</th><td>6월     </td><td>3,390   </td><td>37      </td></tr>\n",
       "\t<tr><th scope=row>V11</th><td>7월     </td><td>3,529   </td><td>36      </td></tr>\n",
       "\t<tr><th scope=row>V12</th><td>8월     </td><td>3,360   </td><td>50      </td></tr>\n",
       "\t<tr><th scope=row>V13</th><td>9월     </td><td>3,433   </td><td>37      </td></tr>\n",
       "\t<tr><th scope=row>V14</th><td>10월    </td><td>3,734   </td><td>25      </td></tr>\n",
       "\t<tr><th scope=row>V15</th><td>11월    </td><td>3,701   </td><td>40      </td></tr>\n",
       "\t<tr><th scope=row>V16</th><td>12월    </td><td>3,514   </td><td>42      </td></tr>\n",
       "\t<tr><th scope=row>V1</th><td>2011    </td><td>2011    </td><td>2011    </td></tr>\n",
       "\t<tr><th scope=row>V2</th><td>합계    </td><td>종로구  </td><td>종로구  </td></tr>\n",
       "\t<tr><th scope=row>V3</th><td>부상자수</td><td>발생건수</td><td>사망자수</td></tr>\n",
       "\t<tr><th scope=row>V4</th><td>57,625  </td><td>1,421   </td><td>14      </td></tr>\n",
       "\t<tr><th scope=row>V5</th><td>4,429   </td><td>115     </td><td>2       </td></tr>\n",
       "\t<tr><th scope=row>V6</th><td>3,734   </td><td>99      </td><td>-       </td></tr>\n",
       "\t<tr><th scope=row>V7</th><td>4,513   </td><td>116     </td><td>-       </td></tr>\n",
       "\t<tr><th scope=row>V8</th><td>4,905   </td><td>110     </td><td>1       </td></tr>\n",
       "\t<tr><th scope=row>V9</th><td>5,036   </td><td>122     </td><td>-       </td></tr>\n",
       "\t<tr><th scope=row>V10</th><td>4,831   </td><td>116     </td><td>3       </td></tr>\n",
       "\t<tr><th scope=row>V11</th><td>5,067   </td><td>103     </td><td>1       </td></tr>\n",
       "\t<tr><th scope=row>V12</th><td>4,823   </td><td>122     </td><td>1       </td></tr>\n",
       "\t<tr><th scope=row>V13</th><td>4,893   </td><td>121     </td><td>2       </td></tr>\n",
       "\t<tr><th scope=row>V14</th><td>5,244   </td><td>135     </td><td>2       </td></tr>\n",
       "\t<tr><th scope=row>V15</th><td>5,150   </td><td>140     </td><td>1       </td></tr>\n",
       "\t<tr><th scope=row>V16</th><td>5,000   </td><td>122     </td><td>1       </td></tr>\n",
       "</tbody>\n",
       "</table>\n"
      ],
      "text/latex": [
       "\\begin{tabular}{r|lll}\n",
       "  & 76 & 77 & 78\\\\\n",
       "\\hline\n",
       "\tV1 & 2011     & 2011     & 2011    \\\\\n",
       "\tV2 & 송파구   & 강동구   & 강동구  \\\\\n",
       "\tV3 & 부상자수 & 발생건수 & 사망자수\\\\\n",
       "\tV4 & 3,632    & 1,423    & 13      \\\\\n",
       "\tV5 & 252      & 114      & 1       \\\\\n",
       "\tV6 & 226      & 80       & -       \\\\\n",
       "\tV7 & 306      & 106      & 2       \\\\\n",
       "\tV8 & 284      & 113      & 1       \\\\\n",
       "\tV9 & 281      & 128      & -       \\\\\n",
       "\tV10 & 325      & 109      & 2       \\\\\n",
       "\tV11 & 324      & 126      & 2       \\\\\n",
       "\tV12 & 301      & 120      & 3       \\\\\n",
       "\tV13 & 270      & 137      & 1       \\\\\n",
       "\tV14 & 314      & 149      & 1       \\\\\n",
       "\tV15 & 360      & 126      & -       \\\\\n",
       "\tV16 & 389      & 115      & -       \\\\\n",
       "\tV1 & 기간     & 2011     & 2011    \\\\\n",
       "\tV2 & 자치구별 & 합계     & 합계    \\\\\n",
       "\tV3 & 구분     & 발생건수 & 사망자수\\\\\n",
       "\tV4 & 합계     & 40,451   & 435     \\\\\n",
       "\tV5 & 1월      & 3,038    & 36      \\\\\n",
       "\tV6 & 2월      & 2,573    & 32      \\\\\n",
       "\tV7 & 3월      & 3,126    & 20      \\\\\n",
       "\tV8 & 4월      & 3,450    & 44      \\\\\n",
       "\tV9 & 5월      & 3,603    & 36      \\\\\n",
       "\tV10 & 6월      & 3,390    & 37      \\\\\n",
       "\tV11 & 7월      & 3,529    & 36      \\\\\n",
       "\tV12 & 8월      & 3,360    & 50      \\\\\n",
       "\tV13 & 9월      & 3,433    & 37      \\\\\n",
       "\tV14 & 10월     & 3,734    & 25      \\\\\n",
       "\tV15 & 11월     & 3,701    & 40      \\\\\n",
       "\tV16 & 12월     & 3,514    & 42      \\\\\n",
       "\tV1 & 2011     & 2011     & 2011    \\\\\n",
       "\tV2 & 합계     & 종로구   & 종로구  \\\\\n",
       "\tV3 & 부상자수 & 발생건수 & 사망자수\\\\\n",
       "\tV4 & 57,625   & 1,421    & 14      \\\\\n",
       "\tV5 & 4,429    & 115      & 2       \\\\\n",
       "\tV6 & 3,734    & 99       & -       \\\\\n",
       "\tV7 & 4,513    & 116      & -       \\\\\n",
       "\tV8 & 4,905    & 110      & 1       \\\\\n",
       "\tV9 & 5,036    & 122      & -       \\\\\n",
       "\tV10 & 4,831    & 116      & 3       \\\\\n",
       "\tV11 & 5,067    & 103      & 1       \\\\\n",
       "\tV12 & 4,823    & 122      & 1       \\\\\n",
       "\tV13 & 4,893    & 121      & 2       \\\\\n",
       "\tV14 & 5,244    & 135      & 2       \\\\\n",
       "\tV15 & 5,150    & 140      & 1       \\\\\n",
       "\tV16 & 5,000    & 122      & 1       \\\\\n",
       "\\end{tabular}\n"
      ],
      "text/markdown": [
       "\n",
       "| <!--/--> | 76 | 77 | 78 |\n",
       "|---|---|---|---|\n",
       "| V1 | 2011     | 2011     | 2011     |\n",
       "| V2 | 송파구   | 강동구   | 강동구   |\n",
       "| V3 | 부상자수 | 발생건수 | 사망자수 |\n",
       "| V4 | 3,632    | 1,423    | 13       |\n",
       "| V5 | 252      | 114      | 1        |\n",
       "| V6 | 226      | 80       | -        |\n",
       "| V7 | 306      | 106      | 2        |\n",
       "| V8 | 284      | 113      | 1        |\n",
       "| V9 | 281      | 128      | -        |\n",
       "| V10 | 325      | 109      | 2        |\n",
       "| V11 | 324      | 126      | 2        |\n",
       "| V12 | 301      | 120      | 3        |\n",
       "| V13 | 270      | 137      | 1        |\n",
       "| V14 | 314      | 149      | 1        |\n",
       "| V15 | 360      | 126      | -        |\n",
       "| V16 | 389      | 115      | -        |\n",
       "| V1 | 기간     | 2011     | 2011     |\n",
       "| V2 | 자치구별 | 합계     | 합계     |\n",
       "| V3 | 구분     | 발생건수 | 사망자수 |\n",
       "| V4 | 합계     | 40,451   | 435      |\n",
       "| V5 | 1월      | 3,038    | 36       |\n",
       "| V6 | 2월      | 2,573    | 32       |\n",
       "| V7 | 3월      | 3,126    | 20       |\n",
       "| V8 | 4월      | 3,450    | 44       |\n",
       "| V9 | 5월      | 3,603    | 36       |\n",
       "| V10 | 6월      | 3,390    | 37       |\n",
       "| V11 | 7월      | 3,529    | 36       |\n",
       "| V12 | 8월      | 3,360    | 50       |\n",
       "| V13 | 9월      | 3,433    | 37       |\n",
       "| V14 | 10월     | 3,734    | 25       |\n",
       "| V15 | 11월     | 3,701    | 40       |\n",
       "| V16 | 12월     | 3,514    | 42       |\n",
       "| V1 | 2011     | 2011     | 2011     |\n",
       "| V2 | 합계     | 종로구   | 종로구   |\n",
       "| V3 | 부상자수 | 발생건수 | 사망자수 |\n",
       "| V4 | 57,625   | 1,421    | 14       |\n",
       "| V5 | 4,429    | 115      | 2        |\n",
       "| V6 | 3,734    | 99       | -        |\n",
       "| V7 | 4,513    | 116      | -        |\n",
       "| V8 | 4,905    | 110      | 1        |\n",
       "| V9 | 5,036    | 122      | -        |\n",
       "| V10 | 4,831    | 116      | 3        |\n",
       "| V11 | 5,067    | 103      | 1        |\n",
       "| V12 | 4,823    | 122      | 1        |\n",
       "| V13 | 4,893    | 121      | 2        |\n",
       "| V14 | 5,244    | 135      | 2        |\n",
       "| V15 | 5,150    | 140      | 1        |\n",
       "| V16 | 5,000    | 122      | 1        |\n",
       "\n"
      ],
      "text/plain": [
       "    76       77       78      \n",
       "V1  2011     2011     2011    \n",
       "V2  송파구   강동구   강동구  \n",
       "V3  부상자수 발생건수 사망자수\n",
       "V4  3,632    1,423    13      \n",
       "V5  252      114      1       \n",
       "V6  226      80       -       \n",
       "V7  306      106      2       \n",
       "V8  284      113      1       \n",
       "V9  281      128      -       \n",
       "V10 325      109      2       \n",
       "V11 324      126      2       \n",
       "V12 301      120      3       \n",
       "V13 270      137      1       \n",
       "V14 314      149      1       \n",
       "V15 360      126      -       \n",
       "V16 389      115      -       \n",
       "V1  기간     2011     2011    \n",
       "V2  자치구별 합계     합계    \n",
       "V3  구분     발생건수 사망자수\n",
       "V4  합계     40,451   435     \n",
       "V5  1월      3,038    36      \n",
       "V6  2월      2,573    32      \n",
       "V7  3월      3,126    20      \n",
       "V8  4월      3,450    44      \n",
       "V9  5월      3,603    36      \n",
       "V10 6월      3,390    37      \n",
       "V11 7월      3,529    36      \n",
       "V12 8월      3,360    50      \n",
       "V13 9월      3,433    37      \n",
       "V14 10월     3,734    25      \n",
       "V15 11월     3,701    40      \n",
       "V16 12월     3,514    42      \n",
       "V1  2011     2011     2011    \n",
       "V2  합계     종로구   종로구  \n",
       "V3  부상자수 발생건수 사망자수\n",
       "V4  57,625   1,421    14      \n",
       "V5  4,429    115      2       \n",
       "V6  3,734    99       -       \n",
       "V7  4,513    116      -       \n",
       "V8  4,905    110      1       \n",
       "V9  5,036    122      -       \n",
       "V10 4,831    116      3       \n",
       "V11 5,067    103      1       \n",
       "V12 4,823    122      1       \n",
       "V13 4,893    121      2       \n",
       "V14 5,244    135      2       \n",
       "V15 5,150    140      1       \n",
       "V16 5,000    122      1       "
      ]
     },
     "metadata": {},
     "output_type": "display_data"
    }
   ],
   "source": [
    "t(a)"
   ]
  },
  {
   "cell_type": "code",
   "execution_count": null,
   "id": "e1016fe6",
   "metadata": {},
   "outputs": [],
   "source": []
  }
 ],
 "metadata": {
  "kernelspec": {
   "display_name": "R",
   "language": "R",
   "name": "ir"
  },
  "language_info": {
   "codemirror_mode": "r",
   "file_extension": ".r",
   "mimetype": "text/x-r-source",
   "name": "R",
   "pygments_lexer": "r",
   "version": "3.6.1"
  }
 },
 "nbformat": 4,
 "nbformat_minor": 5
}
