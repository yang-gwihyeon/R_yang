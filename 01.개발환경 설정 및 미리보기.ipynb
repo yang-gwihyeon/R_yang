{
 "cells": [
  {
   "cell_type": "markdown",
   "metadata": {},
   "source": [
    "# R의 미리보기"
   ]
  },
  {
   "cell_type": "code",
   "execution_count": 1,
   "metadata": {
    "vscode": {
     "languageId": "r"
    }
   },
   "outputs": [
    {
     "data": {
      "text/html": [
       "<table>\n",
       "<thead><tr><th scope=col>Sepal.Length</th><th scope=col>Sepal.Width</th><th scope=col>Petal.Length</th><th scope=col>Petal.Width</th><th scope=col>Species</th></tr></thead>\n",
       "<tbody>\n",
       "\t<tr><td>5.1   </td><td>3.5   </td><td>1.4   </td><td>0.2   </td><td>setosa</td></tr>\n",
       "\t<tr><td>4.9   </td><td>3.0   </td><td>1.4   </td><td>0.2   </td><td>setosa</td></tr>\n",
       "\t<tr><td>4.7   </td><td>3.2   </td><td>1.3   </td><td>0.2   </td><td>setosa</td></tr>\n",
       "\t<tr><td>4.6   </td><td>3.1   </td><td>1.5   </td><td>0.2   </td><td>setosa</td></tr>\n",
       "\t<tr><td>5.0   </td><td>3.6   </td><td>1.4   </td><td>0.2   </td><td>setosa</td></tr>\n",
       "\t<tr><td>5.4   </td><td>3.9   </td><td>1.7   </td><td>0.4   </td><td>setosa</td></tr>\n",
       "</tbody>\n",
       "</table>\n"
      ],
      "text/latex": [
       "\\begin{tabular}{r|lllll}\n",
       " Sepal.Length & Sepal.Width & Petal.Length & Petal.Width & Species\\\\\n",
       "\\hline\n",
       "\t 5.1    & 3.5    & 1.4    & 0.2    & setosa\\\\\n",
       "\t 4.9    & 3.0    & 1.4    & 0.2    & setosa\\\\\n",
       "\t 4.7    & 3.2    & 1.3    & 0.2    & setosa\\\\\n",
       "\t 4.6    & 3.1    & 1.5    & 0.2    & setosa\\\\\n",
       "\t 5.0    & 3.6    & 1.4    & 0.2    & setosa\\\\\n",
       "\t 5.4    & 3.9    & 1.7    & 0.4    & setosa\\\\\n",
       "\\end{tabular}\n"
      ],
      "text/markdown": [
       "\n",
       "| Sepal.Length | Sepal.Width | Petal.Length | Petal.Width | Species |\n",
       "|---|---|---|---|---|\n",
       "| 5.1    | 3.5    | 1.4    | 0.2    | setosa |\n",
       "| 4.9    | 3.0    | 1.4    | 0.2    | setosa |\n",
       "| 4.7    | 3.2    | 1.3    | 0.2    | setosa |\n",
       "| 4.6    | 3.1    | 1.5    | 0.2    | setosa |\n",
       "| 5.0    | 3.6    | 1.4    | 0.2    | setosa |\n",
       "| 5.4    | 3.9    | 1.7    | 0.4    | setosa |\n",
       "\n"
      ],
      "text/plain": [
       "  Sepal.Length Sepal.Width Petal.Length Petal.Width Species\n",
       "1 5.1          3.5         1.4          0.2         setosa \n",
       "2 4.9          3.0         1.4          0.2         setosa \n",
       "3 4.7          3.2         1.3          0.2         setosa \n",
       "4 4.6          3.1         1.5          0.2         setosa \n",
       "5 5.0          3.6         1.4          0.2         setosa \n",
       "6 5.4          3.9         1.7          0.4         setosa "
      ]
     },
     "metadata": {},
     "output_type": "display_data"
    }
   ],
   "source": [
    "# head는 전체 데이터셋 중에 처음부터 6개만 보여준다\n",
    "\n",
    "head(iris)"
   ]
  },
  {
   "cell_type": "markdown",
   "metadata": {},
   "source": [
    "> 처음부터 6개의 샘플을 잘 나왔다.\n",
    "<br>\n",
    "<br>\n",
    "---"
   ]
  },
  {
   "cell_type": "code",
   "execution_count": 2,
   "metadata": {
    "vscode": {
     "languageId": "r"
    }
   },
   "outputs": [],
   "source": [
    "# 필요한 데이터만 가지고 변수 만들기\n",
    "\n",
    "a <- head(iris)"
   ]
  },
  {
   "cell_type": "code",
   "execution_count": 4,
   "metadata": {
    "vscode": {
     "languageId": "r"
    }
   },
   "outputs": [
    {
     "data": {
      "text/html": [
       "<table>\n",
       "<thead><tr><th scope=col>Sepal.Length</th><th scope=col>Sepal.Width</th><th scope=col>Petal.Length</th><th scope=col>Petal.Width</th><th scope=col>Species</th></tr></thead>\n",
       "<tbody>\n",
       "\t<tr><td>5.1   </td><td>3.5   </td><td>1.4   </td><td>0.2   </td><td>setosa</td></tr>\n",
       "\t<tr><td>4.9   </td><td>3.0   </td><td>1.4   </td><td>0.2   </td><td>setosa</td></tr>\n",
       "\t<tr><td>4.7   </td><td>3.2   </td><td>1.3   </td><td>0.2   </td><td>setosa</td></tr>\n",
       "\t<tr><td>4.6   </td><td>3.1   </td><td>1.5   </td><td>0.2   </td><td>setosa</td></tr>\n",
       "\t<tr><td>5.0   </td><td>3.6   </td><td>1.4   </td><td>0.2   </td><td>setosa</td></tr>\n",
       "\t<tr><td>5.4   </td><td>3.9   </td><td>1.7   </td><td>0.4   </td><td>setosa</td></tr>\n",
       "</tbody>\n",
       "</table>\n"
      ],
      "text/latex": [
       "\\begin{tabular}{r|lllll}\n",
       " Sepal.Length & Sepal.Width & Petal.Length & Petal.Width & Species\\\\\n",
       "\\hline\n",
       "\t 5.1    & 3.5    & 1.4    & 0.2    & setosa\\\\\n",
       "\t 4.9    & 3.0    & 1.4    & 0.2    & setosa\\\\\n",
       "\t 4.7    & 3.2    & 1.3    & 0.2    & setosa\\\\\n",
       "\t 4.6    & 3.1    & 1.5    & 0.2    & setosa\\\\\n",
       "\t 5.0    & 3.6    & 1.4    & 0.2    & setosa\\\\\n",
       "\t 5.4    & 3.9    & 1.7    & 0.4    & setosa\\\\\n",
       "\\end{tabular}\n"
      ],
      "text/markdown": [
       "\n",
       "| Sepal.Length | Sepal.Width | Petal.Length | Petal.Width | Species |\n",
       "|---|---|---|---|---|\n",
       "| 5.1    | 3.5    | 1.4    | 0.2    | setosa |\n",
       "| 4.9    | 3.0    | 1.4    | 0.2    | setosa |\n",
       "| 4.7    | 3.2    | 1.3    | 0.2    | setosa |\n",
       "| 4.6    | 3.1    | 1.5    | 0.2    | setosa |\n",
       "| 5.0    | 3.6    | 1.4    | 0.2    | setosa |\n",
       "| 5.4    | 3.9    | 1.7    | 0.4    | setosa |\n",
       "\n"
      ],
      "text/plain": [
       "  Sepal.Length Sepal.Width Petal.Length Petal.Width Species\n",
       "1 5.1          3.5         1.4          0.2         setosa \n",
       "2 4.9          3.0         1.4          0.2         setosa \n",
       "3 4.7          3.2         1.3          0.2         setosa \n",
       "4 4.6          3.1         1.5          0.2         setosa \n",
       "5 5.0          3.6         1.4          0.2         setosa \n",
       "6 5.4          3.9         1.7          0.4         setosa "
      ]
     },
     "metadata": {},
     "output_type": "display_data"
    }
   ],
   "source": [
    "a"
   ]
  },
  {
   "cell_type": "code",
   "execution_count": 5,
   "metadata": {
    "vscode": {
     "languageId": "r"
    }
   },
   "outputs": [],
   "source": [
    "a <- 100"
   ]
  },
  {
   "cell_type": "code",
   "execution_count": 6,
   "metadata": {
    "vscode": {
     "languageId": "r"
    }
   },
   "outputs": [
    {
     "data": {
      "text/html": [
       "100"
      ],
      "text/latex": [
       "100"
      ],
      "text/markdown": [
       "100"
      ],
      "text/plain": [
       "[1] 100"
      ]
     },
     "metadata": {},
     "output_type": "display_data"
    }
   ],
   "source": [
    "a"
   ]
  },
  {
   "cell_type": "code",
   "execution_count": 7,
   "metadata": {
    "vscode": {
     "languageId": "r"
    }
   },
   "outputs": [],
   "source": [
    "a <- \"Test\""
   ]
  },
  {
   "cell_type": "code",
   "execution_count": 8,
   "metadata": {
    "vscode": {
     "languageId": "r"
    }
   },
   "outputs": [
    {
     "data": {
      "text/html": [
       "'Test'"
      ],
      "text/latex": [
       "'Test'"
      ],
      "text/markdown": [
       "'Test'"
      ],
      "text/plain": [
       "[1] \"Test\""
      ]
     },
     "metadata": {},
     "output_type": "display_data"
    }
   ],
   "source": [
    "a"
   ]
  },
  {
   "cell_type": "code",
   "execution_count": 9,
   "metadata": {
    "vscode": {
     "languageId": "r"
    }
   },
   "outputs": [
    {
     "name": "stdout",
     "output_type": "stream",
     "text": [
      "[1] \"Test\"\n"
     ]
    }
   ],
   "source": [
    "print(a)"
   ]
  },
  {
   "cell_type": "code",
   "execution_count": 3,
   "metadata": {
    "vscode": {
     "languageId": "r"
    }
   },
   "outputs": [
    {
     "data": {
      "text/html": [
       "<table>\n",
       "<thead><tr><th scope=col>Sepal.Length</th><th scope=col>Sepal.Width</th><th scope=col>Petal.Length</th><th scope=col>Petal.Width</th><th scope=col>Species</th></tr></thead>\n",
       "<tbody>\n",
       "\t<tr><td>5.1   </td><td>3.5   </td><td>1.4   </td><td>0.2   </td><td>setosa</td></tr>\n",
       "\t<tr><td>4.9   </td><td>3.0   </td><td>1.4   </td><td>0.2   </td><td>setosa</td></tr>\n",
       "\t<tr><td>4.7   </td><td>3.2   </td><td>1.3   </td><td>0.2   </td><td>setosa</td></tr>\n",
       "\t<tr><td>4.6   </td><td>3.1   </td><td>1.5   </td><td>0.2   </td><td>setosa</td></tr>\n",
       "\t<tr><td>5.0   </td><td>3.6   </td><td>1.4   </td><td>0.2   </td><td>setosa</td></tr>\n",
       "\t<tr><td>5.4   </td><td>3.9   </td><td>1.7   </td><td>0.4   </td><td>setosa</td></tr>\n",
       "</tbody>\n",
       "</table>\n"
      ],
      "text/latex": [
       "\\begin{tabular}{r|lllll}\n",
       " Sepal.Length & Sepal.Width & Petal.Length & Petal.Width & Species\\\\\n",
       "\\hline\n",
       "\t 5.1    & 3.5    & 1.4    & 0.2    & setosa\\\\\n",
       "\t 4.9    & 3.0    & 1.4    & 0.2    & setosa\\\\\n",
       "\t 4.7    & 3.2    & 1.3    & 0.2    & setosa\\\\\n",
       "\t 4.6    & 3.1    & 1.5    & 0.2    & setosa\\\\\n",
       "\t 5.0    & 3.6    & 1.4    & 0.2    & setosa\\\\\n",
       "\t 5.4    & 3.9    & 1.7    & 0.4    & setosa\\\\\n",
       "\\end{tabular}\n"
      ],
      "text/markdown": [
       "\n",
       "| Sepal.Length | Sepal.Width | Petal.Length | Petal.Width | Species |\n",
       "|---|---|---|---|---|\n",
       "| 5.1    | 3.5    | 1.4    | 0.2    | setosa |\n",
       "| 4.9    | 3.0    | 1.4    | 0.2    | setosa |\n",
       "| 4.7    | 3.2    | 1.3    | 0.2    | setosa |\n",
       "| 4.6    | 3.1    | 1.5    | 0.2    | setosa |\n",
       "| 5.0    | 3.6    | 1.4    | 0.2    | setosa |\n",
       "| 5.4    | 3.9    | 1.7    | 0.4    | setosa |\n",
       "\n"
      ],
      "text/plain": [
       "  Sepal.Length Sepal.Width Petal.Length Petal.Width Species\n",
       "1 5.1          3.5         1.4          0.2         setosa \n",
       "2 4.9          3.0         1.4          0.2         setosa \n",
       "3 4.7          3.2         1.3          0.2         setosa \n",
       "4 4.6          3.1         1.5          0.2         setosa \n",
       "5 5.0          3.6         1.4          0.2         setosa \n",
       "6 5.4          3.9         1.7          0.4         setosa "
      ]
     },
     "metadata": {},
     "output_type": "display_data"
    }
   ],
   "source": [
    "a"
   ]
  },
  {
   "cell_type": "code",
   "execution_count": 7,
   "metadata": {
    "vscode": {
     "languageId": "r"
    }
   },
   "outputs": [
    {
     "data": {
      "text/html": [],
      "text/latex": [],
      "text/markdown": [],
      "text/plain": [
       "character(0)"
      ]
     },
     "metadata": {},
     "output_type": "display_data"
    }
   ],
   "source": [
    "# 현재 사용중인 변수 보기\n",
    "\n",
    "ls()"
   ]
  },
  {
   "cell_type": "code",
   "execution_count": 5,
   "metadata": {
    "vscode": {
     "languageId": "r"
    }
   },
   "outputs": [],
   "source": [
    "# 메모리에 있는 a변수 지우기\n",
    "\n",
    "rm(a)"
   ]
  },
  {
   "cell_type": "markdown",
   "metadata": {},
   "source": [
    "# 도움말"
   ]
  },
  {
   "cell_type": "code",
   "execution_count": 10,
   "metadata": {
    "vscode": {
     "languageId": "r"
    }
   },
   "outputs": [
    {
     "name": "stdout",
     "output_type": "stream",
     "text": [
      "head                   package:utils                   R Documentation\n",
      "\n",
      "_\bR_\be_\bt_\bu_\br_\bn _\bt_\bh_\be _\bF_\bi_\br_\bs_\bt _\bo_\br _\bL_\ba_\bs_\bt _\bP_\ba_\br_\bt _\bo_\bf _\ba_\bn _\bO_\bb_\bj_\be_\bc_\bt\n",
      "\n",
      "_\bD_\be_\bs_\bc_\br_\bi_\bp_\bt_\bi_\bo_\bn:\n",
      "\n",
      "     Returns the first or last parts of a vector, matrix, table, data\n",
      "     frame or function.  Since ‘head()’ and ‘tail()’ are generic\n",
      "     functions, they may also have been extended to other classes.\n",
      "\n",
      "_\bU_\bs_\ba_\bg_\be:\n",
      "\n",
      "     head(x, ...)\n",
      "     ## Default S3 method:\n",
      "     head(x, n = 6L, ...)\n",
      "     ## S3 method for class 'data.frame'\n",
      "     head(x, n = 6L, ...)\n",
      "     ## S3 method for class 'matrix'\n",
      "     head(x, n = 6L, ...)\n",
      "     ## S3 method for class 'ftable'\n",
      "     head(x, n = 6L, ...)\n",
      "     ## S3 method for class 'table'\n",
      "     head(x, n = 6L, ...)\n",
      "     ## S3 method for class 'function'\n",
      "     head(x, n = 6L, ...)\n",
      "     \n",
      "     tail(x, ...)\n",
      "     ## Default S3 method:\n",
      "     tail(x, n = 6L, ...)\n",
      "     ## S3 method for class 'data.frame'\n",
      "     tail(x, n = 6L, ...)\n",
      "     ## S3 method for class 'matrix'\n",
      "     tail(x, n = 6L, addrownums = TRUE, ...)\n",
      "     ## S3 method for class 'ftable'\n",
      "     tail(x, n = 6L, addrownums = FALSE, ...)\n",
      "     ## S3 method for class 'table'\n",
      "     tail(x, n = 6L, addrownums = TRUE, ...)\n",
      "     ## S3 method for class 'function'\n",
      "     tail(x, n = 6L, ...)\n",
      "     \n",
      "_\bA_\br_\bg_\bu_\bm_\be_\bn_\bt_\bs:\n",
      "\n",
      "       x: an object\n",
      "\n",
      "       n: a single integer.  If positive or zero, size for the\n",
      "          resulting object: number of elements for a vector (including\n",
      "          lists), rows for a matrix or data frame or lines for a\n",
      "          function.  If negative, all but the ‘n’ last/first number of\n",
      "          elements of ‘x’.\n",
      "\n",
      "addrownums: if there are no row names, create them from the row\n",
      "          numbers.\n",
      "\n",
      "     ...: arguments to be passed to or from other methods.\n",
      "\n",
      "_\bD_\be_\bt_\ba_\bi_\bl_\bs:\n",
      "\n",
      "     For matrices, 2-dim tables and data frames, ‘head()’ (‘tail()’)\n",
      "     returns the first (last) ‘n’ rows when ‘n >= 0’ or all but the\n",
      "     last (first) ‘n’ rows when ‘n < 0’.  ‘head.matrix()’ and\n",
      "     ‘tail.matrix()’ are exported.  For functions, the lines of the\n",
      "     deparsed function are returned as character strings.\n",
      "\n",
      "     If a matrix has no row names, then ‘tail()’ will add row names of\n",
      "     the form ‘\"[n,]\"’ to the result, so that it looks similar to the\n",
      "     last lines of ‘x’ when printed.  Setting ‘addrownums = FALSE’\n",
      "     suppresses this behaviour.\n",
      "\n",
      "_\bV_\ba_\bl_\bu_\be:\n",
      "\n",
      "     An object (usually) like ‘x’ but generally smaller.  For ‘ftable’\n",
      "     objects ‘x’, a transformed ‘format(x)’.\n",
      "\n",
      "_\bA_\bu_\bt_\bh_\bo_\br(_\bs):\n",
      "\n",
      "     Patrick Burns, improved and corrected by R-Core. Negative argument\n",
      "     added by Vincent Goulet.\n",
      "\n",
      "_\bE_\bx_\ba_\bm_\bp_\bl_\be_\bs:\n",
      "\n",
      "     head(letters)\n",
      "     head(letters, n = -6L)\n",
      "     \n",
      "     head(freeny.x, n = 10L)\n",
      "     head(freeny.y)\n",
      "     \n",
      "     tail(letters)\n",
      "     tail(letters, n = -6L)\n",
      "     \n",
      "     tail(freeny.x)\n",
      "     tail(freeny.y)\n",
      "     \n",
      "     tail(library)\n",
      "     \n",
      "     head(stats::ftable(Titanic))\n",
      "     "
     ]
    }
   ],
   "source": [
    "help(head)"
   ]
  },
  {
   "cell_type": "code",
   "execution_count": 11,
   "metadata": {
    "vscode": {
     "languageId": "r"
    }
   },
   "outputs": [
    {
     "name": "stdout",
     "output_type": "stream",
     "text": [
      "\n",
      "head> head(letters)\n",
      "[1] \"a\" \"b\" \"c\" \"d\" \"e\" \"f\"\n",
      "\n",
      "head> head(letters, n = -6L)\n",
      " [1] \"a\" \"b\" \"c\" \"d\" \"e\" \"f\" \"g\" \"h\" \"i\" \"j\" \"k\" \"l\" \"m\" \"n\" \"o\" \"p\" \"q\" \"r\" \"s\"\n",
      "[20] \"t\"\n",
      "\n",
      "head> head(freeny.x, n = 10L)\n",
      "      lag quarterly revenue price index income level market potential\n",
      " [1,]               8.79636     4.70997      5.82110          12.9699\n",
      " [2,]               8.79236     4.70217      5.82558          12.9733\n",
      " [3,]               8.79137     4.68944      5.83112          12.9774\n",
      " [4,]               8.81486     4.68558      5.84046          12.9806\n",
      " [5,]               8.81301     4.64019      5.85036          12.9831\n",
      " [6,]               8.90751     4.62553      5.86464          12.9854\n",
      " [7,]               8.93673     4.61991      5.87769          12.9900\n",
      " [8,]               8.96161     4.61654      5.89763          12.9943\n",
      " [9,]               8.96044     4.61407      5.92574          12.9992\n",
      "[10,]               9.00868     4.60766      5.94232          13.0033\n",
      "\n",
      "head> head(freeny.y)\n",
      "[1] 8.79236 8.79137 8.81486 8.81301 8.90751 8.93673\n",
      "\n",
      "head> tail(letters)\n",
      "[1] \"u\" \"v\" \"w\" \"x\" \"y\" \"z\"\n",
      "\n",
      "head> tail(letters, n = -6L)\n",
      " [1] \"g\" \"h\" \"i\" \"j\" \"k\" \"l\" \"m\" \"n\" \"o\" \"p\" \"q\" \"r\" \"s\" \"t\" \"u\" \"v\" \"w\" \"x\" \"y\"\n",
      "[20] \"z\"\n",
      "\n",
      "head> tail(freeny.x)\n",
      "      lag quarterly revenue price index income level market potential\n",
      "[34,]               9.69405     4.30909      6.17369          13.1459\n",
      "[35,]               9.69958     4.30909      6.16135          13.1520\n",
      "[36,]               9.68683     4.30552      6.18231          13.1593\n",
      "[37,]               9.71774     4.29627      6.18768          13.1579\n",
      "[38,]               9.74924     4.27839      6.19377          13.1625\n",
      "[39,]               9.77536     4.27789      6.20030          13.1664\n",
      "\n",
      "head> tail(freeny.y)\n",
      "[1] 9.69958 9.68683 9.71774 9.74924 9.77536 9.79424\n",
      "\n",
      "head> tail(library)\n",
      "                                   \n",
      "381         return(y)              \n",
      "382     }                          \n",
      "383     if (logical.return)        \n",
      "384         TRUE                   \n",
      "385     else invisible(.packages())\n",
      "386 }                              \n",
      "\n",
      "head> head(stats::ftable(Titanic))\n",
      "                                               \n",
      "                          \"Survived\" \"No\" \"Yes\"\n",
      " \"Class\" \"Sex\"    \"Age\"                        \n",
      " \"1st\"   \"Male\"   \"Child\"               0     5\n",
      "                  \"Adult\"             118    57\n",
      "         \"Female\" \"Child\"               0     1\n",
      "                  \"Adult\"               4   140\n",
      " \"2nd\"   \"Male\"   \"Child\"               0    11\n",
      "                  \"Adult\"             154    14\n"
     ]
    }
   ],
   "source": [
    "# 예제보기\n",
    "example(head)"
   ]
  },
  {
   "cell_type": "markdown",
   "metadata": {},
   "source": [
    "# 산술 연산자\n",
    "# 덧셈 "
   ]
  },
  {
   "cell_type": "code",
   "execution_count": 17,
   "metadata": {
    "vscode": {
     "languageId": "r"
    }
   },
   "outputs": [
    {
     "data": {
      "text/html": [
       "3"
      ],
      "text/latex": [
       "3"
      ],
      "text/markdown": [
       "3"
      ],
      "text/plain": [
       "[1] 3"
      ]
     },
     "metadata": {},
     "output_type": "display_data"
    }
   ],
   "source": [
    "#덧셈\n",
    "1+2"
   ]
  },
  {
   "cell_type": "code",
   "execution_count": 18,
   "metadata": {
    "vscode": {
     "languageId": "r"
    }
   },
   "outputs": [
    {
     "data": {
      "text/html": [
       "2"
      ],
      "text/latex": [
       "2"
      ],
      "text/markdown": [
       "2"
      ],
      "text/plain": [
       "[1] 2"
      ]
     },
     "metadata": {},
     "output_type": "display_data"
    }
   ],
   "source": [
    "#곱셈\n",
    "1*2"
   ]
  },
  {
   "cell_type": "code",
   "execution_count": 19,
   "metadata": {
    "vscode": {
     "languageId": "r"
    }
   },
   "outputs": [
    {
     "data": {
      "text/html": [
       "10"
      ],
      "text/latex": [
       "10"
      ],
      "text/markdown": [
       "10"
      ],
      "text/plain": [
       "[1] 10"
      ]
     },
     "metadata": {},
     "output_type": "display_data"
    }
   ],
   "source": [
    "#뺄셈\n",
    "30-20"
   ]
  },
  {
   "cell_type": "code",
   "execution_count": 20,
   "metadata": {
    "vscode": {
     "languageId": "r"
    }
   },
   "outputs": [
    {
     "data": {
      "text/html": [
       "6.66666666666667"
      ],
      "text/latex": [
       "6.66666666666667"
      ],
      "text/markdown": [
       "6.66666666666667"
      ],
      "text/plain": [
       "[1] 6.666667"
      ]
     },
     "metadata": {},
     "output_type": "display_data"
    }
   ],
   "source": [
    "#나눗셈\n",
    "20/3"
   ]
  },
  {
   "cell_type": "code",
   "execution_count": 23,
   "metadata": {
    "vscode": {
     "languageId": "r"
    }
   },
   "outputs": [
    {
     "data": {
      "text/html": [
       "4"
      ],
      "text/latex": [
       "4"
      ],
      "text/markdown": [
       "4"
      ],
      "text/plain": [
       "[1] 4"
      ]
     },
     "metadata": {},
     "output_type": "display_data"
    }
   ],
   "source": [
    "#정수 나눗셈 -> 몫\n",
    "\n",
    "22 %/% 5"
   ]
  },
  {
   "cell_type": "code",
   "execution_count": 24,
   "metadata": {
    "vscode": {
     "languageId": "r"
    }
   },
   "outputs": [
    {
     "data": {
      "text/html": [
       "2"
      ],
      "text/latex": [
       "2"
      ],
      "text/markdown": [
       "2"
      ],
      "text/plain": [
       "[1] 2"
      ]
     },
     "metadata": {},
     "output_type": "display_data"
    }
   ],
   "source": [
    "22 %% 5"
   ]
  },
  {
   "cell_type": "code",
   "execution_count": 25,
   "metadata": {
    "vscode": {
     "languageId": "r"
    }
   },
   "outputs": [
    {
     "data": {
      "text/html": [
       "4"
      ],
      "text/latex": [
       "4"
      ],
      "text/markdown": [
       "4"
      ],
      "text/plain": [
       "[1] 4"
      ]
     },
     "metadata": {},
     "output_type": "display_data"
    },
    {
     "data": {
      "text/html": [
       "4"
      ],
      "text/latex": [
       "4"
      ],
      "text/markdown": [
       "4"
      ],
      "text/plain": [
       "[1] 4"
      ]
     },
     "metadata": {},
     "output_type": "display_data"
    }
   ],
   "source": [
    "# 거듭 제곱\n",
    "\n",
    " 2 ** 2\n",
    " 2 ^ 2"
   ]
  },
  {
   "cell_type": "code",
   "execution_count": 28,
   "metadata": {
    "vscode": {
     "languageId": "r"
    }
   },
   "outputs": [
    {
     "data": {
      "text/html": [
       "64"
      ],
      "text/latex": [
       "64"
      ],
      "text/markdown": [
       "64"
      ],
      "text/plain": [
       "[1] 64"
      ]
     },
     "metadata": {},
     "output_type": "display_data"
    }
   ],
   "source": [
    "# 제곱근\n",
    "\n",
    "sqrt(8**2)^2"
   ]
  },
  {
   "cell_type": "code",
   "execution_count": 30,
   "metadata": {
    "vscode": {
     "languageId": "r"
    }
   },
   "outputs": [
    {
     "data": {
      "text/html": [
       "10"
      ],
      "text/latex": [
       "10"
      ],
      "text/markdown": [
       "10"
      ],
      "text/plain": [
       "[1] 10"
      ]
     },
     "metadata": {},
     "output_type": "display_data"
    }
   ],
   "source": [
    "# 절대값\n",
    "abs(-10)"
   ]
  },
  {
   "cell_type": "code",
   "execution_count": 39,
   "metadata": {
    "vscode": {
     "languageId": "r"
    }
   },
   "outputs": [
    {
     "name": "stdout",
     "output_type": "stream",
     "text": [
      " [1] 0.36662417 0.10801206 0.45661020 0.81843711 0.65372992 0.98616219\n",
      " [7] 0.90022303 0.78954567 0.80112457 0.02457806 0.70940951 0.43938728\n",
      "[13] 0.75531618 0.69934584 0.56008466\n"
     ]
    }
   ],
   "source": [
    "# 난수 발생하기 : 0 < X < 1\n",
    "\n",
    "print(runif(15))\n"
   ]
  },
  {
   "cell_type": "code",
   "execution_count": 40,
   "metadata": {
    "vscode": {
     "languageId": "r"
    }
   },
   "outputs": [
    {
     "data": {
      "text/html": [
       "100"
      ],
      "text/latex": [
       "100"
      ],
      "text/markdown": [
       "100"
      ],
      "text/plain": [
       "[1] 100"
      ]
     },
     "metadata": {},
     "output_type": "display_data"
    }
   ],
   "source": [
    "# 소수점 이하 버림\n",
    "\n",
    "trunc(100.5)"
   ]
  },
  {
   "cell_type": "code",
   "execution_count": 43,
   "metadata": {
    "vscode": {
     "languageId": "r"
    }
   },
   "outputs": [
    {
     "name": "stdout",
     "output_type": "stream",
     "text": [
      "Uniform                 package:stats                  R Documentation\n",
      "\n",
      "_\bT_\bh_\be _\bU_\bn_\bi_\bf_\bo_\br_\bm _\bD_\bi_\bs_\bt_\br_\bi_\bb_\bu_\bt_\bi_\bo_\bn\n",
      "\n",
      "_\bD_\be_\bs_\bc_\br_\bi_\bp_\bt_\bi_\bo_\bn:\n",
      "\n",
      "     These functions provide information about the uniform distribution\n",
      "     on the interval from ‘min’ to ‘max’.  ‘dunif’ gives the density,\n",
      "     ‘punif’ gives the distribution function ‘qunif’ gives the quantile\n",
      "     function and ‘runif’ generates random deviates.\n",
      "\n",
      "_\bU_\bs_\ba_\bg_\be:\n",
      "\n",
      "     dunif(x, min = 0, max = 1, log = FALSE)\n",
      "     punif(q, min = 0, max = 1, lower.tail = TRUE, log.p = FALSE)\n",
      "     qunif(p, min = 0, max = 1, lower.tail = TRUE, log.p = FALSE)\n",
      "     runif(n, min = 0, max = 1)\n",
      "     \n",
      "_\bA_\br_\bg_\bu_\bm_\be_\bn_\bt_\bs:\n",
      "\n",
      "    x, q: vector of quantiles.\n",
      "\n",
      "       p: vector of probabilities.\n",
      "\n",
      "       n: number of observations. If ‘length(n) > 1’, the length is\n",
      "          taken to be the number required.\n",
      "\n",
      "min, max: lower and upper limits of the distribution.  Must be finite.\n",
      "\n",
      "log, log.p: logical; if TRUE, probabilities p are given as log(p).\n",
      "\n",
      "lower.tail: logical; if TRUE (default), probabilities are P[X <= x],\n",
      "          otherwise, P[X > x].\n",
      "\n",
      "_\bD_\be_\bt_\ba_\bi_\bl_\bs:\n",
      "\n",
      "     If ‘min’ or ‘max’ are not specified they assume the default values\n",
      "     of ‘0’ and ‘1’ respectively.\n",
      "\n",
      "     The uniform distribution has density\n",
      "\n",
      "                             f(x) = 1/(max-min)                         \n",
      "     \n",
      "     for min <= x <= max.\n",
      "\n",
      "     For the case of u := min == max, the limit case of X == u is\n",
      "     assumed, although there is no density in that case and ‘dunif’\n",
      "     will return ‘NaN’ (the error condition).\n",
      "\n",
      "     ‘runif’ will not generate either of the extreme values unless ‘max\n",
      "     = min’ or ‘max-min’ is small compared to ‘min’, and in particular\n",
      "     not for the default arguments.\n",
      "\n",
      "_\bV_\ba_\bl_\bu_\be:\n",
      "\n",
      "     ‘dunif’ gives the density, ‘punif’ gives the distribution\n",
      "     function, ‘qunif’ gives the quantile function, and ‘runif’\n",
      "     generates random deviates.\n",
      "\n",
      "     The length of the result is determined by ‘n’ for ‘runif’, and is\n",
      "     the maximum of the lengths of the numerical arguments for the\n",
      "     other functions.\n",
      "\n",
      "     The numerical arguments other than ‘n’ are recycled to the length\n",
      "     of the result.  Only the first elements of the logical arguments\n",
      "     are used.\n",
      "\n",
      "_\bN_\bo_\bt_\be:\n",
      "\n",
      "     The characteristics of output from pseudo-random number generators\n",
      "     (such as precision and periodicity) vary widely.  See\n",
      "     ‘.Random.seed’ for more information on R's random number\n",
      "     generation algorithms.\n",
      "\n",
      "_\bR_\be_\bf_\be_\br_\be_\bn_\bc_\be_\bs:\n",
      "\n",
      "     Becker, R. A., Chambers, J. M. and Wilks, A. R. (1988) _The New S\n",
      "     Language_.  Wadsworth & Brooks/Cole.\n",
      "\n",
      "_\bS_\be_\be _\bA_\bl_\bs_\bo:\n",
      "\n",
      "     ‘RNG’ about random number generation in R.\n",
      "\n",
      "     Distributions for other standard distributions.\n",
      "\n",
      "_\bE_\bx_\ba_\bm_\bp_\bl_\be_\bs:\n",
      "\n",
      "     u <- runif(20)\n",
      "     \n",
      "     ## The following relations always hold :\n",
      "     punif(u) == u\n",
      "     dunif(u) == 1\n",
      "     \n",
      "     var(runif(10000))  #- ~ = 1/12 = .08333\n",
      "     "
     ]
    }
   ],
   "source": [
    "# 100보다 적은 난수 정수 10개 만들기 (단, 중복값이 발생할 수 있음)\n",
    "\n",
    "help(runif)"
   ]
  },
  {
   "cell_type": "code",
   "execution_count": 44,
   "metadata": {
    "vscode": {
     "languageId": "r"
    }
   },
   "outputs": [
    {
     "data": {
      "text/html": [
       "<ol class=list-inline>\n",
       "\t<li>93.4971588896587</li>\n",
       "\t<li>30.046691512689</li>\n",
       "\t<li>8.71680732816458</li>\n",
       "\t<li>37.9787353333086</li>\n",
       "\t<li>40.394013770856</li>\n",
       "\t<li>84.7546975594014</li>\n",
       "\t<li>68.9074959373102</li>\n",
       "\t<li>68.8680368475616</li>\n",
       "\t<li>65.2036561165005</li>\n",
       "\t<li>10.1021286798641</li>\n",
       "</ol>\n"
      ],
      "text/latex": [
       "\\begin{enumerate*}\n",
       "\\item 93.4971588896587\n",
       "\\item 30.046691512689\n",
       "\\item 8.71680732816458\n",
       "\\item 37.9787353333086\n",
       "\\item 40.394013770856\n",
       "\\item 84.7546975594014\n",
       "\\item 68.9074959373102\n",
       "\\item 68.8680368475616\n",
       "\\item 65.2036561165005\n",
       "\\item 10.1021286798641\n",
       "\\end{enumerate*}\n"
      ],
      "text/markdown": [
       "1. 93.4971588896587\n",
       "2. 30.046691512689\n",
       "3. 8.71680732816458\n",
       "4. 37.9787353333086\n",
       "5. 40.394013770856\n",
       "6. 84.7546975594014\n",
       "7. 68.9074959373102\n",
       "8. 68.8680368475616\n",
       "9. 65.2036561165005\n",
       "10. 10.1021286798641\n",
       "\n",
       "\n"
      ],
      "text/plain": [
       " [1] 93.497159 30.046692  8.716807 37.978735 40.394014 84.754698 68.907496\n",
       " [8] 68.868037 65.203656 10.102129"
      ]
     },
     "metadata": {},
     "output_type": "display_data"
    }
   ],
   "source": [
    "runif(10, min = 0, max = 100)"
   ]
  },
  {
   "cell_type": "code",
   "execution_count": 46,
   "metadata": {
    "vscode": {
     "languageId": "r"
    }
   },
   "outputs": [
    {
     "data": {
      "text/html": [
       "<ol class=list-inline>\n",
       "\t<li>38</li>\n",
       "\t<li>1</li>\n",
       "\t<li>8</li>\n",
       "\t<li>78</li>\n",
       "\t<li>87</li>\n",
       "\t<li>97</li>\n",
       "\t<li>64</li>\n",
       "\t<li>58</li>\n",
       "\t<li>73</li>\n",
       "\t<li>35</li>\n",
       "</ol>\n"
      ],
      "text/latex": [
       "\\begin{enumerate*}\n",
       "\\item 38\n",
       "\\item 1\n",
       "\\item 8\n",
       "\\item 78\n",
       "\\item 87\n",
       "\\item 97\n",
       "\\item 64\n",
       "\\item 58\n",
       "\\item 73\n",
       "\\item 35\n",
       "\\end{enumerate*}\n"
      ],
      "text/markdown": [
       "1. 38\n",
       "2. 1\n",
       "3. 8\n",
       "4. 78\n",
       "5. 87\n",
       "6. 97\n",
       "7. 64\n",
       "8. 58\n",
       "9. 73\n",
       "10. 35\n",
       "\n",
       "\n"
      ],
      "text/plain": [
       " [1] 38  1  8 78 87 97 64 58 73 35"
      ]
     },
     "metadata": {},
     "output_type": "display_data"
    }
   ],
   "source": [
    "trunc(runif(10) * 100)"
   ]
  },
  {
   "cell_type": "code",
   "execution_count": 53,
   "metadata": {
    "vscode": {
     "languageId": "r"
    }
   },
   "outputs": [
    {
     "data": {
      "text/html": [
       "<ol class=list-inline>\n",
       "\t<li>13</li>\n",
       "\t<li>31</li>\n",
       "\t<li>7</li>\n",
       "\t<li>9</li>\n",
       "\t<li>7</li>\n",
       "\t<li>41</li>\n",
       "</ol>\n"
      ],
      "text/latex": [
       "\\begin{enumerate*}\n",
       "\\item 13\n",
       "\\item 31\n",
       "\\item 7\n",
       "\\item 9\n",
       "\\item 7\n",
       "\\item 41\n",
       "\\end{enumerate*}\n"
      ],
      "text/markdown": [
       "1. 13\n",
       "2. 31\n",
       "3. 7\n",
       "4. 9\n",
       "5. 7\n",
       "6. 41\n",
       "\n",
       "\n"
      ],
      "text/plain": [
       "[1] 13 31  7  9  7 41"
      ]
     },
     "metadata": {},
     "output_type": "display_data"
    }
   ],
   "source": [
    "trunc(runif(6,min = 1, max= 45))"
   ]
  },
  {
   "cell_type": "code",
   "execution_count": 55,
   "metadata": {
    "vscode": {
     "languageId": "r"
    }
   },
   "outputs": [
    {
     "data": {
      "text/html": [
       "101"
      ],
      "text/latex": [
       "101"
      ],
      "text/markdown": [
       "101"
      ],
      "text/plain": [
       "[1] 101"
      ]
     },
     "metadata": {},
     "output_type": "display_data"
    },
    {
     "data": {
      "text/html": [
       "100.57"
      ],
      "text/latex": [
       "100.57"
      ],
      "text/markdown": [
       "100.57"
      ],
      "text/plain": [
       "[1] 100.57"
      ]
     },
     "metadata": {},
     "output_type": "display_data"
    }
   ],
   "source": [
    "#  반올림\n",
    "\n",
    "round(100.567)\n",
    "round(100.567, 2)"
   ]
  },
  {
   "cell_type": "code",
   "execution_count": null,
   "metadata": {
    "vscode": {
     "languageId": "r"
    }
   },
   "outputs": [],
   "source": []
  }
 ],
 "metadata": {
  "kernelspec": {
   "display_name": "R",
   "language": "R",
   "name": "ir"
  },
  "language_info": {
   "codemirror_mode": "r",
   "file_extension": ".r",
   "mimetype": "text/x-r-source",
   "name": "R",
   "pygments_lexer": "r",
   "version": "3.6.1"
  },
  "orig_nbformat": 4
 },
 "nbformat": 4,
 "nbformat_minor": 2
}
