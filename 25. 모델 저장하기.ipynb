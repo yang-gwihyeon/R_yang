{
 "cells": [
  {
   "cell_type": "code",
   "execution_count": 2,
   "id": "e40ce4b5",
   "metadata": {},
   "outputs": [],
   "source": [
    "library(randomForest)"
   ]
  },
  {
   "cell_type": "code",
   "execution_count": 3,
   "id": "b08dfab3",
   "metadata": {},
   "outputs": [],
   "source": [
    "samp <- c(sample(1:50, 35), sample(51:100, 35), sample(101:150,50))\n",
    "iris.tr <- iris[samp,]\n",
    "iris.test <- iris[-samp,]"
   ]
  },
  {
   "cell_type": "code",
   "execution_count": 4,
   "id": "74732665",
   "metadata": {},
   "outputs": [],
   "source": [
    "rf <- randomForest(Species ~ ., data=iris.tr, ntree = 100)"
   ]
  },
  {
   "cell_type": "code",
   "execution_count": 5,
   "id": "a0480efb",
   "metadata": {},
   "outputs": [],
   "source": [
    "x <- subset(iris.test, select = -Species)\n",
    "y <- iris.test$Species"
   ]
  },
  {
   "cell_type": "code",
   "execution_count": 6,
   "id": "f0b1e664",
   "metadata": {},
   "outputs": [],
   "source": [
    "pred <- predict(rf, x)"
   ]
  },
  {
   "cell_type": "code",
   "execution_count": 7,
   "id": "fe756f84",
   "metadata": {},
   "outputs": [
    {
     "data": {
      "text/html": [
       "0.966666666666667"
      ],
      "text/latex": [
       "0.966666666666667"
      ],
      "text/markdown": [
       "0.966666666666667"
      ],
      "text/plain": [
       "[1] 0.9666667"
      ]
     },
     "metadata": {},
     "output_type": "display_data"
    },
    {
     "data": {
      "text/plain": [
       "            y\n",
       "pred         setosa versicolor virginica\n",
       "  setosa         15          0         0\n",
       "  versicolor      0         14         0\n",
       "  virginica       0          1         0"
      ]
     },
     "metadata": {},
     "output_type": "display_data"
    }
   ],
   "source": [
    "mean(pred == y)\n",
    "table(pred, y)"
   ]
  },
  {
   "cell_type": "code",
   "execution_count": 9,
   "id": "0515f8af",
   "metadata": {},
   "outputs": [],
   "source": [
    "# 모델 저장하기\n",
    "saveRDS(rf, \"../R_yang/randomForest_iris.rds\")"
   ]
  },
  {
   "cell_type": "code",
   "execution_count": null,
   "id": "e1bbbc5f",
   "metadata": {},
   "outputs": [],
   "source": []
  }
 ],
 "metadata": {
  "kernelspec": {
   "display_name": "R",
   "language": "R",
   "name": "ir"
  },
  "language_info": {
   "codemirror_mode": "r",
   "file_extension": ".r",
   "mimetype": "text/x-r-source",
   "name": "R",
   "pygments_lexer": "r",
   "version": "3.6.1"
  }
 },
 "nbformat": 4,
 "nbformat_minor": 5
}
