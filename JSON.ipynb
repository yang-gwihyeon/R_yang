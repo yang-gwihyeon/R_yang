{
 "cells": [
  {
   "cell_type": "markdown",
   "metadata": {},
   "source": [
    "# JSON(JavaScript Object Notation)\n",
    "JSON은 경량의 데이터 표현 형식으로 최근에는 웹, 모바일 등을 중심으로 서로 다른 플랫폼간의 데이터 교환을 위하여 활용되고 있는 사실상의 산업 표준 입니다.   \n",
    "특히 OpenAPI등을 통해 다른 곳에서 제공하는 데이터를 수집할 경우 JSON 형식으로 되어 있는 경우가 많기 때문에    \n",
    "R에서도 HTTP 통신을 기반으로 OpenAPI로부터 JSON 형식의 데이터를 수집하고 이를 데이터 프레임으로 변환하는 기능을 제공하고 있습니다."
   ]
  },
  {
   "cell_type": "markdown",
   "metadata": {},
   "source": [
    "## JSON 구조와 이해"
   ]
  },
  {
   "cell_type": "markdown",
   "metadata": {},
   "source": [
    "### 이름(key)와 값(value)의 쌍을 이루는 구조   \n",
    "{ \"이름\": \"값\", \"이름\": \"값\" ... }"
   ]
  },
  {
   "cell_type": "markdown",
   "metadata": {},
   "source": [
    "### 값을 배열 형식으로 구성가능\n",
    "{ \"이름\": [ \"값0\", \"값1\", \"값2\" ] }"
   ]
  },
  {
   "cell_type": "markdown",
   "metadata": {},
   "source": [
    "### 계층화 된 데이터의 표현\n",
    "{   \n",
    "&nbsp;    \"이름\": { \"이름\": \"값\", \"이름\": \"값\" },   \n",
    "&nbsp;    \"이름\": { \"이름\": \"값\", \"이름\": \"값\" }   \n",
    "};  \n",
    "\n"
   ]
  },
  {
   "cell_type": "markdown",
   "metadata": {},
   "source": [
    "### 목록형 데이터의 표현\n",
    "{ \"article\" : [   \n",
    "&nbsp;    {\"subject\": \"글 제목\", \"content\": \"글 내용\", \"writer\": \"작성자\", \"date\": \"작성일\"},   \n",
    "&nbsp;    {\"subject\": \"글 제목\", \"content\": \"글 내용\", \"writer\": \"작성자\", \"date\": \"작성일\"},   \n",
    "&nbsp;    ...   \n",
    "&nbsp;    {\"subject\": \"글 제목\", \"content\": \"글 내용\", \"writer\": \"작성자\", \"date\": \"작성일\"}   \n",
    "]}\n"
   ]
  },
  {
   "cell_type": "code",
   "execution_count": 1,
   "metadata": {
    "vscode": {
     "languageId": "r"
    }
   },
   "outputs": [
    {
     "name": "stderr",
     "output_type": "stream",
     "text": [
      "\n",
      "Attaching package: ‘dplyr’\n",
      "\n",
      "The following objects are masked from ‘package:stats’:\n",
      "\n",
      "    filter, lag\n",
      "\n",
      "The following objects are masked from ‘package:base’:\n",
      "\n",
      "    intersect, setdiff, setequal, union\n",
      "\n"
     ]
    }
   ],
   "source": [
    "# 필요한 패키지 로드 하기\n",
    "\n",
    "library(httr)\n",
    "library(dplyr)"
   ]
  },
  {
   "cell_type": "code",
   "execution_count": 2,
   "metadata": {
    "vscode": {
     "languageId": "r"
    }
   },
   "outputs": [],
   "source": [
    "#if (!require(rjson))  install.packages(\"rjson\", repos=\"https://cran.seoul.go.kr/\")\n",
    "library(rjson) # Anaconda 에서 설치"
   ]
  },
  {
   "cell_type": "markdown",
   "metadata": {},
   "source": [
    "## 서버에서 데이터 불러오기"
   ]
  },
  {
   "cell_type": "code",
   "execution_count": 3,
   "metadata": {
    "vscode": {
     "languageId": "r"
    }
   },
   "outputs": [
    {
     "data": {
      "text/plain": [
       "Response [https://zeushahn.github.io/Test/R/simple.json]\n",
       "  Date: 2022-04-21 04:57\n",
       "  Status: 200\n",
       "  Content-Type: application/json; charset=utf-8\n",
       "  Size: 103 B\n",
       "{\n",
       "    \"name\": \"갤럭시 S6\",\n",
       "    \"type\": \"삼성\",\n",
       "    \"img\": \"http://localhost:8080/R/GalaxyS6.png\""
      ]
     },
     "metadata": {},
     "output_type": "display_data"
    }
   ],
   "source": [
    "simple_json_url <- \"https://zeushahn.github.io/Test/R/simple.json\"\n",
    "simple_resp <- GET(simple_json_url)\n",
    "simple_resp"
   ]
  },
  {
   "cell_type": "markdown",
   "metadata": {},
   "source": [
    "## 가져온 데이터를 R에서 활용하기 위해 변환하기"
   ]
  },
  {
   "cell_type": "code",
   "execution_count": 4,
   "metadata": {
    "vscode": {
     "languageId": "r"
    }
   },
   "outputs": [
    {
     "data": {
      "text/html": [
       "<span style=white-space:pre-wrap>'{\\n    \"name\": \"갤럭시 S6\",\\n    \"type\": \"삼성\",\\n    \"img\": \"http://localhost:8080/R/GalaxyS6.png\"\\n}'</span>"
      ],
      "text/latex": [
       "'\\{\\textbackslash{}n    \"name\": \"갤럭시 S6\",\\textbackslash{}n    \"type\": \"삼성\",\\textbackslash{}n    \"img\": \"http://localhost:8080/R/GalaxyS6.png\"\\textbackslash{}n\\}'"
      ],
      "text/markdown": [
       "<span style=white-space:pre-wrap>'{\\n    \"name\": \"갤럭시 S6\",\\n    \"type\": \"삼성\",\\n    \"img\": \"http://localhost:8080/R/GalaxyS6.png\"\\n}'</span>"
      ],
      "text/plain": [
       "[1] \"{\\n    \\\"name\\\": \\\"갤럭시 S6\\\",\\n    \\\"type\\\": \\\"삼성\\\",\\n    \\\"img\\\": \\\"http://localhost:8080/R/GalaxyS6.png\\\"\\n}\""
      ]
     },
     "metadata": {},
     "output_type": "display_data"
    }
   ],
   "source": [
    "# 텍스트 형식으로 추출\n",
    "\n",
    "simple_text <- content(simple_resp, as=\"text\", encoding=\"utf-8\")\n",
    "simple_text"
   ]
  },
  {
   "cell_type": "code",
   "execution_count": 5,
   "metadata": {
    "vscode": {
     "languageId": "r"
    }
   },
   "outputs": [
    {
     "data": {
      "text/html": [
       "'list'"
      ],
      "text/latex": [
       "'list'"
      ],
      "text/markdown": [
       "'list'"
      ],
      "text/plain": [
       "[1] \"list\""
      ]
     },
     "metadata": {},
     "output_type": "display_data"
    },
    {
     "data": {
      "text/html": [
       "<dl>\n",
       "\t<dt>$name</dt>\n",
       "\t\t<dd>'갤럭시 S6'</dd>\n",
       "\t<dt>$type</dt>\n",
       "\t\t<dd>'삼성'</dd>\n",
       "\t<dt>$img</dt>\n",
       "\t\t<dd>'http://localhost:8080/R/GalaxyS6.png'</dd>\n",
       "</dl>\n"
      ],
      "text/latex": [
       "\\begin{description}\n",
       "\\item[\\$name] '갤럭시 S6'\n",
       "\\item[\\$type] '삼성'\n",
       "\\item[\\$img] 'http://localhost:8080/R/GalaxyS6.png'\n",
       "\\end{description}\n"
      ],
      "text/markdown": [
       "$name\n",
       ":   '갤럭시 S6'\n",
       "$type\n",
       ":   '삼성'\n",
       "$img\n",
       ":   'http://localhost:8080/R/GalaxyS6.png'\n",
       "\n",
       "\n"
      ],
      "text/plain": [
       "$name\n",
       "[1] \"갤럭시 S6\"\n",
       "\n",
       "$type\n",
       "[1] \"삼성\"\n",
       "\n",
       "$img\n",
       "[1] \"http://localhost:8080/R/GalaxyS6.png\"\n"
      ]
     },
     "metadata": {},
     "output_type": "display_data"
    }
   ],
   "source": [
    "# R의 list 타입으로 변환, as=\"parse\"\n",
    "\n",
    "simple_list <- content(simple_resp, as=\"parse\", encoding=\"utf-8\")\n",
    "class(simple_list)\n",
    "simple_list"
   ]
  },
  {
   "cell_type": "markdown",
   "metadata": {},
   "source": [
    "## 변환된 데이터의 하위 요소에 접근하기"
   ]
  },
  {
   "cell_type": "code",
   "execution_count": 6,
   "metadata": {
    "vscode": {
     "languageId": "r"
    }
   },
   "outputs": [
    {
     "data": {
      "text/html": [
       "'갤럭시 S6'"
      ],
      "text/latex": [
       "'갤럭시 S6'"
      ],
      "text/markdown": [
       "'갤럭시 S6'"
      ],
      "text/plain": [
       "[1] \"갤럭시 S6\""
      ]
     },
     "metadata": {},
     "output_type": "display_data"
    },
    {
     "data": {
      "text/html": [
       "'삼성'"
      ],
      "text/latex": [
       "'삼성'"
      ],
      "text/markdown": [
       "'삼성'"
      ],
      "text/plain": [
       "[1] \"삼성\""
      ]
     },
     "metadata": {},
     "output_type": "display_data"
    },
    {
     "data": {
      "text/html": [
       "'http://localhost:8080/R/GalaxyS6.png'"
      ],
      "text/latex": [
       "'http://localhost:8080/R/GalaxyS6.png'"
      ],
      "text/markdown": [
       "'http://localhost:8080/R/GalaxyS6.png'"
      ],
      "text/plain": [
       "[1] \"http://localhost:8080/R/GalaxyS6.png\""
      ]
     },
     "metadata": {},
     "output_type": "display_data"
    }
   ],
   "source": [
    "simple_list$name\n",
    "simple_list$type\n",
    "simple_list$img"
   ]
  },
  {
   "cell_type": "markdown",
   "metadata": {},
   "source": [
    "# 계층화된 구조에 접근하기"
   ]
  },
  {
   "cell_type": "code",
   "execution_count": 10,
   "metadata": {
    "vscode": {
     "languageId": "r"
    }
   },
   "outputs": [
    {
     "data": {
      "text/plain": [
       "Response [https://zeushahn.github.io/Test/R/phone.json]\n",
       "  Date: 2022-04-21 04:59\n",
       "  Status: 200\n",
       "  Content-Type: application/json; charset=utf-8\n",
       "  Size: 253 B\n",
       "{\n",
       "\t\"rt\": \"OK\",\n",
       "\t\"rtmsg\": \"SUCCESS\",\n",
       "    \"item\": {\n",
       "        \"name\": \"갤럭시 S6\",\n",
       "        \"type\": \"삼성\",\n",
       "        \"img\": \"http://localhost:8080/img/GalaxyS6.png\",\n",
       "        \"price\": {\n",
       "        \t\"fixed\": 1000000,\n",
       "        \t\"sale\": 850000\n",
       "..."
      ]
     },
     "metadata": {},
     "output_type": "display_data"
    }
   ],
   "source": [
    "# 가져올 데이터 URL\n",
    "\n",
    "phone_json_url <- \"https://zeushahn.github.io/Test/R/phone.json\"\n",
    "\n",
    "# 데이터 가져오기\n",
    "phone_resp <- GET(phone_json_url)\n",
    "phone_resp"
   ]
  },
  {
   "cell_type": "code",
   "execution_count": 11,
   "metadata": {
    "vscode": {
     "languageId": "r"
    }
   },
   "outputs": [
    {
     "data": {
      "text/html": [
       "<dl>\n",
       "\t<dt>$rt</dt>\n",
       "\t\t<dd>'OK'</dd>\n",
       "\t<dt>$rtmsg</dt>\n",
       "\t\t<dd>'SUCCESS'</dd>\n",
       "\t<dt>$item</dt>\n",
       "\t\t<dd><dl>\n",
       "\t<dt>$name</dt>\n",
       "\t\t<dd>'갤럭시 S6'</dd>\n",
       "\t<dt>$type</dt>\n",
       "\t\t<dd>'삼성'</dd>\n",
       "\t<dt>$img</dt>\n",
       "\t\t<dd>'http://localhost:8080/img/GalaxyS6.png'</dd>\n",
       "\t<dt>$price</dt>\n",
       "\t\t<dd><dl>\n",
       "\t<dt>$fixed</dt>\n",
       "\t\t<dd>1000000</dd>\n",
       "\t<dt>$sale</dt>\n",
       "\t\t<dd>850000</dd>\n",
       "</dl>\n",
       "</dd>\n",
       "</dl>\n",
       "</dd>\n",
       "</dl>\n"
      ],
      "text/latex": [
       "\\begin{description}\n",
       "\\item[\\$rt] 'OK'\n",
       "\\item[\\$rtmsg] 'SUCCESS'\n",
       "\\item[\\$item] \\begin{description}\n",
       "\\item[\\$name] '갤럭시 S6'\n",
       "\\item[\\$type] '삼성'\n",
       "\\item[\\$img] 'http://localhost:8080/img/GalaxyS6.png'\n",
       "\\item[\\$price] \\begin{description}\n",
       "\\item[\\$fixed] 1000000\n",
       "\\item[\\$sale] 850000\n",
       "\\end{description}\n",
       "\n",
       "\\end{description}\n",
       "\n",
       "\\end{description}\n"
      ],
      "text/markdown": [
       "$rt\n",
       ":   'OK'\n",
       "$rtmsg\n",
       ":   'SUCCESS'\n",
       "$item\n",
       ":   $name\n",
       ":   '갤럭시 S6'\n",
       "$type\n",
       ":   '삼성'\n",
       "$img\n",
       ":   'http://localhost:8080/img/GalaxyS6.png'\n",
       "$price\n",
       ":   $fixed\n",
       ":   1000000\n",
       "$sale\n",
       ":   850000\n",
       "\n",
       "\n",
       "\n",
       "\n",
       "\n",
       "\n",
       "\n",
       "\n"
      ],
      "text/plain": [
       "$rt\n",
       "[1] \"OK\"\n",
       "\n",
       "$rtmsg\n",
       "[1] \"SUCCESS\"\n",
       "\n",
       "$item\n",
       "$item$name\n",
       "[1] \"갤럭시 S6\"\n",
       "\n",
       "$item$type\n",
       "[1] \"삼성\"\n",
       "\n",
       "$item$img\n",
       "[1] \"http://localhost:8080/img/GalaxyS6.png\"\n",
       "\n",
       "$item$price\n",
       "$item$price$fixed\n",
       "[1] 1000000\n",
       "\n",
       "$item$price$sale\n",
       "[1] 850000\n",
       "\n",
       "\n"
      ]
     },
     "metadata": {},
     "output_type": "display_data"
    }
   ],
   "source": [
    "# 가져온 데이터를 R에서 활용하기 위해 변환하기\n",
    "\n",
    "phone_list <- content(phone_resp, as=\"parse\", encoding=\"utf-8\")\n",
    "phone_list"
   ]
  },
  {
   "cell_type": "code",
   "execution_count": 12,
   "metadata": {
    "vscode": {
     "languageId": "r"
    }
   },
   "outputs": [
    {
     "data": {
      "text/html": [
       "'OK'"
      ],
      "text/latex": [
       "'OK'"
      ],
      "text/markdown": [
       "'OK'"
      ],
      "text/plain": [
       "[1] \"OK\""
      ]
     },
     "metadata": {},
     "output_type": "display_data"
    },
    {
     "data": {
      "text/html": [
       "'SUCCESS'"
      ],
      "text/latex": [
       "'SUCCESS'"
      ],
      "text/markdown": [
       "'SUCCESS'"
      ],
      "text/plain": [
       "[1] \"SUCCESS\""
      ]
     },
     "metadata": {},
     "output_type": "display_data"
    },
    {
     "data": {
      "text/html": [
       "'갤럭시 S6'"
      ],
      "text/latex": [
       "'갤럭시 S6'"
      ],
      "text/markdown": [
       "'갤럭시 S6'"
      ],
      "text/plain": [
       "[1] \"갤럭시 S6\""
      ]
     },
     "metadata": {},
     "output_type": "display_data"
    },
    {
     "data": {
      "text/html": [
       "'삼성'"
      ],
      "text/latex": [
       "'삼성'"
      ],
      "text/markdown": [
       "'삼성'"
      ],
      "text/plain": [
       "[1] \"삼성\""
      ]
     },
     "metadata": {},
     "output_type": "display_data"
    },
    {
     "data": {
      "text/html": [
       "'http://localhost:8080/img/GalaxyS6.png'"
      ],
      "text/latex": [
       "'http://localhost:8080/img/GalaxyS6.png'"
      ],
      "text/markdown": [
       "'http://localhost:8080/img/GalaxyS6.png'"
      ],
      "text/plain": [
       "[1] \"http://localhost:8080/img/GalaxyS6.png\""
      ]
     },
     "metadata": {},
     "output_type": "display_data"
    },
    {
     "data": {
      "text/html": [
       "1000000"
      ],
      "text/latex": [
       "1000000"
      ],
      "text/markdown": [
       "1000000"
      ],
      "text/plain": [
       "[1] 1000000"
      ]
     },
     "metadata": {},
     "output_type": "display_data"
    },
    {
     "data": {
      "text/html": [
       "850000"
      ],
      "text/latex": [
       "850000"
      ],
      "text/markdown": [
       "850000"
      ],
      "text/plain": [
       "[1] 850000"
      ]
     },
     "metadata": {},
     "output_type": "display_data"
    }
   ],
   "source": [
    "# 변환된 데이터의 하위 요소에 접근하기\n",
    "\n",
    "phone_list$rt\n",
    "phone_list$rtmsg\n",
    "phone_list$item$name\n",
    "phone_list$item$type\n",
    "phone_list$item$img\n",
    "phone_list$item$price$fixed\n",
    "phone_list$item$price$sale"
   ]
  },
  {
   "cell_type": "markdown",
   "metadata": {},
   "source": [
    "# 목록 형식의 구조에 접근하기"
   ]
  },
  {
   "cell_type": "code",
   "execution_count": 16,
   "metadata": {
    "vscode": {
     "languageId": "r"
    }
   },
   "outputs": [
    {
     "data": {
      "text/plain": [
       "Response [https://zeushahn.github.io/Test/R/student.json]\n",
       "  Date: 2022-04-21 05:00\n",
       "  Status: 200\n",
       "  Content-Type: application/json; charset=utf-8\n",
       "  Size: 171 B\n",
       "{\n",
       "\t\"student\": [\n",
       "\t\t\t{\"name\":\"철수\",\"math\":85,\"kor\":80,\"eng\":70},\n",
       "\t\t\t{\"name\":\"영이\",\"math\":92,\"kor\":70,\"eng\":85},\n",
       "\t\t\t{\"name\":\"순이\",\"math\":61,\"kor\":100,\"eng\":72}\n",
       "\t]\n",
       "}"
      ]
     },
     "metadata": {},
     "output_type": "display_data"
    }
   ],
   "source": [
    "# JSON List URL\n",
    "\n",
    "list_json_url <- \"https://zeushahn.github.io/Test/R/student.json\"\n",
    "\n",
    "# 데이터 가져오기\n",
    "list_resp <- GET(list_json_url)\n",
    "list_resp"
   ]
  },
  {
   "cell_type": "code",
   "execution_count": 17,
   "metadata": {
    "vscode": {
     "languageId": "r"
    }
   },
   "outputs": [
    {
     "data": {
      "text/html": [
       "<strong>$student</strong> = <ol>\n",
       "\t<li><dl>\n",
       "\t<dt>$name</dt>\n",
       "\t\t<dd>'철수'</dd>\n",
       "\t<dt>$math</dt>\n",
       "\t\t<dd>85</dd>\n",
       "\t<dt>$kor</dt>\n",
       "\t\t<dd>80</dd>\n",
       "\t<dt>$eng</dt>\n",
       "\t\t<dd>70</dd>\n",
       "</dl>\n",
       "</li>\n",
       "\t<li><dl>\n",
       "\t<dt>$name</dt>\n",
       "\t\t<dd>'영이'</dd>\n",
       "\t<dt>$math</dt>\n",
       "\t\t<dd>92</dd>\n",
       "\t<dt>$kor</dt>\n",
       "\t\t<dd>70</dd>\n",
       "\t<dt>$eng</dt>\n",
       "\t\t<dd>85</dd>\n",
       "</dl>\n",
       "</li>\n",
       "\t<li><dl>\n",
       "\t<dt>$name</dt>\n",
       "\t\t<dd>'순이'</dd>\n",
       "\t<dt>$math</dt>\n",
       "\t\t<dd>61</dd>\n",
       "\t<dt>$kor</dt>\n",
       "\t\t<dd>100</dd>\n",
       "\t<dt>$eng</dt>\n",
       "\t\t<dd>72</dd>\n",
       "</dl>\n",
       "</li>\n",
       "</ol>\n"
      ],
      "text/latex": [
       "\\textbf{\\$student} = \\begin{enumerate}\n",
       "\\item \\begin{description}\n",
       "\\item[\\$name] '철수'\n",
       "\\item[\\$math] 85\n",
       "\\item[\\$kor] 80\n",
       "\\item[\\$eng] 70\n",
       "\\end{description}\n",
       "\n",
       "\\item \\begin{description}\n",
       "\\item[\\$name] '영이'\n",
       "\\item[\\$math] 92\n",
       "\\item[\\$kor] 70\n",
       "\\item[\\$eng] 85\n",
       "\\end{description}\n",
       "\n",
       "\\item \\begin{description}\n",
       "\\item[\\$name] '순이'\n",
       "\\item[\\$math] 61\n",
       "\\item[\\$kor] 100\n",
       "\\item[\\$eng] 72\n",
       "\\end{description}\n",
       "\n",
       "\\end{enumerate}\n"
      ],
      "text/markdown": [
       "**$student** = 1. $name\n",
       ":   '철수'\n",
       "$math\n",
       ":   85\n",
       "$kor\n",
       ":   80\n",
       "$eng\n",
       ":   70\n",
       "\n",
       "\n",
       "\n",
       "2. $name\n",
       ":   '영이'\n",
       "$math\n",
       ":   92\n",
       "$kor\n",
       ":   70\n",
       "$eng\n",
       ":   85\n",
       "\n",
       "\n",
       "\n",
       "3. $name\n",
       ":   '순이'\n",
       "$math\n",
       ":   61\n",
       "$kor\n",
       ":   100\n",
       "$eng\n",
       ":   72\n",
       "\n",
       "\n",
       "\n",
       "\n",
       "\n"
      ],
      "text/plain": [
       "$student\n",
       "$student[[1]]\n",
       "$student[[1]]$name\n",
       "[1] \"철수\"\n",
       "\n",
       "$student[[1]]$math\n",
       "[1] 85\n",
       "\n",
       "$student[[1]]$kor\n",
       "[1] 80\n",
       "\n",
       "$student[[1]]$eng\n",
       "[1] 70\n",
       "\n",
       "\n",
       "$student[[2]]\n",
       "$student[[2]]$name\n",
       "[1] \"영이\"\n",
       "\n",
       "$student[[2]]$math\n",
       "[1] 92\n",
       "\n",
       "$student[[2]]$kor\n",
       "[1] 70\n",
       "\n",
       "$student[[2]]$eng\n",
       "[1] 85\n",
       "\n",
       "\n",
       "$student[[3]]\n",
       "$student[[3]]$name\n",
       "[1] \"순이\"\n",
       "\n",
       "$student[[3]]$math\n",
       "[1] 61\n",
       "\n",
       "$student[[3]]$kor\n",
       "[1] 100\n",
       "\n",
       "$student[[3]]$eng\n",
       "[1] 72\n",
       "\n",
       "\n"
      ]
     },
     "metadata": {},
     "output_type": "display_data"
    }
   ],
   "source": [
    "# 가져온 데이터를 R에서 활용하기 위해 변환하기\n",
    "\n",
    "student_list <- content(list_resp, as=\"parse\", encoding=\"utf-8\")\n",
    "student_list"
   ]
  },
  {
   "cell_type": "code",
   "execution_count": 18,
   "metadata": {
    "vscode": {
     "languageId": "r"
    }
   },
   "outputs": [
    {
     "data": {
      "text/html": [
       "<table>\n",
       "<thead><tr><th scope=col>name</th><th scope=col>math</th><th scope=col>kor</th><th scope=col>eng</th></tr></thead>\n",
       "<tbody>\n",
       "\t<tr><td>철수</td><td>85  </td><td> 80 </td><td>70  </td></tr>\n",
       "\t<tr><td>영이</td><td>92  </td><td> 70 </td><td>85  </td></tr>\n",
       "\t<tr><td>순이</td><td>61  </td><td>100 </td><td>72  </td></tr>\n",
       "</tbody>\n",
       "</table>\n"
      ],
      "text/latex": [
       "\\begin{tabular}{r|llll}\n",
       " name & math & kor & eng\\\\\n",
       "\\hline\n",
       "\t 철수 & 85   &  80  & 70  \\\\\n",
       "\t 영이 & 92   &  70  & 85  \\\\\n",
       "\t 순이 & 61   & 100  & 72  \\\\\n",
       "\\end{tabular}\n"
      ],
      "text/markdown": [
       "\n",
       "| name | math | kor | eng |\n",
       "|---|---|---|---|\n",
       "| 철수 | 85   |  80  | 70   |\n",
       "| 영이 | 92   |  70  | 85   |\n",
       "| 순이 | 61   | 100  | 72   |\n",
       "\n"
      ],
      "text/plain": [
       "  name math kor eng\n",
       "1 철수 85    80 70 \n",
       "2 영이 92    70 85 \n",
       "3 순이 61   100 72 "
      ]
     },
     "metadata": {},
     "output_type": "display_data"
    }
   ],
   "source": [
    "# DataFrame으로 변환\n",
    "\n",
    "stud_df <- bind_rows(student_list$student)\n",
    "stud_df"
   ]
  },
  {
   "cell_type": "markdown",
   "metadata": {},
   "source": [
    "### 데이터 전처리"
   ]
  },
  {
   "cell_type": "code",
   "execution_count": 19,
   "metadata": {
    "vscode": {
     "languageId": "r"
    }
   },
   "outputs": [
    {
     "data": {
      "text/html": [
       "<table>\n",
       "<thead><tr><th scope=col>이름</th><th scope=col>수학</th><th scope=col>국어</th><th scope=col>영어</th></tr></thead>\n",
       "<tbody>\n",
       "\t<tr><td>철수</td><td>85  </td><td> 80 </td><td>70  </td></tr>\n",
       "\t<tr><td>영이</td><td>92  </td><td> 70 </td><td>85  </td></tr>\n",
       "\t<tr><td>순이</td><td>61  </td><td>100 </td><td>72  </td></tr>\n",
       "</tbody>\n",
       "</table>\n"
      ],
      "text/latex": [
       "\\begin{tabular}{r|llll}\n",
       " 이름 & 수학 & 국어 & 영어\\\\\n",
       "\\hline\n",
       "\t 철수 & 85   &  80  & 70  \\\\\n",
       "\t 영이 & 92   &  70  & 85  \\\\\n",
       "\t 순이 & 61   & 100  & 72  \\\\\n",
       "\\end{tabular}\n"
      ],
      "text/markdown": [
       "\n",
       "| 이름 | 수학 | 국어 | 영어 |\n",
       "|---|---|---|---|\n",
       "| 철수 | 85   |  80  | 70   |\n",
       "| 영이 | 92   |  70  | 85   |\n",
       "| 순이 | 61   | 100  | 72   |\n",
       "\n"
      ],
      "text/plain": [
       "  이름 수학 국어 영어\n",
       "1 철수 85    80  70  \n",
       "2 영이 92    70  85  \n",
       "3 순이 61   100  72  "
      ]
     },
     "metadata": {},
     "output_type": "display_data"
    }
   ],
   "source": [
    "# 컬럼이름 변경\n",
    "\n",
    "new <- rename(stud_df, '이름'=name, '수학'=math, '국어'=kor, '영어'=eng)\n",
    "new"
   ]
  },
  {
   "cell_type": "code",
   "execution_count": 20,
   "metadata": {
    "vscode": {
     "languageId": "r"
    }
   },
   "outputs": [
    {
     "data": {
      "text/html": [
       "<table>\n",
       "<thead><tr><th scope=col>이름</th><th scope=col>수학</th><th scope=col>국어</th><th scope=col>영어</th><th scope=col>총점</th><th scope=col>평균</th></tr></thead>\n",
       "<tbody>\n",
       "\t<tr><td>철수    </td><td>85      </td><td> 80     </td><td>70      </td><td>235     </td><td>78.33333</td></tr>\n",
       "\t<tr><td>영이    </td><td>92      </td><td> 70     </td><td>85      </td><td>247     </td><td>82.33333</td></tr>\n",
       "\t<tr><td>순이    </td><td>61      </td><td>100     </td><td>72      </td><td>233     </td><td>77.66667</td></tr>\n",
       "</tbody>\n",
       "</table>\n"
      ],
      "text/latex": [
       "\\begin{tabular}{r|llllll}\n",
       " 이름 & 수학 & 국어 & 영어 & 총점 & 평균\\\\\n",
       "\\hline\n",
       "\t 철수     & 85       &  80      & 70       & 235      & 78.33333\\\\\n",
       "\t 영이     & 92       &  70      & 85       & 247      & 82.33333\\\\\n",
       "\t 순이     & 61       & 100      & 72       & 233      & 77.66667\\\\\n",
       "\\end{tabular}\n"
      ],
      "text/markdown": [
       "\n",
       "| 이름 | 수학 | 국어 | 영어 | 총점 | 평균 |\n",
       "|---|---|---|---|---|---|\n",
       "| 철수     | 85       |  80      | 70       | 235      | 78.33333 |\n",
       "| 영이     | 92       |  70      | 85       | 247      | 82.33333 |\n",
       "| 순이     | 61       | 100      | 72       | 233      | 77.66667 |\n",
       "\n"
      ],
      "text/plain": [
       "  이름 수학 국어 영어 총점 평균    \n",
       "1 철수 85    80  70   235  78.33333\n",
       "2 영이 92    70  85   247  82.33333\n",
       "3 순이 61   100  72   233  77.66667"
      ]
     },
     "metadata": {},
     "output_type": "display_data"
    }
   ],
   "source": [
    "# 총점,평균\n",
    "\n",
    "df <- new %>%\n",
    "        mutate(총점=수학+국어+영어, 평균=총점/3)\n",
    "df"
   ]
  },
  {
   "cell_type": "markdown",
   "metadata": {},
   "source": [
    "# JSON File로 읽기"
   ]
  },
  {
   "cell_type": "code",
   "execution_count": 21,
   "metadata": {
    "vscode": {
     "languageId": "r"
    }
   },
   "outputs": [
    {
     "name": "stderr",
     "output_type": "stream",
     "text": [
      "\n",
      "Attaching package: ‘jsonlite’\n",
      "\n",
      "The following objects are masked from ‘package:rjson’:\n",
      "\n",
      "    fromJSON, toJSON\n",
      "\n"
     ]
    }
   ],
   "source": [
    "library(jsonlite) # file로 구성된 json 읽어오기"
   ]
  },
  {
   "cell_type": "code",
   "execution_count": 22,
   "metadata": {
    "vscode": {
     "languageId": "r"
    }
   },
   "outputs": [
    {
     "data": {
      "text/html": [
       "<strong>$student</strong> = <table>\n",
       "<thead><tr><th scope=col>name</th><th scope=col>math</th><th scope=col>kor</th><th scope=col>eng</th></tr></thead>\n",
       "<tbody>\n",
       "\t<tr><td>철수</td><td>85  </td><td> 80 </td><td>70  </td></tr>\n",
       "\t<tr><td>영이</td><td>92  </td><td> 70 </td><td>85  </td></tr>\n",
       "\t<tr><td>순이</td><td>61  </td><td>100 </td><td>72  </td></tr>\n",
       "</tbody>\n",
       "</table>\n"
      ],
      "text/latex": [
       "\\textbf{\\$student} = \\begin{tabular}{r|llll}\n",
       " name & math & kor & eng\\\\\n",
       "\\hline\n",
       "\t 철수 & 85   &  80  & 70  \\\\\n",
       "\t 영이 & 92   &  70  & 85  \\\\\n",
       "\t 순이 & 61   & 100  & 72  \\\\\n",
       "\\end{tabular}\n"
      ],
      "text/markdown": [
       "**$student** = \n",
       "| name | math | kor | eng |\n",
       "|---|---|---|---|\n",
       "| 철수 | 85   |  80  | 70   |\n",
       "| 영이 | 92   |  70  | 85   |\n",
       "| 순이 | 61   | 100  | 72   |\n",
       "\n"
      ],
      "text/plain": [
       "$student\n",
       "  name math kor eng\n",
       "1 철수   85  80  70\n",
       "2 영이   92  70  85\n",
       "3 순이   61 100  72\n"
      ]
     },
     "metadata": {},
     "output_type": "display_data"
    },
    {
     "data": {
      "text/html": [
       "'list'"
      ],
      "text/latex": [
       "'list'"
      ],
      "text/markdown": [
       "'list'"
      ],
      "text/plain": [
       "[1] \"list\""
      ]
     },
     "metadata": {},
     "output_type": "display_data"
    }
   ],
   "source": [
    "# 파일 불러오기\n",
    "\n",
    "student_list <- fromJSON(\"../Data/student.json\")\n",
    "student_list\n",
    "class(student_list)"
   ]
  },
  {
   "cell_type": "code",
   "execution_count": 23,
   "metadata": {
    "vscode": {
     "languageId": "r"
    }
   },
   "outputs": [
    {
     "data": {
      "text/html": [
       "<table>\n",
       "<thead><tr><th scope=col>student.name</th><th scope=col>student.math</th><th scope=col>student.kor</th><th scope=col>student.eng</th></tr></thead>\n",
       "<tbody>\n",
       "\t<tr><td>철수</td><td>85  </td><td> 80 </td><td>70  </td></tr>\n",
       "\t<tr><td>영이</td><td>92  </td><td> 70 </td><td>85  </td></tr>\n",
       "\t<tr><td>순이</td><td>61  </td><td>100 </td><td>72  </td></tr>\n",
       "</tbody>\n",
       "</table>\n"
      ],
      "text/latex": [
       "\\begin{tabular}{r|llll}\n",
       " student.name & student.math & student.kor & student.eng\\\\\n",
       "\\hline\n",
       "\t 철수 & 85   &  80  & 70  \\\\\n",
       "\t 영이 & 92   &  70  & 85  \\\\\n",
       "\t 순이 & 61   & 100  & 72  \\\\\n",
       "\\end{tabular}\n"
      ],
      "text/markdown": [
       "\n",
       "| student.name | student.math | student.kor | student.eng |\n",
       "|---|---|---|---|\n",
       "| 철수 | 85   |  80  | 70   |\n",
       "| 영이 | 92   |  70  | 85   |\n",
       "| 순이 | 61   | 100  | 72   |\n",
       "\n"
      ],
      "text/plain": [
       "  student.name student.math student.kor student.eng\n",
       "1 철수         85            80         70         \n",
       "2 영이         92            70         85         \n",
       "3 순이         61           100         72         "
      ]
     },
     "metadata": {},
     "output_type": "display_data"
    }
   ],
   "source": [
    "# DataFrame으로 변환\n",
    "\n",
    "student_df <- as.data.frame(student_list)\n",
    "student_df"
   ]
  },
  {
   "cell_type": "code",
   "execution_count": 24,
   "metadata": {
    "vscode": {
     "languageId": "r"
    }
   },
   "outputs": [
    {
     "data": {
      "text/html": [
       "<table>\n",
       "<thead><tr><th scope=col>이름</th><th scope=col>수학</th><th scope=col>국어</th><th scope=col>영어</th></tr></thead>\n",
       "<tbody>\n",
       "\t<tr><td>철수</td><td>85  </td><td> 80 </td><td>70  </td></tr>\n",
       "\t<tr><td>영이</td><td>92  </td><td> 70 </td><td>85  </td></tr>\n",
       "\t<tr><td>순이</td><td>61  </td><td>100 </td><td>72  </td></tr>\n",
       "</tbody>\n",
       "</table>\n"
      ],
      "text/latex": [
       "\\begin{tabular}{r|llll}\n",
       " 이름 & 수학 & 국어 & 영어\\\\\n",
       "\\hline\n",
       "\t 철수 & 85   &  80  & 70  \\\\\n",
       "\t 영이 & 92   &  70  & 85  \\\\\n",
       "\t 순이 & 61   & 100  & 72  \\\\\n",
       "\\end{tabular}\n"
      ],
      "text/markdown": [
       "\n",
       "| 이름 | 수학 | 국어 | 영어 |\n",
       "|---|---|---|---|\n",
       "| 철수 | 85   |  80  | 70   |\n",
       "| 영이 | 92   |  70  | 85   |\n",
       "| 순이 | 61   | 100  | 72   |\n",
       "\n"
      ],
      "text/plain": [
       "  이름 수학 국어 영어\n",
       "1 철수 85    80  70  \n",
       "2 영이 92    70  85  \n",
       "3 순이 61   100  72  "
      ]
     },
     "metadata": {},
     "output_type": "display_data"
    }
   ],
   "source": [
    "# 컬럼이름 변경\n",
    "\n",
    "new_df <- rename(student_df, '이름'=student.name, '수학'=student.math, '국어'=student.kor, '영어'=student.eng)\n",
    "new_df"
   ]
  },
  {
   "cell_type": "code",
   "execution_count": 25,
   "metadata": {
    "vscode": {
     "languageId": "r"
    }
   },
   "outputs": [
    {
     "data": {
      "text/html": [
       "<table>\n",
       "<thead><tr><th scope=col>이름</th><th scope=col>수학</th><th scope=col>국어</th><th scope=col>영어</th><th scope=col>총점</th><th scope=col>평균</th></tr></thead>\n",
       "<tbody>\n",
       "\t<tr><td>철수    </td><td>85      </td><td> 80     </td><td>70      </td><td>235     </td><td>78.33333</td></tr>\n",
       "\t<tr><td>영이    </td><td>92      </td><td> 70     </td><td>85      </td><td>247     </td><td>82.33333</td></tr>\n",
       "\t<tr><td>순이    </td><td>61      </td><td>100     </td><td>72      </td><td>233     </td><td>77.66667</td></tr>\n",
       "</tbody>\n",
       "</table>\n"
      ],
      "text/latex": [
       "\\begin{tabular}{r|llllll}\n",
       " 이름 & 수학 & 국어 & 영어 & 총점 & 평균\\\\\n",
       "\\hline\n",
       "\t 철수     & 85       &  80      & 70       & 235      & 78.33333\\\\\n",
       "\t 영이     & 92       &  70      & 85       & 247      & 82.33333\\\\\n",
       "\t 순이     & 61       & 100      & 72       & 233      & 77.66667\\\\\n",
       "\\end{tabular}\n"
      ],
      "text/markdown": [
       "\n",
       "| 이름 | 수학 | 국어 | 영어 | 총점 | 평균 |\n",
       "|---|---|---|---|---|---|\n",
       "| 철수     | 85       |  80      | 70       | 235      | 78.33333 |\n",
       "| 영이     | 92       |  70      | 85       | 247      | 82.33333 |\n",
       "| 순이     | 61       | 100      | 72       | 233      | 77.66667 |\n",
       "\n"
      ],
      "text/plain": [
       "  이름 수학 국어 영어 총점 평균    \n",
       "1 철수 85    80  70   235  78.33333\n",
       "2 영이 92    70  85   247  82.33333\n",
       "3 순이 61   100  72   233  77.66667"
      ]
     },
     "metadata": {},
     "output_type": "display_data"
    }
   ],
   "source": [
    "# 총점,평균\n",
    "\n",
    "df <- new_df %>%\n",
    "        mutate(총점=수학+국어+영어, 평균=총점/3)\n",
    "df"
   ]
  },
  {
   "cell_type": "code",
   "execution_count": null,
   "metadata": {
    "vscode": {
     "languageId": "r"
    }
   },
   "outputs": [],
   "source": []
  }
 ],
 "metadata": {
  "kernelspec": {
   "display_name": "R",
   "language": "R",
   "name": "ir"
  },
  "language_info": {
   "codemirror_mode": "r",
   "file_extension": ".r",
   "mimetype": "text/x-r-source",
   "name": "R",
   "pygments_lexer": "r",
   "version": "3.6.1"
  }
 },
 "nbformat": 4,
 "nbformat_minor": 4
}