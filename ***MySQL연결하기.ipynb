{
 "cells": [
  {
   "cell_type": "markdown",
   "id": "be53eab9",
   "metadata": {},
   "source": [
    "# Database Name : RSQL\n",
    "# Table Name : score\n",
    "id, korea, english, mathmatics\n",
    "\n",
    "- Anaconda Navigator\n",
    "- rJava, RMySQL 설치하기\n"
   ]
  },
  {
   "cell_type": "code",
   "execution_count": 9,
   "id": "7876b6e8",
   "metadata": {},
   "outputs": [],
   "source": [
    "library(RMySQL)"
   ]
  },
  {
   "cell_type": "code",
   "execution_count": null,
   "id": "c97672e8",
   "metadata": {},
   "outputs": [],
   "source": [
    "\n",
    "conn <- dbConnect(MySQL(),\n",
    "                dbname = 'RSQL',\n",
    "                 user = 'root',\n",
    "                 password = 'qwer1234',\n",
    "                 host = '127.0.0.1'\n",
    "                )"
   ]
  },
  {
   "cell_type": "code",
   "execution_count": null,
   "id": "5f079a12",
   "metadata": {},
   "outputs": [],
   "source": [
    "# 테이블 목록\n",
    "dbListTables(conn)"
   ]
  },
  {
   "cell_type": "code",
   "execution_count": null,
   "id": "ac52b4fc",
   "metadata": {},
   "outputs": [],
   "source": [
    "# 테이블의 컬럼 목록\n",
    "dbListFields(conn, 'score')"
   ]
  },
  {
   "cell_type": "code",
   "execution_count": null,
   "id": "4e442e71",
   "metadata": {},
   "outputs": [],
   "source": [
    "# Select\n",
    "dbGetQuery(conn, 'select count(*) from score')"
   ]
  },
  {
   "cell_type": "code",
   "execution_count": null,
   "id": "67a0af14",
   "metadata": {},
   "outputs": [],
   "source": [
    "dbGetQuery(conn, 'select * from score')"
   ]
  },
  {
   "cell_type": "code",
   "execution_count": null,
   "id": "36775a0f",
   "metadata": {},
   "outputs": [],
   "source": [
    "dbSendQuery(conn, 'insert into score values (1, 100, 100, 100)')\n",
    "\n",
    "result = dbGetQuery(conn, 'select * from score')\n",
    "result"
   ]
  },
  {
   "cell_type": "code",
   "execution_count": null,
   "id": "78a3f096",
   "metadata": {},
   "outputs": [],
   "source": [
    "#insert\n",
    "dbSendQuery(conn, 'insert into score values (2, 90, 90, 90)')\n",
    "\n",
    "result = dbGetQuery(conn, 'select * from score')\n",
    "result"
   ]
  },
  {
   "cell_type": "code",
   "execution_count": null,
   "id": "bf66ec16",
   "metadata": {},
   "outputs": [],
   "source": [
    "#update\n",
    "dbSendQuery(conn, 'update score set korean=90, english=80, mathmatics = 70 where id=2')\n",
    "\n",
    "result = dbGetQuery(conn, 'select * from score')\n",
    "result"
   ]
  },
  {
   "cell_type": "code",
   "execution_count": null,
   "id": "dbe42756",
   "metadata": {},
   "outputs": [],
   "source": [
    "#delete\n",
    "dbSendQuery(conn, 'delete from score where id=2')\n",
    "\n",
    "result = dbGetQuery(conn, 'select * from score')\n",
    "result"
   ]
  },
  {
   "cell_type": "code",
   "execution_count": null,
   "id": "5c1d981d",
   "metadata": {},
   "outputs": [],
   "source": [
    "# csv file을 읽어서 MySQL에 넣기"
   ]
  },
  {
   "cell_type": "code",
   "execution_count": 36,
   "id": "1011f8a0",
   "metadata": {},
   "outputs": [
    {
     "data": {
      "text/html": [
       "<table>\n",
       "<thead><tr><th scope=col>id</th><th scope=col>korean</th><th scope=col>english</th><th scope=col>mathematics</th></tr></thead>\n",
       "<tbody>\n",
       "\t<tr><td> 1 </td><td> 90</td><td> 80</td><td> 70</td></tr>\n",
       "\t<tr><td> 2 </td><td> 90</td><td> 88</td><td> 70</td></tr>\n",
       "\t<tr><td> 3 </td><td> 90</td><td> 89</td><td> 70</td></tr>\n",
       "\t<tr><td> 4 </td><td> 90</td><td> 87</td><td> 70</td></tr>\n",
       "\t<tr><td> 5 </td><td> 90</td><td> 60</td><td> 70</td></tr>\n",
       "\t<tr><td> 6 </td><td>100</td><td>100</td><td>100</td></tr>\n",
       "\t<tr><td> 7 </td><td>100</td><td>100</td><td>100</td></tr>\n",
       "\t<tr><td> 8 </td><td>100</td><td>100</td><td>100</td></tr>\n",
       "\t<tr><td> 9 </td><td>100</td><td>100</td><td>100</td></tr>\n",
       "\t<tr><td>10 </td><td>100</td><td>100</td><td>100</td></tr>\n",
       "</tbody>\n",
       "</table>\n"
      ],
      "text/latex": [
       "\\begin{tabular}{r|llll}\n",
       " id & korean & english & mathematics\\\\\n",
       "\\hline\n",
       "\t  1  &  90 &  80 &  70\\\\\n",
       "\t  2  &  90 &  88 &  70\\\\\n",
       "\t  3  &  90 &  89 &  70\\\\\n",
       "\t  4  &  90 &  87 &  70\\\\\n",
       "\t  5  &  90 &  60 &  70\\\\\n",
       "\t  6  & 100 & 100 & 100\\\\\n",
       "\t  7  & 100 & 100 & 100\\\\\n",
       "\t  8  & 100 & 100 & 100\\\\\n",
       "\t  9  & 100 & 100 & 100\\\\\n",
       "\t 10  & 100 & 100 & 100\\\\\n",
       "\\end{tabular}\n"
      ],
      "text/markdown": [
       "\n",
       "| id | korean | english | mathematics |\n",
       "|---|---|---|---|\n",
       "|  1  |  90 |  80 |  70 |\n",
       "|  2  |  90 |  88 |  70 |\n",
       "|  3  |  90 |  89 |  70 |\n",
       "|  4  |  90 |  87 |  70 |\n",
       "|  5  |  90 |  60 |  70 |\n",
       "|  6  | 100 | 100 | 100 |\n",
       "|  7  | 100 | 100 | 100 |\n",
       "|  8  | 100 | 100 | 100 |\n",
       "|  9  | 100 | 100 | 100 |\n",
       "| 10  | 100 | 100 | 100 |\n",
       "\n"
      ],
      "text/plain": [
       "   id korean english mathematics\n",
       "1   1  90     80      70        \n",
       "2   2  90     88      70        \n",
       "3   3  90     89      70        \n",
       "4   4  90     87      70        \n",
       "5   5  90     60      70        \n",
       "6   6 100    100     100        \n",
       "7   7 100    100     100        \n",
       "8   8 100    100     100        \n",
       "9   9 100    100     100        \n",
       "10 10 100    100     100        "
      ]
     },
     "metadata": {},
     "output_type": "display_data"
    }
   ],
   "source": [
    "data <- read.csv(\"../R_yang/score.csv\", header = F)\n",
    "colnames(data) <- c('id','korean','english','mathematics')\n",
    "data"
   ]
  },
  {
   "cell_type": "code",
   "execution_count": 40,
   "id": "c2aa6658",
   "metadata": {},
   "outputs": [
    {
     "data": {
      "text/html": [
       "TRUE"
      ],
      "text/latex": [
       "TRUE"
      ],
      "text/markdown": [
       "TRUE"
      ],
      "text/plain": [
       "[1] TRUE"
      ]
     },
     "metadata": {},
     "output_type": "display_data"
    }
   ],
   "source": [
    "dbWriteTable(conn, \"score\", data, overwrite = T, row.names=F)"
   ]
  },
  {
   "cell_type": "code",
   "execution_count": 41,
   "id": "730cc126",
   "metadata": {},
   "outputs": [],
   "source": [
    "data2 <- read.csv(\"../R_yang/score2.csv\", header = F)"
   ]
  },
  {
   "cell_type": "code",
   "execution_count": 42,
   "id": "26913870",
   "metadata": {},
   "outputs": [
    {
     "data": {
      "text/html": [
       "TRUE"
      ],
      "text/latex": [
       "TRUE"
      ],
      "text/markdown": [
       "TRUE"
      ],
      "text/plain": [
       "[1] TRUE"
      ]
     },
     "metadata": {},
     "output_type": "display_data"
    }
   ],
   "source": [
    "dbWriteTable(conn, \"score\", data, overwrite = T, row.names=F)"
   ]
  },
  {
   "cell_type": "code",
   "execution_count": 44,
   "id": "c3ab0fd5",
   "metadata": {},
   "outputs": [
    {
     "data": {
      "text/html": [
       "<table>\n",
       "<thead><tr><th scope=col>id</th><th scope=col>korean</th><th scope=col>english</th><th scope=col>mathematics</th></tr></thead>\n",
       "<tbody>\n",
       "\t<tr><td> 1 </td><td> 90</td><td> 80</td><td> 70</td></tr>\n",
       "\t<tr><td> 2 </td><td> 90</td><td> 88</td><td> 70</td></tr>\n",
       "\t<tr><td> 3 </td><td> 90</td><td> 89</td><td> 70</td></tr>\n",
       "\t<tr><td> 4 </td><td> 90</td><td> 87</td><td> 70</td></tr>\n",
       "\t<tr><td> 5 </td><td> 90</td><td> 60</td><td> 70</td></tr>\n",
       "\t<tr><td> 6 </td><td>100</td><td>100</td><td>100</td></tr>\n",
       "\t<tr><td> 7 </td><td>100</td><td>100</td><td>100</td></tr>\n",
       "\t<tr><td> 8 </td><td>100</td><td>100</td><td>100</td></tr>\n",
       "\t<tr><td> 9 </td><td>100</td><td>100</td><td>100</td></tr>\n",
       "\t<tr><td>10 </td><td>100</td><td>100</td><td>100</td></tr>\n",
       "</tbody>\n",
       "</table>\n"
      ],
      "text/latex": [
       "\\begin{tabular}{r|llll}\n",
       " id & korean & english & mathematics\\\\\n",
       "\\hline\n",
       "\t  1  &  90 &  80 &  70\\\\\n",
       "\t  2  &  90 &  88 &  70\\\\\n",
       "\t  3  &  90 &  89 &  70\\\\\n",
       "\t  4  &  90 &  87 &  70\\\\\n",
       "\t  5  &  90 &  60 &  70\\\\\n",
       "\t  6  & 100 & 100 & 100\\\\\n",
       "\t  7  & 100 & 100 & 100\\\\\n",
       "\t  8  & 100 & 100 & 100\\\\\n",
       "\t  9  & 100 & 100 & 100\\\\\n",
       "\t 10  & 100 & 100 & 100\\\\\n",
       "\\end{tabular}\n"
      ],
      "text/markdown": [
       "\n",
       "| id | korean | english | mathematics |\n",
       "|---|---|---|---|\n",
       "|  1  |  90 |  80 |  70 |\n",
       "|  2  |  90 |  88 |  70 |\n",
       "|  3  |  90 |  89 |  70 |\n",
       "|  4  |  90 |  87 |  70 |\n",
       "|  5  |  90 |  60 |  70 |\n",
       "|  6  | 100 | 100 | 100 |\n",
       "|  7  | 100 | 100 | 100 |\n",
       "|  8  | 100 | 100 | 100 |\n",
       "|  9  | 100 | 100 | 100 |\n",
       "| 10  | 100 | 100 | 100 |\n",
       "\n"
      ],
      "text/plain": [
       "   id korean english mathematics\n",
       "1   1  90     80      70        \n",
       "2   2  90     88      70        \n",
       "3   3  90     89      70        \n",
       "4   4  90     87      70        \n",
       "5   5  90     60      70        \n",
       "6   6 100    100     100        \n",
       "7   7 100    100     100        \n",
       "8   8 100    100     100        \n",
       "9   9 100    100     100        \n",
       "10 10 100    100     100        "
      ]
     },
     "metadata": {},
     "output_type": "display_data"
    }
   ],
   "source": [
    "result = dbGetQuery(conn, 'select * from score')\n",
    "result"
   ]
  },
  {
   "cell_type": "code",
   "execution_count": 46,
   "id": "d3c971e9",
   "metadata": {},
   "outputs": [
    {
     "data": {
      "text/html": [
       "TRUE"
      ],
      "text/latex": [
       "TRUE"
      ],
      "text/markdown": [
       "TRUE"
      ],
      "text/plain": [
       "[1] TRUE"
      ]
     },
     "metadata": {},
     "output_type": "display_data"
    }
   ],
   "source": [
    "#Disconnect\n",
    "dbDisconnect(conn)"
   ]
  },
  {
   "cell_type": "code",
   "execution_count": null,
   "id": "53f4e49a",
   "metadata": {},
   "outputs": [],
   "source": [
    "MySQL 설정에서 테이블에서 입력\n",
    "\n",
    "#SHOW VARIABLES LIKE 'local_infile';   \n",
    "#SET GLOBAL local_infile = 1;"
   ]
  }
 ],
 "metadata": {
  "kernelspec": {
   "display_name": "R",
   "language": "R",
   "name": "ir"
  },
  "language_info": {
   "codemirror_mode": "r",
   "file_extension": ".r",
   "mimetype": "text/x-r-source",
   "name": "R",
   "pygments_lexer": "r",
   "version": "3.6.1"
  }
 },
 "nbformat": 4,
 "nbformat_minor": 5
}
