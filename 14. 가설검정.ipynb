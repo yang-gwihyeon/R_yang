{
 "cells": [
  {
   "cell_type": "markdown",
   "id": "eb6b43fc",
   "metadata": {},
   "source": [
    "# 카이제곱 검정\n",
    ": 두 범주형 변수가 서로 상관이 있는지 판단하는 통계적 검정 방법.\n",
    "예) 학력, 성별, 직업의 만족도, \n",
    "\n",
    "### 아동별 장난감 보유 현황\n",
    "- 귀무가설 : child1과 child2의 장난감 보유수에 대한 만족도는 차이가 없다. \n",
    "- 대립가설 : child1과 child2의 장난감 보유수에 대한 만족도는 차이가 있다."
   ]
  },
  {
   "cell_type": "code",
   "execution_count": 3,
   "id": "ae137b5f",
   "metadata": {},
   "outputs": [],
   "source": [
    "# child별 장난감 보유 현황\n",
    "child1 <- c(5, 11, 1)\n",
    "child2 <- c(4, 7, 3)"
   ]
  },
  {
   "cell_type": "code",
   "execution_count": 5,
   "id": "fd7ae7ea",
   "metadata": {},
   "outputs": [
    {
     "data": {
      "text/html": [
       "<table>\n",
       "<thead><tr><th scope=col>child1</th><th scope=col>child2</th></tr></thead>\n",
       "<tbody>\n",
       "\t<tr><td> 5</td><td>4 </td></tr>\n",
       "\t<tr><td>11</td><td>7 </td></tr>\n",
       "\t<tr><td> 1</td><td>3 </td></tr>\n",
       "</tbody>\n",
       "</table>\n"
      ],
      "text/latex": [
       "\\begin{tabular}{ll}\n",
       " child1 & child2\\\\\n",
       "\\hline\n",
       "\t  5 & 4 \\\\\n",
       "\t 11 & 7 \\\\\n",
       "\t  1 & 3 \\\\\n",
       "\\end{tabular}\n"
      ],
      "text/markdown": [
       "\n",
       "| child1 | child2 |\n",
       "|---|---|\n",
       "|  5 | 4  |\n",
       "| 11 | 7  |\n",
       "|  1 | 3  |\n",
       "\n"
      ],
      "text/plain": [
       "     child1 child2\n",
       "[1,]  5     4     \n",
       "[2,] 11     7     \n",
       "[3,]  1     3     "
      ]
     },
     "metadata": {},
     "output_type": "display_data"
    }
   ],
   "source": [
    "# 분석을 위해 데이터 합치기\n",
    "Toy <- cbind(child1, child2)\n",
    "Toy"
   ]
  },
  {
   "cell_type": "code",
   "execution_count": 7,
   "id": "9ffeefff",
   "metadata": {},
   "outputs": [
    {
     "data": {
      "text/html": [
       "<table>\n",
       "<thead><tr><th></th><th scope=col>child1</th><th scope=col>child2</th></tr></thead>\n",
       "<tbody>\n",
       "\t<tr><th scope=row>car</th><td> 5</td><td>4 </td></tr>\n",
       "\t<tr><th scope=row>truck</th><td>11</td><td>7 </td></tr>\n",
       "\t<tr><th scope=row>doll</th><td> 1</td><td>3 </td></tr>\n",
       "</tbody>\n",
       "</table>\n"
      ],
      "text/latex": [
       "\\begin{tabular}{r|ll}\n",
       "  & child1 & child2\\\\\n",
       "\\hline\n",
       "\tcar &  5 & 4 \\\\\n",
       "\ttruck & 11 & 7 \\\\\n",
       "\tdoll &  1 & 3 \\\\\n",
       "\\end{tabular}\n"
      ],
      "text/markdown": [
       "\n",
       "| <!--/--> | child1 | child2 |\n",
       "|---|---|---|\n",
       "| car |  5 | 4  |\n",
       "| truck | 11 | 7  |\n",
       "| doll |  1 | 3  |\n",
       "\n"
      ],
      "text/plain": [
       "      child1 child2\n",
       "car    5     4     \n",
       "truck 11     7     \n",
       "doll   1     3     "
      ]
     },
     "metadata": {},
     "output_type": "display_data"
    }
   ],
   "source": [
    "rownames(Toy) <- c(\"car\",\"truck\",\"doll\")\n",
    "Toy"
   ]
  },
  {
   "cell_type": "code",
   "execution_count": 9,
   "id": "dec3d590",
   "metadata": {},
   "outputs": [
    {
     "name": "stderr",
     "output_type": "stream",
     "text": [
      "Warning message in chisq.test(Toy):\n",
      "“Chi-squared approximation may be incorrect”"
     ]
    },
    {
     "data": {
      "text/plain": [
       "\n",
       "\tPearson's Chi-squared test\n",
       "\n",
       "data:  Toy\n",
       "X-squared = 1.7258, df = 2, p-value = 0.4219\n"
      ]
     },
     "metadata": {},
     "output_type": "display_data"
    }
   ],
   "source": [
    "chisq.test(Toy)"
   ]
  },
  {
   "cell_type": "markdown",
   "id": "4f792ae5",
   "metadata": {},
   "source": [
    "### 결론\n",
    "p-value = 0.4219 > 0.05(95% 신뢰구간) -> 귀무가설 채택\n",
    "> child1과 child2dml 데이터는 통계적으로 큰 차이가 없다.\n",
    "\n",
    "p-value는 0에 가까울수록 좋다. 미리 정해진 유의수준(일반적으로 0.05) 보다 작으면 대립가설을 채택하고 유의수준보다 크면 귀무가설을 채택."
   ]
  },
  {
   "cell_type": "code",
   "execution_count": 12,
   "id": "c2e60499",
   "metadata": {},
   "outputs": [
    {
     "data": {
      "text/html": [
       "0.986241382612456"
      ],
      "text/latex": [
       "0.986241382612456"
      ],
      "text/markdown": [
       "0.986241382612456"
      ],
      "text/plain": [
       "[1] 0.9862414"
      ]
     },
     "metadata": {},
     "output_type": "display_data"
    }
   ],
   "source": [
    "cor(child1, child2)"
   ]
  },
  {
   "cell_type": "markdown",
   "id": "328ec684",
   "metadata": {},
   "source": [
    "### 메세지 : 카이제곱 근사값이 정확하지 않을 수도 있다.\n",
    "- 데이터량이 적은 경우 발생"
   ]
  },
  {
   "cell_type": "code",
   "execution_count": 13,
   "id": "9a0b64ba",
   "metadata": {},
   "outputs": [
    {
     "ename": "ERROR",
     "evalue": "Error in eval(expr, envir, enclos): 객체 '피셔검정'를 찾을 수 없습니다\n",
     "output_type": "error",
     "traceback": [
      "Error in eval(expr, envir, enclos): 객체 '피셔검정'를 찾을 수 없습니다\nTraceback:\n"
     ]
    }
   ],
   "source": [
    "# 피셔검정"
   ]
  },
  {
   "cell_type": "code",
   "execution_count": 15,
   "id": "bc2588be",
   "metadata": {},
   "outputs": [
    {
     "data": {
      "text/plain": [
       "\n",
       "\tFisher's Exact Test for Count Data\n",
       "\n",
       "data:  Toy\n",
       "p-value = 0.5165\n",
       "alternative hypothesis: two.sided\n"
      ]
     },
     "metadata": {},
     "output_type": "display_data"
    }
   ],
   "source": [
    "fisher.test(Toy)"
   ]
  },
  {
   "cell_type": "markdown",
   "id": "500ce457",
   "metadata": {},
   "source": [
    "#### p-value=0.5165>0.05 -->귀무가설"
   ]
  },
  {
   "cell_type": "markdown",
   "id": "cb874e26",
   "metadata": {},
   "source": [
    "## t-검정"
   ]
  },
  {
   "cell_type": "code",
   "execution_count": 18,
   "id": "56dfca89",
   "metadata": {},
   "outputs": [],
   "source": [
    "# 귀무가설 : 건전지 수명은 1000시간이다.\n",
    "# 대립가설 : 건전지 수명은 1000시간이 아니다."
   ]
  },
  {
   "cell_type": "code",
   "execution_count": 19,
   "id": "32690c31",
   "metadata": {},
   "outputs": [],
   "source": [
    "bat <- c(980, 1000, 868, 1032, 1012, 1002, 996, 1017)"
   ]
  },
  {
   "cell_type": "code",
   "execution_count": 20,
   "id": "a1394536",
   "metadata": {},
   "outputs": [
    {
     "data": {
      "text/html": [
       "<ol class=list-inline>\n",
       "\t<li>980</li>\n",
       "\t<li>1000</li>\n",
       "\t<li>868</li>\n",
       "\t<li>1032</li>\n",
       "\t<li>1012</li>\n",
       "\t<li>1002</li>\n",
       "\t<li>996</li>\n",
       "\t<li>1017</li>\n",
       "</ol>\n"
      ],
      "text/latex": [
       "\\begin{enumerate*}\n",
       "\\item 980\n",
       "\\item 1000\n",
       "\\item 868\n",
       "\\item 1032\n",
       "\\item 1012\n",
       "\\item 1002\n",
       "\\item 996\n",
       "\\item 1017\n",
       "\\end{enumerate*}\n"
      ],
      "text/markdown": [
       "1. 980\n",
       "2. 1000\n",
       "3. 868\n",
       "4. 1032\n",
       "5. 1012\n",
       "6. 1002\n",
       "7. 996\n",
       "8. 1017\n",
       "\n",
       "\n"
      ],
      "text/plain": [
       "[1]  980 1000  868 1032 1012 1002  996 1017"
      ]
     },
     "metadata": {},
     "output_type": "display_data"
    }
   ],
   "source": [
    "# 데이터의 분포가 정규분포이닞 확인 -> Shapiro-Wilk 검정을 실시\n",
    "# 귀무가설 : 자료가 정규분포를 따른다.\n",
    "# 대립가설 : 자료가 정규분포를 따르지 않는다."
   ]
  },
  {
   "cell_type": "code",
   "execution_count": 21,
   "id": "87731f5c",
   "metadata": {},
   "outputs": [
    {
     "data": {
      "text/plain": [
       "\n",
       "\tShapiro-Wilk normality test\n",
       "\n",
       "data:  bat\n",
       "W = 0.71139, p-value = 0.003028\n"
      ]
     },
     "metadata": {},
     "output_type": "display_data"
    }
   ],
   "source": [
    "shapiro.test(bat)"
   ]
  },
  {
   "cell_type": "code",
   "execution_count": 23,
   "id": "6ab0f530",
   "metadata": {},
   "outputs": [
    {
     "data": {
      "text/plain": [
       "\n",
       "\tOne Sample t-test\n",
       "\n",
       "data:  bat\n",
       "t = -0.64449, df = 7, p-value = 0.5398\n",
       "alternative hypothesis: true mean is not equal to 1000\n",
       "95 percent confidence interval:\n",
       "  945.7229 1031.0271\n",
       "sample estimates:\n",
       "mean of x \n",
       "  988.375 \n"
      ]
     },
     "metadata": {},
     "output_type": "display_data"
    }
   ],
   "source": [
    "# t-검정 실시\n",
    "t.test(bat, mu=1000, alternative = \"two.sided\")\n",
    "#mu 비교하는 대상의 평균\n",
    "#alternative\n",
    "# - two.sided : 데이터가 평균과 다르다\n",
    "# - greater : 데이터가 평균보다 크다\n",
    "# - less : 데이터가 평균보다 적다."
   ]
  },
  {
   "cell_type": "markdown",
   "id": "fe5f1447",
   "metadata": {},
   "source": [
    "### p-value = 0.5398 > 0.05 --> 귀무가설 : 건전지의 수명은 100시간이다. "
   ]
  },
  {
   "cell_type": "code",
   "execution_count": null,
   "id": "2b5f6f5b",
   "metadata": {},
   "outputs": [],
   "source": []
  },
  {
   "cell_type": "code",
   "execution_count": null,
   "id": "34aa04c1",
   "metadata": {},
   "outputs": [],
   "source": []
  }
 ],
 "metadata": {
  "kernelspec": {
   "display_name": "R",
   "language": "R",
   "name": "ir"
  },
  "language_info": {
   "codemirror_mode": "r",
   "file_extension": ".r",
   "mimetype": "text/x-r-source",
   "name": "R",
   "pygments_lexer": "r",
   "version": "3.6.1"
  }
 },
 "nbformat": 4,
 "nbformat_minor": 5
}
