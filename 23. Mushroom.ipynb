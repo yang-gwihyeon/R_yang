{
 "cells": [
  {
   "cell_type": "markdown",
   "id": "db1c1f34",
   "metadata": {},
   "source": [
    "# Mushroom\n",
    "\n",
    "http://archive.ics.uci.edu/ml/datasets/Mushroom\n",
    "\n",
    "-8124종류의 버섯의 특징과 독의 유무를 정리해놓은 데이터셋\n",
    "-버섯 모양의 특징을 기반으로 독의 유무를 판단\n",
    "\n",
    "한 줄(row)이 버섯 한 종류.\n",
    "1번째 컬럼은 독의 유무 : 독(p), 식용(e)\n",
    "2번째 칼럼은 버섯의 머리모양 : b(벨형태), c(원뿔), x(볼록), f(평평), k(혹), s(오목)\n",
    "4번째 칼럼은 버섯의 머리 색 : n(갈색), b(황갈색), c(연한갈색), g(회색)\n",
    "\n",
    "자세한 내용은 위의 사이트에서 확인\n"
   ]
  },
  {
   "cell_type": "code",
   "execution_count": 482,
   "id": "cfa1021c",
   "metadata": {},
   "outputs": [],
   "source": [
    "# 인공신경망 의사결정나무 랜덤포레스트 svm 로지스틱 회귀분석\n",
    "library(dplyr)\n",
    "mushroom <- read.csv(\"../R_yang/mushroom.csv\",header=F)\n",
    "mushroom <- arrange(mushroom,V1)"
   ]
  },
  {
   "cell_type": "code",
   "execution_count": 483,
   "id": "909aa044",
   "metadata": {},
   "outputs": [
    {
     "data": {
      "text/html": [
       "<table>\n",
       "<thead><tr><th scope=col>V1</th><th scope=col>V2</th><th scope=col>V3</th><th scope=col>V4</th><th scope=col>V5</th><th scope=col>V6</th><th scope=col>V7</th><th scope=col>V8</th><th scope=col>V9</th><th scope=col>V10</th><th scope=col>...</th><th scope=col>V14</th><th scope=col>V15</th><th scope=col>V16</th><th scope=col>V17</th><th scope=col>V18</th><th scope=col>V19</th><th scope=col>V20</th><th scope=col>V21</th><th scope=col>V22</th><th scope=col>V23</th></tr></thead>\n",
       "<tbody>\n",
       "\t<tr><td>e  </td><td>x  </td><td>s  </td><td>y  </td><td>t  </td><td>a  </td><td>f  </td><td>c  </td><td>b  </td><td>k  </td><td>...</td><td>s  </td><td>w  </td><td>w  </td><td>p  </td><td>w  </td><td>o  </td><td>p  </td><td>n  </td><td>n  </td><td>g  </td></tr>\n",
       "\t<tr><td>e  </td><td>b  </td><td>s  </td><td>w  </td><td>t  </td><td>l  </td><td>f  </td><td>c  </td><td>b  </td><td>n  </td><td>...</td><td>s  </td><td>w  </td><td>w  </td><td>p  </td><td>w  </td><td>o  </td><td>p  </td><td>n  </td><td>n  </td><td>m  </td></tr>\n",
       "\t<tr><td>e  </td><td>x  </td><td>s  </td><td>g  </td><td>f  </td><td>n  </td><td>f  </td><td>w  </td><td>b  </td><td>k  </td><td>...</td><td>s  </td><td>w  </td><td>w  </td><td>p  </td><td>w  </td><td>o  </td><td>e  </td><td>n  </td><td>a  </td><td>g  </td></tr>\n",
       "\t<tr><td>e  </td><td>x  </td><td>y  </td><td>y  </td><td>t  </td><td>a  </td><td>f  </td><td>c  </td><td>b  </td><td>n  </td><td>...</td><td>s  </td><td>w  </td><td>w  </td><td>p  </td><td>w  </td><td>o  </td><td>p  </td><td>k  </td><td>n  </td><td>g  </td></tr>\n",
       "\t<tr><td>e  </td><td>b  </td><td>s  </td><td>w  </td><td>t  </td><td>a  </td><td>f  </td><td>c  </td><td>b  </td><td>g  </td><td>...</td><td>s  </td><td>w  </td><td>w  </td><td>p  </td><td>w  </td><td>o  </td><td>p  </td><td>k  </td><td>n  </td><td>m  </td></tr>\n",
       "\t<tr><td>e  </td><td>b  </td><td>y  </td><td>w  </td><td>t  </td><td>l  </td><td>f  </td><td>c  </td><td>b  </td><td>n  </td><td>...</td><td>s  </td><td>w  </td><td>w  </td><td>p  </td><td>w  </td><td>o  </td><td>p  </td><td>n  </td><td>s  </td><td>m  </td></tr>\n",
       "</tbody>\n",
       "</table>\n"
      ],
      "text/latex": [
       "\\begin{tabular}{r|lllllllllllllllllllllll}\n",
       " V1 & V2 & V3 & V4 & V5 & V6 & V7 & V8 & V9 & V10 & ... & V14 & V15 & V16 & V17 & V18 & V19 & V20 & V21 & V22 & V23\\\\\n",
       "\\hline\n",
       "\t e   & x   & s   & y   & t   & a   & f   & c   & b   & k   & ... & s   & w   & w   & p   & w   & o   & p   & n   & n   & g  \\\\\n",
       "\t e   & b   & s   & w   & t   & l   & f   & c   & b   & n   & ... & s   & w   & w   & p   & w   & o   & p   & n   & n   & m  \\\\\n",
       "\t e   & x   & s   & g   & f   & n   & f   & w   & b   & k   & ... & s   & w   & w   & p   & w   & o   & e   & n   & a   & g  \\\\\n",
       "\t e   & x   & y   & y   & t   & a   & f   & c   & b   & n   & ... & s   & w   & w   & p   & w   & o   & p   & k   & n   & g  \\\\\n",
       "\t e   & b   & s   & w   & t   & a   & f   & c   & b   & g   & ... & s   & w   & w   & p   & w   & o   & p   & k   & n   & m  \\\\\n",
       "\t e   & b   & y   & w   & t   & l   & f   & c   & b   & n   & ... & s   & w   & w   & p   & w   & o   & p   & n   & s   & m  \\\\\n",
       "\\end{tabular}\n"
      ],
      "text/markdown": [
       "\n",
       "| V1 | V2 | V3 | V4 | V5 | V6 | V7 | V8 | V9 | V10 | ... | V14 | V15 | V16 | V17 | V18 | V19 | V20 | V21 | V22 | V23 |\n",
       "|---|---|---|---|---|---|---|---|---|---|---|---|---|---|---|---|---|---|---|---|---|\n",
       "| e   | x   | s   | y   | t   | a   | f   | c   | b   | k   | ... | s   | w   | w   | p   | w   | o   | p   | n   | n   | g   |\n",
       "| e   | b   | s   | w   | t   | l   | f   | c   | b   | n   | ... | s   | w   | w   | p   | w   | o   | p   | n   | n   | m   |\n",
       "| e   | x   | s   | g   | f   | n   | f   | w   | b   | k   | ... | s   | w   | w   | p   | w   | o   | e   | n   | a   | g   |\n",
       "| e   | x   | y   | y   | t   | a   | f   | c   | b   | n   | ... | s   | w   | w   | p   | w   | o   | p   | k   | n   | g   |\n",
       "| e   | b   | s   | w   | t   | a   | f   | c   | b   | g   | ... | s   | w   | w   | p   | w   | o   | p   | k   | n   | m   |\n",
       "| e   | b   | y   | w   | t   | l   | f   | c   | b   | n   | ... | s   | w   | w   | p   | w   | o   | p   | n   | s   | m   |\n",
       "\n"
      ],
      "text/plain": [
       "  V1 V2 V3 V4 V5 V6 V7 V8 V9 V10 ... V14 V15 V16 V17 V18 V19 V20 V21 V22 V23\n",
       "1 e  x  s  y  t  a  f  c  b  k   ... s   w   w   p   w   o   p   n   n   g  \n",
       "2 e  b  s  w  t  l  f  c  b  n   ... s   w   w   p   w   o   p   n   n   m  \n",
       "3 e  x  s  g  f  n  f  w  b  k   ... s   w   w   p   w   o   e   n   a   g  \n",
       "4 e  x  y  y  t  a  f  c  b  n   ... s   w   w   p   w   o   p   k   n   g  \n",
       "5 e  b  s  w  t  a  f  c  b  g   ... s   w   w   p   w   o   p   k   n   m  \n",
       "6 e  b  y  w  t  l  f  c  b  n   ... s   w   w   p   w   o   p   n   s   m  "
      ]
     },
     "metadata": {},
     "output_type": "display_data"
    }
   ],
   "source": [
    "head(mushroom)"
   ]
  },
  {
   "cell_type": "code",
   "execution_count": 484,
   "id": "bd816641",
   "metadata": {},
   "outputs": [
    {
     "data": {
      "text/html": [
       "8123"
      ],
      "text/latex": [
       "8123"
      ],
      "text/markdown": [
       "8123"
      ],
      "text/plain": [
       "[1] 8123"
      ]
     },
     "metadata": {},
     "output_type": "display_data"
    }
   ],
   "source": [
    "nrow(Mushroom2)"
   ]
  },
  {
   "cell_type": "code",
   "execution_count": 489,
   "id": "c5b79523",
   "metadata": {},
   "outputs": [],
   "source": [
    "인공신경망 <- function(iris_data){\n",
    "    \n",
    "\n",
    "library(nnet)\n",
    "library(caret)\n",
    "\n",
    "# Sampling\n",
    "samp <- createDataPartition(iris_data$V1, p=0.7, list=F)\n",
    "    \n",
    "# 학습용 데이터 만들기\n",
    "data.tr <- iris_data[samp,]\n",
    "\n",
    "# 검증용 데이터 만들기\n",
    "data.test <- iris_data[-samp,]\n",
    "\n",
    "# Model 만들기\n",
    "model.nnet <- nnet(V1 ~ ., data=data.tr, size=22) \n",
    "# size:은닉층 갯수로 sample수보다 작아야 함(Hyper Parameter)\n",
    "\n",
    "x <- subset(data.test, select = -V1)\n",
    "y <- data.test$V1\n",
    "\n",
    "pred <- predict(model.nnet, x, type = \"class\") # class :분류된것(객관식), raw : 주관식\n",
    "\n",
    "\n",
    "mean(pred == y)\n",
    "    \n",
    "\n",
    "    \n",
    "}"
   ]
  },
  {
   "cell_type": "code",
   "execution_count": 491,
   "id": "4ec62c98",
   "metadata": {},
   "outputs": [
    {
     "ename": "ERROR",
     "evalue": "Error in `contrasts<-`(`*tmp*`, value = contr.funs[1 + isOF[nn]]): contrasts can be applied only to factors with 2 or more levels\n",
     "output_type": "error",
     "traceback": [
      "Error in `contrasts<-`(`*tmp*`, value = contr.funs[1 + isOF[nn]]): contrasts can be applied only to factors with 2 or more levels\nTraceback:\n",
      "1. 인공신경망(mushroom)",
      "2. nnet(V1 ~ ., data = data.tr, size = 22)   # at line 17 of file <text>",
      "3. nnet.formula(V1 ~ ., data = data.tr, size = 22)",
      "4. model.matrix(Terms, m, contrasts)",
      "5. model.matrix.default(Terms, m, contrasts)",
      "6. `contrasts<-`(`*tmp*`, value = contr.funs[1 + isOF[nn]])",
      "7. stop(\"contrasts can be applied only to factors with 2 or more levels\")"
     ]
    }
   ],
   "source": [
    "인공신경망(mushroom)"
   ]
  },
  {
   "cell_type": "code",
   "execution_count": 497,
   "id": "49b3c0e7",
   "metadata": {},
   "outputs": [],
   "source": [
    "\n",
    "의사결정나무 <- function(iris_data){\n",
    "    library(caret)\n",
    "    library(party)\n",
    "    \n",
    "# Sampling\n",
    "samp <- createDataPartition(iris_data$V1, p=0.7, list=F)\n",
    "# 학습용 데이터 만들기\n",
    "data.tr <- iris_data[samp,]\n",
    "\n",
    "# 검증용 데이터 만들기\n",
    "data.test <- iris_data[-samp,]\n",
    "\n",
    "model.ctree <- ctree(V1 ~ ., data=data.tr)\n",
    "\n",
    "x <- subset(data.test, select = -V1)\n",
    "y <- data.test$V1\n",
    "\n",
    "pred <- predict(model.ctree, x) # class :분류된것(객관식), raw : 주관식\n",
    "\n",
    " mean(pred == y)\n",
    "    \n",
    "    }"
   ]
  },
  {
   "cell_type": "code",
   "execution_count": 498,
   "id": "ff2e77e8",
   "metadata": {},
   "outputs": [
    {
     "name": "stderr",
     "output_type": "stream",
     "text": [
      "Warning message in factor_trafo(x):\n",
      "“factors at only one level may lead to problems”Warning message in factor_trafo(x):\n",
      "“factors at only one level may lead to problems”"
     ]
    },
    {
     "data": {
      "text/html": [
       "1"
      ],
      "text/latex": [
       "1"
      ],
      "text/markdown": [
       "1"
      ],
      "text/plain": [
       "[1] 1"
      ]
     },
     "metadata": {},
     "output_type": "display_data"
    }
   ],
   "source": [
    "의사결정나무(mushroom)"
   ]
  },
  {
   "cell_type": "code",
   "execution_count": 499,
   "id": "3b5fed5b",
   "metadata": {},
   "outputs": [],
   "source": [
    "# RandomForest\n",
    "\n",
    "RandomForest <- function(iris_data){\n",
    " library(randomForest)\n",
    " library(caret)\n",
    "    \n",
    "# Sampling\n",
    "samp <- createDataPartition(iris_data$V1, p=0.7, list=F)\n",
    "    \n",
    "# 학습용 데이터 만들기\n",
    "data.tr <- iris_data[samp,]\n",
    "\n",
    "# 검증용 데이터 만들기\n",
    "data.test <- iris_data[-samp,]\n",
    "\n",
    "model.ctree <- ctree(V1 ~ ., data=data.tr)\n",
    "\n",
    "x <- subset(data.test, select = -V1)\n",
    "y <- data.test$V1\n",
    "\n",
    "model.rf <- randomForest(V1 ~ ., data = data.tr, ntree=1000)\n",
    "    \n",
    "pred <- predict(model.rf, x)\n",
    "    \n",
    "a <- mean(pred == y)\n",
    "return(a)\n",
    "    }"
   ]
  },
  {
   "cell_type": "code",
   "execution_count": 500,
   "id": "7ef0835c",
   "metadata": {},
   "outputs": [
    {
     "name": "stderr",
     "output_type": "stream",
     "text": [
      "Warning message in factor_trafo(x):\n",
      "“factors at only one level may lead to problems”"
     ]
    },
    {
     "data": {
      "text/html": [
       "1"
      ],
      "text/latex": [
       "1"
      ],
      "text/markdown": [
       "1"
      ],
      "text/plain": [
       "[1] 1"
      ]
     },
     "metadata": {},
     "output_type": "display_data"
    }
   ],
   "source": [
    "RandomForest(mushroom)"
   ]
  },
  {
   "cell_type": "code",
   "execution_count": 512,
   "id": "98fdc41b",
   "metadata": {},
   "outputs": [],
   "source": [
    "SVM <- function(iris_data){\n",
    "library(e1071)\n",
    "library(caret)\n",
    "    \n",
    "# Sampling\n",
    "samp <- createDataPartition(iris_data$V1, p=0.7, list=F)\n",
    "    \n",
    "# 학습용 데이터 만들기\n",
    "data.tr <- iris_data[samp,]\n",
    "\n",
    "# 검증용 데이터 만들기\n",
    "data.test <- iris_data[-samp,]\n",
    "    \n",
    "x <- subset(data.test, select = -V1)\n",
    "y <- data.test$V1\n",
    "\n",
    "model.svm = svm(V1 ~ ., data=data.tr)\n",
    "    \n",
    "pred <- predict(model.svm, x)\n",
    "    \n",
    "mean(pred == y)\n",
    "    \n",
    "    }"
   ]
  },
  {
   "cell_type": "code",
   "execution_count": 513,
   "id": "8826c5ae",
   "metadata": {},
   "outputs": [
    {
     "name": "stderr",
     "output_type": "stream",
     "text": [
      "Warning message in svm.default(x, y, scale = scale, ..., na.action = na.action):\n",
      "“Variable(s) ‘V17’ constant. Cannot scale data.”"
     ]
    },
    {
     "data": {
      "text/html": [
       "1"
      ],
      "text/latex": [
       "1"
      ],
      "text/markdown": [
       "1"
      ],
      "text/plain": [
       "[1] 1"
      ]
     },
     "metadata": {},
     "output_type": "display_data"
    }
   ],
   "source": [
    "SVM(mushroom)"
   ]
  },
  {
   "cell_type": "code",
   "execution_count": 514,
   "id": "d000b41d",
   "metadata": {},
   "outputs": [],
   "source": [
    "로지스틱회귀분석 <- function(iris_data){\n",
    "library(nnet)\n",
    "library(caret)\n",
    "    \n",
    "# Sampling\n",
    "samp <- createDataPartition(iris_data$V1, p=0.7, list=F)\n",
    "    \n",
    "# 학습용 데이터 만들기\n",
    "data.tr <- iris_data[samp,]\n",
    "\n",
    "# 검증용 데이터 만들기\n",
    "data.test <- iris_data[-samp,]\n",
    "    \n",
    "x <- subset(data.test, select = -V1)\n",
    "y <- data.test$V1\n",
    "\n",
    "model <- multinom(V1 ~ ., data= data.tr)\n",
    "    \n",
    "pred <- predict(model, x)\n",
    "    \n",
    "mean(pred == y)\n",
    "    \n",
    "    }"
   ]
  },
  {
   "cell_type": "code",
   "execution_count": 515,
   "id": "e5d82e6f",
   "metadata": {},
   "outputs": [
    {
     "name": "stdout",
     "output_type": "stream",
     "text": [
      "# weights:  29 (28 variable)\n",
      "initial  value 3942.621163 \n",
      "iter  10 value 1671.381549\n",
      "iter  20 value 1019.253009\n",
      "iter  30 value 776.613437\n",
      "iter  40 value 707.506194\n",
      "iter  50 value 679.977430\n",
      "iter  60 value 679.389091\n",
      "iter  70 value 679.387685\n",
      "iter  80 value 679.386799\n",
      "final  value 679.386746 \n",
      "converged\n"
     ]
    },
    {
     "data": {
      "text/html": [
       "0.969622331691297"
      ],
      "text/latex": [
       "0.969622331691297"
      ],
      "text/markdown": [
       "0.969622331691297"
      ],
      "text/plain": [
       "[1] 0.9696223"
      ]
     },
     "metadata": {},
     "output_type": "display_data"
    }
   ],
   "source": [
    "로지스틱회귀분석(mushroom)"
   ]
  },
  {
   "cell_type": "code",
   "execution_count": 511,
   "id": "e3225866",
   "metadata": {},
   "outputs": [
    {
     "ename": "ERROR",
     "evalue": "Error in colMeans(x, na.rm = TRUE): 'x'는 반드시 수치형이어야 합니다\n",
     "output_type": "error",
     "traceback": [
      "Error in colMeans(x, na.rm = TRUE): 'x'는 반드시 수치형이어야 합니다\nTraceback:\n",
      "1. as.data.frame(scale(mushroom[, -1]))",
      "2. scale(mushroom[, -1])",
      "3. scale.default(mushroom[, -1])",
      "4. colMeans(x, na.rm = TRUE)"
     ]
    }
   ],
   "source": [
    "for(i in 2:22){\n",
    "mushroom[,i] <- as.numeric(mushroom[,i])\n",
    "}\n",
    "mushroom2 <- as.data.frame(scale(mushroom [,-1]))\n",
    "mushroom2$V1 <- mushroom$V1\n",
    "\n",
    "mush <- mushroom2\n",
    "\n",
    "samp <- createDataPartition(mush$V1, p=0.7, list=F)\n",
    "data.tr <- mush[samp,]\n",
    "data.test <- mush[-samp,]\n",
    "x <- subset(data.test, select = -V1)\n",
    "y <- data.test$V1\n",
    "\n",
    "model.nnet <- nnet(V1 ~ ., data=data.tr, size=2)\n",
    "model.ctree <- ctree(V1 ~., data=data.tr)\n",
    "model.rf <- randomForest(V1 ~ ., data=data.tr, ntree = 100)\n",
    "model.svm <- svm(V1 ~ . , data=data.tr)\n",
    "model <- multinom(V1 ~., data=data.tr)\n",
    "\n",
    "인pred <- predict(model.nnet, x, type = \"class\")\n",
    "의pred <- predict(model.ctree, x)\n",
    "Rpred <- predict(model.rf, x)\n",
    "Spred <- predict(model.svm, x)\n",
    "로pred <- predict(model, x)\n",
    "\n",
    "인공신경망 <-  mean(인pred == y)\n",
    "의사결정나무 <- mean(의pred == y)\n",
    "RandomForest <- mean(Rpred == y)\n",
    "SVM <- mean(Spred == y)\n",
    "로지스틱회귀분석 <- mean(로pred == y)\n",
    "\n",
    "paste(\"인공신경망 :\", 인공신경망)\n",
    "paste(\"의사결정나무 :\", 의사결정나무)\n",
    "paste(\"RandomForest :\", RandomForest)\n",
    "paste(\"SVM :\", SVM)\n",
    "paste(\"로지스틱회귀분석 :\", 로지스틱회귀분석)"
   ]
  },
  {
   "cell_type": "code",
   "execution_count": null,
   "id": "2a2ee127",
   "metadata": {},
   "outputs": [],
   "source": []
  },
  {
   "cell_type": "code",
   "execution_count": null,
   "id": "00ac40ac",
   "metadata": {},
   "outputs": [],
   "source": []
  },
  {
   "cell_type": "code",
   "execution_count": null,
   "id": "b7003d3a",
   "metadata": {},
   "outputs": [],
   "source": []
  },
  {
   "cell_type": "code",
   "execution_count": null,
   "id": "9de17312",
   "metadata": {},
   "outputs": [],
   "source": []
  },
  {
   "cell_type": "code",
   "execution_count": null,
   "id": "2401a41f",
   "metadata": {},
   "outputs": [],
   "source": []
  },
  {
   "cell_type": "code",
   "execution_count": null,
   "id": "e8861b03",
   "metadata": {},
   "outputs": [],
   "source": []
  }
 ],
 "metadata": {
  "kernelspec": {
   "display_name": "R",
   "language": "R",
   "name": "ir"
  },
  "language_info": {
   "codemirror_mode": "r",
   "file_extension": ".r",
   "mimetype": "text/x-r-source",
   "name": "R",
   "pygments_lexer": "r",
   "version": "3.6.1"
  }
 },
 "nbformat": 4,
 "nbformat_minor": 5
}
