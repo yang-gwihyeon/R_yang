{
 "cells": [
  {
   "cell_type": "code",
   "execution_count": 33,
   "id": "9b62ccbf",
   "metadata": {},
   "outputs": [],
   "source": [
    "# Ensemble : Model들을 같이 엮어서 사용하는 방법\n",
    "library(randomForest)\n",
    "library(caret)\n",
    "library(party)"
   ]
  },
  {
   "cell_type": "code",
   "execution_count": 60,
   "id": "a55b5f33",
   "metadata": {},
   "outputs": [],
   "source": [
    "# Sampling\n",
    "set.seed(1234)\n",
    "samp <- createDataPartition(iris$Species, p=0.7, list=F)\n",
    "# 학습용 데이터 만들기\n",
    "data.tr <- iris[samp,]\n",
    "\n",
    "# 검증용 데이터 만들기\n",
    "data.test <- iris[-samp,]\n",
    "\n",
    "model.ctree <- ctree(Species ~ ., data=data.tr)\n",
    "\n",
    "# 문제 및 정답 만들기\n",
    "x <- subset(data.test, select = -Species)\n",
    "y <- data.test$Species\n"
   ]
  },
  {
   "cell_type": "code",
   "execution_count": 38,
   "id": "5a826dcc",
   "metadata": {},
   "outputs": [
    {
     "data": {
      "text/html": [
       "<ol class=list-inline>\n",
       "\t<li>setosa</li>\n",
       "\t<li>setosa</li>\n",
       "\t<li>setosa</li>\n",
       "\t<li>setosa</li>\n",
       "\t<li>setosa</li>\n",
       "\t<li>setosa</li>\n",
       "\t<li>setosa</li>\n",
       "\t<li>setosa</li>\n",
       "\t<li>setosa</li>\n",
       "\t<li>versicolor</li>\n",
       "\t<li>setosa</li>\n",
       "\t<li>setosa</li>\n",
       "\t<li>setosa</li>\n",
       "\t<li>setosa</li>\n",
       "\t<li>versicolor</li>\n",
       "\t<li>versicolor</li>\n",
       "\t<li>versicolor</li>\n",
       "\t<li>versicolor</li>\n",
       "\t<li>versicolor</li>\n",
       "\t<li>versicolor</li>\n",
       "\t<li>versicolor</li>\n",
       "\t<li>versicolor</li>\n",
       "\t<li>virginica</li>\n",
       "\t<li>versicolor</li>\n",
       "\t<li>versicolor</li>\n",
       "\t<li>virginica</li>\n",
       "\t<li>versicolor</li>\n",
       "\t<li>versicolor</li>\n",
       "\t<li>versicolor</li>\n",
       "\t<li>versicolor</li>\n",
       "\t<li>virginica</li>\n",
       "\t<li>virginica</li>\n",
       "\t<li>virginica</li>\n",
       "\t<li>virginica</li>\n",
       "\t<li>virginica</li>\n",
       "\t<li>virginica</li>\n",
       "\t<li>versicolor</li>\n",
       "\t<li>virginica</li>\n",
       "\t<li>virginica</li>\n",
       "\t<li>virginica</li>\n",
       "\t<li>virginica</li>\n",
       "\t<li>virginica</li>\n",
       "\t<li>virginica</li>\n",
       "\t<li>virginica</li>\n",
       "\t<li>virginica</li>\n",
       "</ol>\n",
       "\n",
       "<details>\n",
       "\t<summary style=display:list-item;cursor:pointer>\n",
       "\t\t<strong>Levels</strong>:\n",
       "\t</summary>\n",
       "\t<ol class=list-inline>\n",
       "\t\t<li>'setosa'</li>\n",
       "\t\t<li>'versicolor'</li>\n",
       "\t\t<li>'virginica'</li>\n",
       "\t</ol>\n",
       "</details>"
      ],
      "text/latex": [
       "\\begin{enumerate*}\n",
       "\\item setosa\n",
       "\\item setosa\n",
       "\\item setosa\n",
       "\\item setosa\n",
       "\\item setosa\n",
       "\\item setosa\n",
       "\\item setosa\n",
       "\\item setosa\n",
       "\\item setosa\n",
       "\\item versicolor\n",
       "\\item setosa\n",
       "\\item setosa\n",
       "\\item setosa\n",
       "\\item setosa\n",
       "\\item versicolor\n",
       "\\item versicolor\n",
       "\\item versicolor\n",
       "\\item versicolor\n",
       "\\item versicolor\n",
       "\\item versicolor\n",
       "\\item versicolor\n",
       "\\item versicolor\n",
       "\\item virginica\n",
       "\\item versicolor\n",
       "\\item versicolor\n",
       "\\item virginica\n",
       "\\item versicolor\n",
       "\\item versicolor\n",
       "\\item versicolor\n",
       "\\item versicolor\n",
       "\\item virginica\n",
       "\\item virginica\n",
       "\\item virginica\n",
       "\\item virginica\n",
       "\\item virginica\n",
       "\\item virginica\n",
       "\\item versicolor\n",
       "\\item virginica\n",
       "\\item virginica\n",
       "\\item virginica\n",
       "\\item virginica\n",
       "\\item virginica\n",
       "\\item virginica\n",
       "\\item virginica\n",
       "\\item virginica\n",
       "\\end{enumerate*}\n",
       "\n",
       "\\emph{Levels}: \\begin{enumerate*}\n",
       "\\item 'setosa'\n",
       "\\item 'versicolor'\n",
       "\\item 'virginica'\n",
       "\\end{enumerate*}\n"
      ],
      "text/markdown": [
       "1. setosa\n",
       "2. setosa\n",
       "3. setosa\n",
       "4. setosa\n",
       "5. setosa\n",
       "6. setosa\n",
       "7. setosa\n",
       "8. setosa\n",
       "9. setosa\n",
       "10. versicolor\n",
       "11. setosa\n",
       "12. setosa\n",
       "13. setosa\n",
       "14. setosa\n",
       "15. versicolor\n",
       "16. versicolor\n",
       "17. versicolor\n",
       "18. versicolor\n",
       "19. versicolor\n",
       "20. versicolor\n",
       "21. versicolor\n",
       "22. versicolor\n",
       "23. virginica\n",
       "24. versicolor\n",
       "25. versicolor\n",
       "26. virginica\n",
       "27. versicolor\n",
       "28. versicolor\n",
       "29. versicolor\n",
       "30. versicolor\n",
       "31. virginica\n",
       "32. virginica\n",
       "33. virginica\n",
       "34. virginica\n",
       "35. virginica\n",
       "36. virginica\n",
       "37. versicolor\n",
       "38. virginica\n",
       "39. virginica\n",
       "40. virginica\n",
       "41. virginica\n",
       "42. virginica\n",
       "43. virginica\n",
       "44. virginica\n",
       "45. virginica\n",
       "\n",
       "\n",
       "\n",
       "**Levels**: 1. 'setosa'\n",
       "2. 'versicolor'\n",
       "3. 'virginica'\n",
       "\n",
       "\n"
      ],
      "text/plain": [
       " [1] setosa     setosa     setosa     setosa     setosa     setosa    \n",
       " [7] setosa     setosa     setosa     versicolor setosa     setosa    \n",
       "[13] setosa     setosa     versicolor versicolor versicolor versicolor\n",
       "[19] versicolor versicolor versicolor versicolor virginica  versicolor\n",
       "[25] versicolor virginica  versicolor versicolor versicolor versicolor\n",
       "[31] virginica  virginica  virginica  virginica  virginica  virginica \n",
       "[37] versicolor virginica  virginica  virginica  virginica  virginica \n",
       "[43] virginica  virginica  virginica \n",
       "Levels: setosa versicolor virginica"
      ]
     },
     "metadata": {},
     "output_type": "display_data"
    }
   ],
   "source": [
    "pred <- predict(model.ctree, x)\n",
    "pred"
   ]
  },
  {
   "cell_type": "code",
   "execution_count": 39,
   "id": "471af22b",
   "metadata": {},
   "outputs": [
    {
     "data": {
      "text/html": [
       "0.888888888888889"
      ],
      "text/latex": [
       "0.888888888888889"
      ],
      "text/markdown": [
       "0.888888888888889"
      ],
      "text/plain": [
       "[1] 0.8888889"
      ]
     },
     "metadata": {},
     "output_type": "display_data"
    },
    {
     "data": {
      "text/plain": [
       "            y\n",
       "pred         setosa versicolor virginica\n",
       "  setosa         13          0         0\n",
       "  versicolor      2         13         1\n",
       "  virginica       0          2        14"
      ]
     },
     "metadata": {},
     "output_type": "display_data"
    }
   ],
   "source": [
    "mean(pred == y)\n",
    "table(pred, y)"
   ]
  },
  {
   "cell_type": "code",
   "execution_count": 41,
   "id": "0aa285bb",
   "metadata": {},
   "outputs": [],
   "source": [
    "# 학습시키기\n",
    "model.rf <- randomForest(Species ~ ., data = data.tr, ntree=100)"
   ]
  },
  {
   "cell_type": "code",
   "execution_count": 42,
   "id": "2dd02e35",
   "metadata": {},
   "outputs": [],
   "source": [
    "# 검증하기\n",
    "pred <- predict(model.rf, x)"
   ]
  },
  {
   "cell_type": "code",
   "execution_count": 43,
   "id": "2ca783d5",
   "metadata": {},
   "outputs": [
    {
     "data": {
      "text/html": [
       "0.933333333333333"
      ],
      "text/latex": [
       "0.933333333333333"
      ],
      "text/markdown": [
       "0.933333333333333"
      ],
      "text/plain": [
       "[1] 0.9333333"
      ]
     },
     "metadata": {},
     "output_type": "display_data"
    },
    {
     "data": {
      "text/plain": [
       "            y\n",
       "pred         setosa versicolor virginica\n",
       "  setosa         15          0         0\n",
       "  versicolor      0         12         0\n",
       "  virginica       0          3        15"
      ]
     },
     "metadata": {},
     "output_type": "display_data"
    }
   ],
   "source": [
    "# 예측력과 우분류표\n",
    "mean(pred == y)\n",
    "table(pred, y)"
   ]
  },
  {
   "cell_type": "markdown",
   "id": "d281fc24",
   "metadata": {},
   "source": [
    "---\n",
    "### 교통사고 예측하기 (회귀식과 RandomForest 예측 비교)"
   ]
  },
  {
   "cell_type": "code",
   "execution_count": 46,
   "id": "9af56565",
   "metadata": {},
   "outputs": [
    {
     "data": {
      "text/html": [
       "<table>\n",
       "<thead><tr><th scope=col>년도</th><th scope=col>월</th><th scope=col>자치구명</th><th scope=col>발생건수</th><th scope=col>사망자수</th><th scope=col>부상자수</th></tr></thead>\n",
       "<tbody>\n",
       "\t<tr><td>2011  </td><td>1     </td><td>종로구</td><td>115   </td><td>2     </td><td>165   </td></tr>\n",
       "\t<tr><td>2011  </td><td>2     </td><td>종로구</td><td> 99   </td><td>0     </td><td>134   </td></tr>\n",
       "\t<tr><td>2011  </td><td>3     </td><td>종로구</td><td>116   </td><td>0     </td><td>162   </td></tr>\n",
       "\t<tr><td>2011  </td><td>4     </td><td>종로구</td><td>110   </td><td>1     </td><td>153   </td></tr>\n",
       "\t<tr><td>2011  </td><td>5     </td><td>종로구</td><td>122   </td><td>0     </td><td>157   </td></tr>\n",
       "\t<tr><td>2011  </td><td>6     </td><td>종로구</td><td>116   </td><td>3     </td><td>163   </td></tr>\n",
       "</tbody>\n",
       "</table>\n"
      ],
      "text/latex": [
       "\\begin{tabular}{r|llllll}\n",
       " 년도 & 월 & 자치구명 & 발생건수 & 사망자수 & 부상자수\\\\\n",
       "\\hline\n",
       "\t 2011   & 1      & 종로구 & 115    & 2      & 165   \\\\\n",
       "\t 2011   & 2      & 종로구 &  99    & 0      & 134   \\\\\n",
       "\t 2011   & 3      & 종로구 & 116    & 0      & 162   \\\\\n",
       "\t 2011   & 4      & 종로구 & 110    & 1      & 153   \\\\\n",
       "\t 2011   & 5      & 종로구 & 122    & 0      & 157   \\\\\n",
       "\t 2011   & 6      & 종로구 & 116    & 3      & 163   \\\\\n",
       "\\end{tabular}\n"
      ],
      "text/markdown": [
       "\n",
       "| 년도 | 월 | 자치구명 | 발생건수 | 사망자수 | 부상자수 |\n",
       "|---|---|---|---|---|---|\n",
       "| 2011   | 1      | 종로구 | 115    | 2      | 165    |\n",
       "| 2011   | 2      | 종로구 |  99    | 0      | 134    |\n",
       "| 2011   | 3      | 종로구 | 116    | 0      | 162    |\n",
       "| 2011   | 4      | 종로구 | 110    | 1      | 153    |\n",
       "| 2011   | 5      | 종로구 | 122    | 0      | 157    |\n",
       "| 2011   | 6      | 종로구 | 116    | 3      | 163    |\n",
       "\n"
      ],
      "text/plain": [
       "  년도 월 자치구명 발생건수 사망자수 부상자수\n",
       "1 2011 1  종로구   115      2        165     \n",
       "2 2011 2  종로구    99      0        134     \n",
       "3 2011 3  종로구   116      0        162     \n",
       "4 2011 4  종로구   110      1        153     \n",
       "5 2011 5  종로구   122      0        157     \n",
       "6 2011 6  종로구   116      3        163     "
      ]
     },
     "metadata": {},
     "output_type": "display_data"
    }
   ],
   "source": [
    "seoul <- read.csv(\"../R_yang/newSeoul2019.csv\")\n",
    "head(seoul)"
   ]
  },
  {
   "cell_type": "code",
   "execution_count": 114,
   "id": "762bd7cb",
   "metadata": {},
   "outputs": [
    {
     "data": {
      "text/html": [
       "108"
      ],
      "text/latex": [
       "108"
      ],
      "text/markdown": [
       "108"
      ],
      "text/plain": [
       "[1] 108"
      ]
     },
     "metadata": {},
     "output_type": "display_data"
    }
   ],
   "source": [
    "# 종로구 데이터셋 만들기\n",
    "JongRo <- seoul[seoul$자치구명 == \"종로구\",]\n",
    "\n",
    "nrow(JongRo)"
   ]
  },
  {
   "cell_type": "code",
   "execution_count": 115,
   "id": "6f360ee6",
   "metadata": {},
   "outputs": [
    {
     "data": {
      "text/html": [
       "<table>\n",
       "<thead><tr><th scope=col>년도</th><th scope=col>월</th><th scope=col>자치구명</th><th scope=col>발생건수</th><th scope=col>사망자수</th><th scope=col>부상자수</th></tr></thead>\n",
       "<tbody>\n",
       "\t<tr><td>2011  </td><td>1     </td><td>종로구</td><td>115   </td><td>2     </td><td>165   </td></tr>\n",
       "\t<tr><td>2011  </td><td>2     </td><td>종로구</td><td> 99   </td><td>0     </td><td>134   </td></tr>\n",
       "\t<tr><td>2011  </td><td>3     </td><td>종로구</td><td>116   </td><td>0     </td><td>162   </td></tr>\n",
       "\t<tr><td>2011  </td><td>4     </td><td>종로구</td><td>110   </td><td>1     </td><td>153   </td></tr>\n",
       "\t<tr><td>2011  </td><td>5     </td><td>종로구</td><td>122   </td><td>0     </td><td>157   </td></tr>\n",
       "\t<tr><td>2011  </td><td>6     </td><td>종로구</td><td>116   </td><td>3     </td><td>163   </td></tr>\n",
       "</tbody>\n",
       "</table>\n"
      ],
      "text/latex": [
       "\\begin{tabular}{r|llllll}\n",
       " 년도 & 월 & 자치구명 & 발생건수 & 사망자수 & 부상자수\\\\\n",
       "\\hline\n",
       "\t 2011   & 1      & 종로구 & 115    & 2      & 165   \\\\\n",
       "\t 2011   & 2      & 종로구 &  99    & 0      & 134   \\\\\n",
       "\t 2011   & 3      & 종로구 & 116    & 0      & 162   \\\\\n",
       "\t 2011   & 4      & 종로구 & 110    & 1      & 153   \\\\\n",
       "\t 2011   & 5      & 종로구 & 122    & 0      & 157   \\\\\n",
       "\t 2011   & 6      & 종로구 & 116    & 3      & 163   \\\\\n",
       "\\end{tabular}\n"
      ],
      "text/markdown": [
       "\n",
       "| 년도 | 월 | 자치구명 | 발생건수 | 사망자수 | 부상자수 |\n",
       "|---|---|---|---|---|---|\n",
       "| 2011   | 1      | 종로구 | 115    | 2      | 165    |\n",
       "| 2011   | 2      | 종로구 |  99    | 0      | 134    |\n",
       "| 2011   | 3      | 종로구 | 116    | 0      | 162    |\n",
       "| 2011   | 4      | 종로구 | 110    | 1      | 153    |\n",
       "| 2011   | 5      | 종로구 | 122    | 0      | 157    |\n",
       "| 2011   | 6      | 종로구 | 116    | 3      | 163    |\n",
       "\n"
      ],
      "text/plain": [
       "  년도 월 자치구명 발생건수 사망자수 부상자수\n",
       "1 2011 1  종로구   115      2        165     \n",
       "2 2011 2  종로구    99      0        134     \n",
       "3 2011 3  종로구   116      0        162     \n",
       "4 2011 4  종로구   110      1        153     \n",
       "5 2011 5  종로구   122      0        157     \n",
       "6 2011 6  종로구   116      3        163     "
      ]
     },
     "metadata": {},
     "output_type": "display_data"
    },
    {
     "name": "stdout",
     "output_type": "stream",
     "text": [
      "'data.frame':\t108 obs. of  6 variables:\n",
      " $ 년도    : int  2011 2011 2011 2011 2011 2011 2011 2011 2011 2011 ...\n",
      " $ 월      : int  1 2 3 4 5 6 7 8 9 10 ...\n",
      " $ 자치구명: Factor w/ 25 levels \"강남구\",\"강동구\",..: 23 23 23 23 23 23 23 23 23 23 ...\n",
      " $ 발생건수: int  115 99 116 110 122 116 103 122 121 135 ...\n",
      " $ 사망자수: int  2 0 0 1 0 3 1 1 2 2 ...\n",
      " $ 부상자수: int  165 134 162 153 157 163 154 171 166 193 ...\n"
     ]
    }
   ],
   "source": [
    "head(JongRo)\n",
    "str(JongRo)"
   ]
  },
  {
   "cell_type": "code",
   "execution_count": 116,
   "id": "069d20ad",
   "metadata": {},
   "outputs": [
    {
     "data": {
      "text/html": [
       "<table>\n",
       "<thead><tr><th></th><th scope=col>년도</th><th scope=col>월</th><th scope=col>자치구명</th><th scope=col>발생건수</th><th scope=col>사망자수</th><th scope=col>부상자수</th></tr></thead>\n",
       "<tbody>\n",
       "\t<tr><th scope=row>103</th><td>2019  </td><td> 7    </td><td>종로구</td><td> 83   </td><td>0     </td><td>109   </td></tr>\n",
       "\t<tr><th scope=row>104</th><td>2019  </td><td> 8    </td><td>종로구</td><td>115   </td><td>0     </td><td>164   </td></tr>\n",
       "\t<tr><th scope=row>105</th><td>2019  </td><td> 9    </td><td>종로구</td><td> 99   </td><td>0     </td><td>143   </td></tr>\n",
       "\t<tr><th scope=row>106</th><td>2019  </td><td>10    </td><td>종로구</td><td>104   </td><td>0     </td><td>139   </td></tr>\n",
       "\t<tr><th scope=row>107</th><td>2019  </td><td>11    </td><td>종로구</td><td>100   </td><td>0     </td><td>126   </td></tr>\n",
       "\t<tr><th scope=row>108</th><td>2019  </td><td>12    </td><td>종로구</td><td>100   </td><td>0     </td><td>142   </td></tr>\n",
       "</tbody>\n",
       "</table>\n"
      ],
      "text/latex": [
       "\\begin{tabular}{r|llllll}\n",
       "  & 년도 & 월 & 자치구명 & 발생건수 & 사망자수 & 부상자수\\\\\n",
       "\\hline\n",
       "\t103 & 2019   &  7     & 종로구 &  83    & 0      & 109   \\\\\n",
       "\t104 & 2019   &  8     & 종로구 & 115    & 0      & 164   \\\\\n",
       "\t105 & 2019   &  9     & 종로구 &  99    & 0      & 143   \\\\\n",
       "\t106 & 2019   & 10     & 종로구 & 104    & 0      & 139   \\\\\n",
       "\t107 & 2019   & 11     & 종로구 & 100    & 0      & 126   \\\\\n",
       "\t108 & 2019   & 12     & 종로구 & 100    & 0      & 142   \\\\\n",
       "\\end{tabular}\n"
      ],
      "text/markdown": [
       "\n",
       "| <!--/--> | 년도 | 월 | 자치구명 | 발생건수 | 사망자수 | 부상자수 |\n",
       "|---|---|---|---|---|---|---|\n",
       "| 103 | 2019   |  7     | 종로구 |  83    | 0      | 109    |\n",
       "| 104 | 2019   |  8     | 종로구 | 115    | 0      | 164    |\n",
       "| 105 | 2019   |  9     | 종로구 |  99    | 0      | 143    |\n",
       "| 106 | 2019   | 10     | 종로구 | 104    | 0      | 139    |\n",
       "| 107 | 2019   | 11     | 종로구 | 100    | 0      | 126    |\n",
       "| 108 | 2019   | 12     | 종로구 | 100    | 0      | 142    |\n",
       "\n"
      ],
      "text/plain": [
       "    년도 월 자치구명 발생건수 사망자수 부상자수\n",
       "103 2019  7 종로구    83      0        109     \n",
       "104 2019  8 종로구   115      0        164     \n",
       "105 2019  9 종로구    99      0        143     \n",
       "106 2019 10 종로구   104      0        139     \n",
       "107 2019 11 종로구   100      0        126     \n",
       "108 2019 12 종로구   100      0        142     "
      ]
     },
     "metadata": {},
     "output_type": "display_data"
    }
   ],
   "source": [
    "# row names 정리하기\n",
    "rownames(JongRo) <- c()\n",
    "tail(JongRo)"
   ]
  },
  {
   "cell_type": "code",
   "execution_count": 117,
   "id": "92cbffa4",
   "metadata": {},
   "outputs": [
    {
     "name": "stdout",
     "output_type": "stream",
     "text": [
      "'data.frame':\t108 obs. of  6 variables:\n",
      " $ 년도    : int  2011 2011 2011 2011 2011 2011 2011 2011 2011 2011 ...\n",
      " $ 월      : int  1 2 3 4 5 6 7 8 9 10 ...\n",
      " $ 자치구명: Factor w/ 25 levels \"강남구\",\"강동구\",..: 23 23 23 23 23 23 23 23 23 23 ...\n",
      " $ 발생건수: int  115 99 116 110 122 116 103 122 121 135 ...\n",
      " $ 사망자수: int  2 0 0 1 0 3 1 1 2 2 ...\n",
      " $ 부상자수: int  165 134 162 153 157 163 154 171 166 193 ...\n"
     ]
    }
   ],
   "source": [
    "str(JongRo)"
   ]
  },
  {
   "cell_type": "code",
   "execution_count": 118,
   "id": "318bfa7d",
   "metadata": {},
   "outputs": [
    {
     "data": {
      "text/html": [
       "0.920891438840356"
      ],
      "text/latex": [
       "0.920891438840356"
      ],
      "text/markdown": [
       "0.920891438840356"
      ],
      "text/plain": [
       "[1] 0.9208914"
      ]
     },
     "metadata": {},
     "output_type": "display_data"
    }
   ],
   "source": [
    "cor(JongRo$발생건수, JongRo$부상자수)"
   ]
  },
  {
   "cell_type": "code",
   "execution_count": 119,
   "id": "ac101b20",
   "metadata": {},
   "outputs": [
    {
     "data": {
      "text/plain": [
       "\n",
       "Call:\n",
       "lm(formula = JongRo$발생건수 ~ JongRo$부상자수)\n",
       "\n",
       "Coefficients:\n",
       "    (Intercept)  JongRo$부상자수  \n",
       "        14.4556           0.6236  \n"
      ]
     },
     "metadata": {},
     "output_type": "display_data"
    },
    {
     "data": {
      "image/png": "[encoded data removed]",
      "text/plain": [
       "plot without title"
      ]
     },
     "metadata": {},
     "output_type": "display_data"
    }
   ],
   "source": [
    "# 종로구의 발생건수와 부상자수의 산포도와 회귀선 그리기\n",
    " options(warn = -1)\n",
    "\n",
    "\n",
    "plot(JongRo$발생건수 ~ JongRo$부상자수,\n",
    "    col = c(\"red\",\"blue\")\n",
    "    )\n",
    "r <- lm(JongRo$발생건수 ~ JongRo$부상자수)\n",
    "abline(r, col= \"black\")\n",
    "r"
   ]
  },
  {
   "cell_type": "code",
   "execution_count": 120,
   "id": "56ff2751",
   "metadata": {},
   "outputs": [
    {
     "data": {
      "text/plain": [
       "\n",
       "Call:\n",
       "lm(formula = 부상자수 ~ 발생건수, data = JongRo)\n",
       "\n",
       "Coefficients:\n",
       "(Intercept)     발생건수  \n",
       "      2.886        1.360  \n"
      ]
     },
     "metadata": {},
     "output_type": "display_data"
    }
   ],
   "source": [
    "# 예측력\n",
    "model <- lm(부상자수 ~ 발생건수, data = JongRo)\n",
    "model"
   ]
  },
  {
   "cell_type": "code",
   "execution_count": 129,
   "id": "0a9ca904",
   "metadata": {},
   "outputs": [
    {
     "data": {
      "text/plain": [
       "\n",
       "Call:\n",
       "lm(formula = 부상자수 ~ 발생건수, data = JongRo)\n",
       "\n",
       "Residuals:\n",
       "    Min      1Q  Median      3Q     Max \n",
       "-21.637  -5.949  -0.019   5.301  33.961 \n",
       "\n",
       "Coefficients:\n",
       "            Estimate Std. Error t value Pr(>|t|)    \n",
       "(Intercept)  2.88612    6.05535   0.477    0.635    \n",
       "발생건수     1.35993    0.05591  24.322   <2e-16 ***\n",
       "---\n",
       "Signif. codes:  0 ‘***’ 0.001 ‘**’ 0.01 ‘*’ 0.05 ‘.’ 0.1 ‘ ’ 1\n",
       "\n",
       "Residual standard error: 9.816 on 106 degrees of freedom\n",
       "Multiple R-squared:  0.848,\tAdjusted R-squared:  0.8466 \n",
       "F-statistic: 591.6 on 1 and 106 DF,  p-value: < 2.2e-16\n"
      ]
     },
     "metadata": {},
     "output_type": "display_data"
    }
   ],
   "source": [
    "summary(model)"
   ]
  },
  {
   "cell_type": "code",
   "execution_count": null,
   "id": "f7c05be4",
   "metadata": {},
   "outputs": [],
   "source": []
  },
  {
   "cell_type": "code",
   "execution_count": 130,
   "id": "cc8252b6",
   "metadata": {},
   "outputs": [
    {
     "data": {
      "text/html": [
       "138.886"
      ],
      "text/latex": [
       "138.886"
      ],
      "text/markdown": [
       "138.886"
      ],
      "text/plain": [
       "[1] 138.886"
      ]
     },
     "metadata": {},
     "output_type": "display_data"
    }
   ],
   "source": [
    "# 회귀식\n",
    "# - 발생건수가 100건일 경우의 부상자수 예측\n",
    "1.360 * 100 + 2.886 "
   ]
  },
  {
   "cell_type": "code",
   "execution_count": 142,
   "id": "ab48aff2",
   "metadata": {},
   "outputs": [
    {
     "data": {
      "text/html": [
       "<strong>1:</strong> 139.285872222222"
      ],
      "text/latex": [
       "\\textbf{1:} 139.285872222222"
      ],
      "text/markdown": [
       "**1:** 139.285872222222"
      ],
      "text/plain": [
       "       1 \n",
       "139.2859 "
      ]
     },
     "metadata": {},
     "output_type": "display_data"
    }
   ],
   "source": [
    "# 랜덤포레스트로 예측\n",
    "# - 발생건수가 100건일 경우 부상자수 예측\n",
    "\n",
    "model.rf <- randomForest(부상자수 ~ 발생건수 , data = JongRo, ntree = 1000)\n",
    "발생건수 = 100\n",
    "x <- data.frame(발생건수)\n",
    "predict(model.rf, x)"
   ]
  },
  {
   "cell_type": "code",
   "execution_count": null,
   "id": "9ffd8c64",
   "metadata": {},
   "outputs": [],
   "source": []
  },
  {
   "cell_type": "code",
   "execution_count": null,
   "id": "778dd59e",
   "metadata": {},
   "outputs": [],
   "source": []
  },
  {
   "cell_type": "code",
   "execution_count": null,
   "id": "d55d95a8",
   "metadata": {},
   "outputs": [],
   "source": []
  }
 ],
 "metadata": {
  "kernelspec": {
   "display_name": "R",
   "language": "R",
   "name": "ir"
  },
  "language_info": {
   "codemirror_mode": "r",
   "file_extension": ".r",
   "mimetype": "text/x-r-source",
   "name": "R",
   "pygments_lexer": "r",
   "version": "3.6.1"
  }
 },
 "nbformat": 4,
 "nbformat_minor": 5
}
