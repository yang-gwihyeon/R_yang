{
 "cells": [
  {
   "cell_type": "code",
   "execution_count": 15,
   "id": "66b0d260",
   "metadata": {},
   "outputs": [
    {
     "name": "stderr",
     "output_type": "stream",
     "text": [
      "Warning message in grepl(\"RD[ABX][2-9]\\n\", magic):\n",
      "“이 로케일에서는 입력문자열 1는 유효하지 않습니다”Warning message in grepl(\"RD[ABX][2-9]\\r\", magic):\n",
      "“이 로케일에서는 입력문자열 1는 유효하지 않습니다”Warning message:\n",
      "“file ‘trafficAccident_2011_2019.txt’ has magic number '기<fc><be><98><96><94><bc><fc><be><8c><86><88><bc>'\n",
      "  Use of save versions prior to 2 is deprecated”"
     ]
    },
    {
     "ename": "ERROR",
     "evalue": "Error in load(\"../R_yang/trafficAccident_2011_2019.txt\"): 잘못된 파일 복원 매직넘버입니다 (파일이 아마도 손상된듯 합니다) -- 로드할 데이터가 없습니다\n",
     "output_type": "error",
     "traceback": [
      "Error in load(\"../R_yang/trafficAccident_2011_2019.txt\"): 잘못된 파일 복원 매직넘버입니다 (파일이 아마도 손상된듯 합니다) -- 로드할 데이터가 없습니다\nTraceback:\n",
      "1. load(\"../R_yang/trafficAccident_2011_2019.txt\")"
     ]
    }
   ],
   "source": [
    "load(\"../R_yang/trafficAccident_2011_2019.txt\")"
   ]
  },
  {
   "cell_type": "code",
   "execution_count": 16,
   "id": "258abdee",
   "metadata": {},
   "outputs": [],
   "source": [
    "seoul <- read.csv(\"../R_yang/newSeoul2019.csv\")"
   ]
  },
  {
   "cell_type": "code",
   "execution_count": null,
   "id": "5ff8fe4d",
   "metadata": {},
   "outputs": [],
   "source": []
  },
  {
   "cell_type": "code",
   "execution_count": null,
   "id": "ee52edc6",
   "metadata": {},
   "outputs": [],
   "source": []
  }
 ],
 "metadata": {
  "kernelspec": {
   "display_name": "R",
   "language": "R",
   "name": "ir"
  },
  "language_info": {
   "codemirror_mode": "r",
   "file_extension": ".r",
   "mimetype": "text/x-r-source",
   "name": "R",
   "pygments_lexer": "r",
   "version": "3.6.1"
  }
 },
 "nbformat": 4,
 "nbformat_minor": 5
}
