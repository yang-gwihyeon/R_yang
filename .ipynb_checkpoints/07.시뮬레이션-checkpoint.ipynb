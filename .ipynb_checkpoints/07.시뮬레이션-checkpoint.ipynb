{
 "cells": [
  {
   "cell_type": "markdown",
   "id": "38d0b27d",
   "metadata": {},
   "source": [
    "# 몬테카를로 시뮬레이션"
   ]
  },
  {
   "cell_type": "markdown",
   "id": "b1575bfe",
   "metadata": {},
   "source": [
    "### 동전의 앞면과 뒷면 시뮬레이션"
   ]
  },
  {
   "cell_type": "code",
   "execution_count": 136,
   "id": "622c2823",
   "metadata": {},
   "outputs": [
    {
     "name": "stdout",
     "output_type": "stream",
     "text": [
      "[1] 0\n"
     ]
    }
   ],
   "source": [
    "x <- runif(1)\n",
    "if(x <= 1/2){\n",
    "    result = 0 # 앞면\n",
    "}else{\n",
    "    result = 1 # 뒷면\n",
    "}\n",
    "\n",
    "print(result)"
   ]
  },
  {
   "cell_type": "code",
   "execution_count": 156,
   "id": "4de0515d",
   "metadata": {},
   "outputs": [],
   "source": [
    "coin <- function(n){\n",
    "    count1 = 0 # 앞면\n",
    "    count2 = 0 # 뒷면\n",
    "    for(i in 1:n){\n",
    "        x <- runif(1)\n",
    "if(x <= 1/2){\n",
    "    count1 = count1 + 1 # 앞면\n",
    "}else{\n",
    "    count2 = count2 + 1 # 뒷면\n",
    "}\n",
    "\n",
    "    }\n",
    "    cat(\"앞면 :\", count1,\"뒷면 :\",count2,\"\\n\")\n",
    "}"
   ]
  },
  {
   "cell_type": "code",
   "execution_count": 157,
   "id": "e05f7a3d",
   "metadata": {},
   "outputs": [
    {
     "name": "stdout",
     "output_type": "stream",
     "text": [
      "앞면 : 3 뒷면 : 7 \n",
      "앞면 : 49 뒷면 : 51 \n",
      "앞면 : 516 뒷면 : 484 \n",
      "앞면 : 5007 뒷면 : 4993 \n",
      "앞면 : 50057 뒷면 : 49943 \n",
      "앞면 : 500726 뒷면 : 499274 \n"
     ]
    }
   ],
   "source": [
    "coin(10)\n",
    "coin(100)\n",
    "coin(1000)\n",
    "coin(10000)\n",
    "coin(100000)\n",
    "coin(1000000)"
   ]
  },
  {
   "cell_type": "code",
   "execution_count": null,
   "id": "e1042401",
   "metadata": {},
   "outputs": [],
   "source": [
    "#가위,바위,보 시뮬레이션"
   ]
  },
  {
   "cell_type": "code",
   "execution_count": 162,
   "id": "50b8ef87",
   "metadata": {},
   "outputs": [],
   "source": [
    "    rock <- function(n){\n",
    "\n",
    "        r = 0 # 바위\n",
    "        s = 0 # 가위\n",
    "        p = 0 # 보\n",
    "\n",
    "\n",
    "    for(i in 1:n){\n",
    "    \n",
    "    x <- runif(1)\n",
    "\n",
    "    if(x <= 1/3){\n",
    "        r = r + 1 # 바위\n",
    "        \n",
    "    }else if(x <= 2/3){\n",
    "        s = s + 1 # 가위\n",
    "        \n",
    "    }else{\n",
    "        p = p + 1 # 보\n",
    "    }\n",
    "\n",
    "    }\n",
    "\n",
    "     cat(\"바위 :\", r,\"/ 가위 :\",s,\"/ 보 :\",p,\"\\n\")\n",
    "    }"
   ]
  },
  {
   "cell_type": "code",
   "execution_count": 168,
   "id": "0a556b6b",
   "metadata": {},
   "outputs": [
    {
     "name": "stdout",
     "output_type": "stream",
     "text": [
      "바위 : 5 / 가위 : 2 / 보 : 3 \n",
      "바위 : 34 / 가위 : 36 / 보 : 30 \n",
      "바위 : 310 / 가위 : 355 / 보 : 335 \n",
      "바위 : 3339 / 가위 : 3357 / 보 : 3304 \n",
      "바위 : 33503 / 가위 : 33176 / 보 : 33321 \n",
      "바위 : 333232 / 가위 : 333546 / 보 : 333222 \n"
     ]
    }
   ],
   "source": [
    "rock(10)\n",
    "rock(100)\n",
    "rock(1000)\n",
    "rock(10000)\n",
    "rock(100000)\n",
    "rock(1000000)"
   ]
  },
  {
   "cell_type": "code",
   "execution_count": 170,
   "id": "944e3e7e",
   "metadata": {},
   "outputs": [],
   "source": [
    "    rock <- function(n){\n",
    "\n",
    "        r = 0 # 바위\n",
    "        s = 0 # 가위\n",
    "        p = 0 # 보\n",
    "\n",
    "\n",
    "    for(i in 1:n){\n",
    "    \n",
    "    x <- trunc(runif(1) * 3) +1\n",
    "    if(x==1) s = s +1\n",
    "    if(x==2) r = r +1\n",
    "    if(x==3)p = p +1\n",
    "    }\n",
    "\n",
    "     cat(\"바위 :\", r,\"/ 가위 :\",s,\"/ 보 :\",p,\"\\n\")\n",
    "    }"
   ]
  },
  {
   "cell_type": "code",
   "execution_count": 172,
   "id": "d2199214",
   "metadata": {},
   "outputs": [
    {
     "name": "stdout",
     "output_type": "stream",
     "text": [
      "바위 : 4 / 가위 : 2 / 보 : 4 \n",
      "바위 : 36 / 가위 : 30 / 보 : 34 \n",
      "바위 : 325 / 가위 : 349 / 보 : 326 \n"
     ]
    }
   ],
   "source": [
    "rock(10)\n",
    "rock(100)\n",
    "rock(1000)"
   ]
  },
  {
   "cell_type": "code",
   "execution_count": 178,
   "id": "24a76eff",
   "metadata": {},
   "outputs": [
    {
     "data": {
      "text/html": [
       "1"
      ],
      "text/latex": [
       "1"
      ],
      "text/markdown": [
       "1"
      ],
      "text/plain": [
       "[1] 1"
      ]
     },
     "metadata": {},
     "output_type": "display_data"
    }
   ],
   "source": []
  },
  {
   "cell_type": "markdown",
   "id": "852f9687",
   "metadata": {},
   "source": [
    "# 주사위 시뮬레이션"
   ]
  },
  {
   "cell_type": "code",
   "execution_count": 185,
   "id": "37f55696",
   "metadata": {},
   "outputs": [],
   "source": [
    "    dice <- function(n){\n",
    "\n",
    "    six <- c(0,0,0,0,0,0)\n",
    "    \n",
    "    for(i in 1:n){\n",
    "    \n",
    "    x <- trunc(runif(1) * 6) +1\n",
    "    six[x] = six[x] +1\n",
    "    }\n",
    "\n",
    "     cat(\"Throw :\",n,\"\\n\")\n",
    "     for(i in 1:6){\n",
    "         cat(\"No\",i,\"=>\",six[i],\"\\n\")\n",
    "     }\n",
    "    cat(\"=====================\",\"\\n\")\n",
    "        \n",
    "    }"
   ]
  },
  {
   "cell_type": "code",
   "execution_count": 186,
   "id": "2076653d",
   "metadata": {},
   "outputs": [
    {
     "name": "stdout",
     "output_type": "stream",
     "text": [
      "Throw : 10 \n",
      "No 1 => 1 \n",
      "No 2 => 0 \n",
      "No 3 => 0 \n",
      "No 4 => 4 \n",
      "No 5 => 2 \n",
      "No 6 => 3 \n",
      "===================== \n",
      "Throw : 100 \n",
      "No 1 => 11 \n",
      "No 2 => 16 \n",
      "No 3 => 24 \n",
      "No 4 => 17 \n",
      "No 5 => 18 \n",
      "No 6 => 14 \n",
      "===================== \n",
      "Throw : 1000 \n",
      "No 1 => 154 \n",
      "No 2 => 165 \n",
      "No 3 => 186 \n",
      "No 4 => 186 \n",
      "No 5 => 144 \n",
      "No 6 => 165 \n",
      "===================== \n"
     ]
    }
   ],
   "source": [
    "dice(10)\n",
    "dice(100)\n",
    "dice(1000)\n",
    "dice(10000)"
   ]
  },
  {
   "cell_type": "code",
   "execution_count": null,
   "id": "05b57100",
   "metadata": {},
   "outputs": [],
   "source": []
  }
 ],
 "metadata": {
  "kernelspec": {
   "display_name": "R",
   "language": "R",
   "name": "ir"
  },
  "language_info": {
   "codemirror_mode": "r",
   "file_extension": ".r",
   "mimetype": "text/x-r-source",
   "name": "R",
   "pygments_lexer": "r",
   "version": "3.6.1"
  }
 },
 "nbformat": 4,
 "nbformat_minor": 5
}
