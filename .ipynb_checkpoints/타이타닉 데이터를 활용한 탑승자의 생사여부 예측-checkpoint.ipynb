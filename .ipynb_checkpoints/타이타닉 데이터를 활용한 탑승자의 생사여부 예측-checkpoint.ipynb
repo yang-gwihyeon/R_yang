{
 "cells": [
  {
   "cell_type": "code",
   "execution_count": 6,
   "id": "6adeda98",
   "metadata": {},
   "outputs": [],
   "source": [
    "train_df <- read.csv(\"../R_yang/Titanic_train.csv\")"
   ]
  },
  {
   "cell_type": "code",
   "execution_count": 7,
   "id": "0de653cb",
   "metadata": {},
   "outputs": [
    {
     "data": {
      "text/html": [
       "<table>\n",
       "<thead><tr><th scope=col>PassengerId</th><th scope=col>Survived</th><th scope=col>Pclass</th><th scope=col>Name</th><th scope=col>Sex</th><th scope=col>Age</th><th scope=col>SibSp</th><th scope=col>Parch</th><th scope=col>Ticket</th><th scope=col>Fare</th><th scope=col>Cabin</th><th scope=col>Embarked</th></tr></thead>\n",
       "<tbody>\n",
       "\t<tr><td>1                                                  </td><td>0                                                  </td><td>3                                                  </td><td>Braund, Mr. Owen Harris                            </td><td>male                                               </td><td>22                                                 </td><td>1                                                  </td><td>0                                                  </td><td>A/5 21171                                          </td><td> 7.2500                                            </td><td>                                                   </td><td>S                                                  </td></tr>\n",
       "\t<tr><td>2                                                  </td><td>1                                                  </td><td>1                                                  </td><td>Cumings, Mrs. John Bradley (Florence Briggs Thayer)</td><td>female                                             </td><td>38                                                 </td><td>1                                                  </td><td>0                                                  </td><td>PC 17599                                           </td><td>71.2833                                            </td><td>C85                                                </td><td>C                                                  </td></tr>\n",
       "\t<tr><td>3                                                  </td><td>1                                                  </td><td>3                                                  </td><td>Heikkinen, Miss. Laina                             </td><td>female                                             </td><td>26                                                 </td><td>0                                                  </td><td>0                                                  </td><td>STON/O2. 3101282                                   </td><td> 7.9250                                            </td><td>                                                   </td><td>S                                                  </td></tr>\n",
       "\t<tr><td>4                                                  </td><td>1                                                  </td><td>1                                                  </td><td>Futrelle, Mrs. Jacques Heath (Lily May Peel)       </td><td>female                                             </td><td>35                                                 </td><td>1                                                  </td><td>0                                                  </td><td>113803                                             </td><td>53.1000                                            </td><td>C123                                               </td><td>S                                                  </td></tr>\n",
       "\t<tr><td>5                                                  </td><td>0                                                  </td><td>3                                                  </td><td>Allen, Mr. William Henry                           </td><td>male                                               </td><td>35                                                 </td><td>0                                                  </td><td>0                                                  </td><td>373450                                             </td><td> 8.0500                                            </td><td>                                                   </td><td>S                                                  </td></tr>\n",
       "\t<tr><td>6                                                  </td><td>0                                                  </td><td>3                                                  </td><td>Moran, Mr. James                                   </td><td>male                                               </td><td>NA                                                 </td><td>0                                                  </td><td>0                                                  </td><td>330877                                             </td><td> 8.4583                                            </td><td>                                                   </td><td>Q                                                  </td></tr>\n",
       "</tbody>\n",
       "</table>\n"
      ],
      "text/latex": [
       "\\begin{tabular}{r|llllllllllll}\n",
       " PassengerId & Survived & Pclass & Name & Sex & Age & SibSp & Parch & Ticket & Fare & Cabin & Embarked\\\\\n",
       "\\hline\n",
       "\t 1                                                   & 0                                                   & 3                                                   & Braund, Mr. Owen Harris                             & male                                                & 22                                                  & 1                                                   & 0                                                   & A/5 21171                                           &  7.2500                                             &                                                     & S                                                  \\\\\n",
       "\t 2                                                   & 1                                                   & 1                                                   & Cumings, Mrs. John Bradley (Florence Briggs Thayer) & female                                              & 38                                                  & 1                                                   & 0                                                   & PC 17599                                            & 71.2833                                             & C85                                                 & C                                                  \\\\\n",
       "\t 3                                                   & 1                                                   & 3                                                   & Heikkinen, Miss. Laina                              & female                                              & 26                                                  & 0                                                   & 0                                                   & STON/O2. 3101282                                    &  7.9250                                             &                                                     & S                                                  \\\\\n",
       "\t 4                                                   & 1                                                   & 1                                                   & Futrelle, Mrs. Jacques Heath (Lily May Peel)        & female                                              & 35                                                  & 1                                                   & 0                                                   & 113803                                              & 53.1000                                             & C123                                                & S                                                  \\\\\n",
       "\t 5                                                   & 0                                                   & 3                                                   & Allen, Mr. William Henry                            & male                                                & 35                                                  & 0                                                   & 0                                                   & 373450                                              &  8.0500                                             &                                                     & S                                                  \\\\\n",
       "\t 6                                                   & 0                                                   & 3                                                   & Moran, Mr. James                                    & male                                                & NA                                                  & 0                                                   & 0                                                   & 330877                                              &  8.4583                                             &                                                     & Q                                                  \\\\\n",
       "\\end{tabular}\n"
      ],
      "text/markdown": [
       "\n",
       "| PassengerId | Survived | Pclass | Name | Sex | Age | SibSp | Parch | Ticket | Fare | Cabin | Embarked |\n",
       "|---|---|---|---|---|---|---|---|---|---|---|---|\n",
       "| 1                                                   | 0                                                   | 3                                                   | Braund, Mr. Owen Harris                             | male                                                | 22                                                  | 1                                                   | 0                                                   | A/5 21171                                           |  7.2500                                             |                                                     | S                                                   |\n",
       "| 2                                                   | 1                                                   | 1                                                   | Cumings, Mrs. John Bradley (Florence Briggs Thayer) | female                                              | 38                                                  | 1                                                   | 0                                                   | PC 17599                                            | 71.2833                                             | C85                                                 | C                                                   |\n",
       "| 3                                                   | 1                                                   | 3                                                   | Heikkinen, Miss. Laina                              | female                                              | 26                                                  | 0                                                   | 0                                                   | STON/O2. 3101282                                    |  7.9250                                             |                                                     | S                                                   |\n",
       "| 4                                                   | 1                                                   | 1                                                   | Futrelle, Mrs. Jacques Heath (Lily May Peel)        | female                                              | 35                                                  | 1                                                   | 0                                                   | 113803                                              | 53.1000                                             | C123                                                | S                                                   |\n",
       "| 5                                                   | 0                                                   | 3                                                   | Allen, Mr. William Henry                            | male                                                | 35                                                  | 0                                                   | 0                                                   | 373450                                              |  8.0500                                             |                                                     | S                                                   |\n",
       "| 6                                                   | 0                                                   | 3                                                   | Moran, Mr. James                                    | male                                                | NA                                                  | 0                                                   | 0                                                   | 330877                                              |  8.4583                                             |                                                     | Q                                                   |\n",
       "\n"
      ],
      "text/plain": [
       "  PassengerId Survived Pclass\n",
       "1 1           0        3     \n",
       "2 2           1        1     \n",
       "3 3           1        3     \n",
       "4 4           1        1     \n",
       "5 5           0        3     \n",
       "6 6           0        3     \n",
       "  Name                                                Sex    Age SibSp Parch\n",
       "1 Braund, Mr. Owen Harris                             male   22  1     0    \n",
       "2 Cumings, Mrs. John Bradley (Florence Briggs Thayer) female 38  1     0    \n",
       "3 Heikkinen, Miss. Laina                              female 26  0     0    \n",
       "4 Futrelle, Mrs. Jacques Heath (Lily May Peel)        female 35  1     0    \n",
       "5 Allen, Mr. William Henry                            male   35  0     0    \n",
       "6 Moran, Mr. James                                    male   NA  0     0    \n",
       "  Ticket           Fare    Cabin Embarked\n",
       "1 A/5 21171         7.2500       S       \n",
       "2 PC 17599         71.2833 C85   C       \n",
       "3 STON/O2. 3101282  7.9250       S       \n",
       "4 113803           53.1000 C123  S       \n",
       "5 373450            8.0500       S       \n",
       "6 330877            8.4583       Q       "
      ]
     },
     "metadata": {},
     "output_type": "display_data"
    },
    {
     "data": {
      "text/html": [
       "<table>\n",
       "<thead><tr><th></th><th scope=col>PassengerId</th><th scope=col>Survived</th><th scope=col>Pclass</th><th scope=col>Name</th><th scope=col>Sex</th><th scope=col>Age</th><th scope=col>SibSp</th><th scope=col>Parch</th><th scope=col>Ticket</th><th scope=col>Fare</th><th scope=col>Cabin</th><th scope=col>Embarked</th></tr></thead>\n",
       "<tbody>\n",
       "\t<tr><th scope=row>886</th><td>886                                     </td><td>0                                       </td><td>3                                       </td><td>Rice, Mrs. William (Margaret Norton)    </td><td>female                                  </td><td>39                                      </td><td>0                                       </td><td>5                                       </td><td>382652                                  </td><td>29.125                                  </td><td>                                        </td><td>Q                                       </td></tr>\n",
       "\t<tr><th scope=row>887</th><td>887                                     </td><td>0                                       </td><td>2                                       </td><td>Montvila, Rev. Juozas                   </td><td>male                                    </td><td>27                                      </td><td>0                                       </td><td>0                                       </td><td>211536                                  </td><td>13.000                                  </td><td>                                        </td><td>S                                       </td></tr>\n",
       "\t<tr><th scope=row>888</th><td>888                                     </td><td>1                                       </td><td>1                                       </td><td>Graham, Miss. Margaret Edith            </td><td>female                                  </td><td>19                                      </td><td>0                                       </td><td>0                                       </td><td>112053                                  </td><td>30.000                                  </td><td>B42                                     </td><td>S                                       </td></tr>\n",
       "\t<tr><th scope=row>889</th><td>889                                     </td><td>0                                       </td><td>3                                       </td><td>Johnston, Miss. Catherine Helen \"Carrie\"</td><td>female                                  </td><td>NA                                      </td><td>1                                       </td><td>2                                       </td><td>W./C. 6607                              </td><td>23.450                                  </td><td>                                        </td><td>S                                       </td></tr>\n",
       "\t<tr><th scope=row>890</th><td>890                                     </td><td>1                                       </td><td>1                                       </td><td>Behr, Mr. Karl Howell                   </td><td>male                                    </td><td>26                                      </td><td>0                                       </td><td>0                                       </td><td>111369                                  </td><td>30.000                                  </td><td>C148                                    </td><td>C                                       </td></tr>\n",
       "\t<tr><th scope=row>891</th><td>891                                     </td><td>0                                       </td><td>3                                       </td><td>Dooley, Mr. Patrick                     </td><td>male                                    </td><td>32                                      </td><td>0                                       </td><td>0                                       </td><td>370376                                  </td><td> 7.750                                  </td><td>                                        </td><td>Q                                       </td></tr>\n",
       "</tbody>\n",
       "</table>\n"
      ],
      "text/latex": [
       "\\begin{tabular}{r|llllllllllll}\n",
       "  & PassengerId & Survived & Pclass & Name & Sex & Age & SibSp & Parch & Ticket & Fare & Cabin & Embarked\\\\\n",
       "\\hline\n",
       "\t886 & 886                                      & 0                                        & 3                                        & Rice, Mrs. William (Margaret Norton)     & female                                   & 39                                       & 0                                        & 5                                        & 382652                                   & 29.125                                   &                                          & Q                                       \\\\\n",
       "\t887 & 887                                      & 0                                        & 2                                        & Montvila, Rev. Juozas                    & male                                     & 27                                       & 0                                        & 0                                        & 211536                                   & 13.000                                   &                                          & S                                       \\\\\n",
       "\t888 & 888                                      & 1                                        & 1                                        & Graham, Miss. Margaret Edith             & female                                   & 19                                       & 0                                        & 0                                        & 112053                                   & 30.000                                   & B42                                      & S                                       \\\\\n",
       "\t889 & 889                                      & 0                                        & 3                                        & Johnston, Miss. Catherine Helen \"Carrie\" & female                                   & NA                                       & 1                                        & 2                                        & W./C. 6607                               & 23.450                                   &                                          & S                                       \\\\\n",
       "\t890 & 890                                      & 1                                        & 1                                        & Behr, Mr. Karl Howell                    & male                                     & 26                                       & 0                                        & 0                                        & 111369                                   & 30.000                                   & C148                                     & C                                       \\\\\n",
       "\t891 & 891                                      & 0                                        & 3                                        & Dooley, Mr. Patrick                      & male                                     & 32                                       & 0                                        & 0                                        & 370376                                   &  7.750                                   &                                          & Q                                       \\\\\n",
       "\\end{tabular}\n"
      ],
      "text/markdown": [
       "\n",
       "| <!--/--> | PassengerId | Survived | Pclass | Name | Sex | Age | SibSp | Parch | Ticket | Fare | Cabin | Embarked |\n",
       "|---|---|---|---|---|---|---|---|---|---|---|---|---|\n",
       "| 886 | 886                                      | 0                                        | 3                                        | Rice, Mrs. William (Margaret Norton)     | female                                   | 39                                       | 0                                        | 5                                        | 382652                                   | 29.125                                   |                                          | Q                                        |\n",
       "| 887 | 887                                      | 0                                        | 2                                        | Montvila, Rev. Juozas                    | male                                     | 27                                       | 0                                        | 0                                        | 211536                                   | 13.000                                   |                                          | S                                        |\n",
       "| 888 | 888                                      | 1                                        | 1                                        | Graham, Miss. Margaret Edith             | female                                   | 19                                       | 0                                        | 0                                        | 112053                                   | 30.000                                   | B42                                      | S                                        |\n",
       "| 889 | 889                                      | 0                                        | 3                                        | Johnston, Miss. Catherine Helen \"Carrie\" | female                                   | NA                                       | 1                                        | 2                                        | W./C. 6607                               | 23.450                                   |                                          | S                                        |\n",
       "| 890 | 890                                      | 1                                        | 1                                        | Behr, Mr. Karl Howell                    | male                                     | 26                                       | 0                                        | 0                                        | 111369                                   | 30.000                                   | C148                                     | C                                        |\n",
       "| 891 | 891                                      | 0                                        | 3                                        | Dooley, Mr. Patrick                      | male                                     | 32                                       | 0                                        | 0                                        | 370376                                   |  7.750                                   |                                          | Q                                        |\n",
       "\n"
      ],
      "text/plain": [
       "    PassengerId Survived Pclass Name                                     Sex   \n",
       "886 886         0        3      Rice, Mrs. William (Margaret Norton)     female\n",
       "887 887         0        2      Montvila, Rev. Juozas                    male  \n",
       "888 888         1        1      Graham, Miss. Margaret Edith             female\n",
       "889 889         0        3      Johnston, Miss. Catherine Helen \"Carrie\" female\n",
       "890 890         1        1      Behr, Mr. Karl Howell                    male  \n",
       "891 891         0        3      Dooley, Mr. Patrick                      male  \n",
       "    Age SibSp Parch Ticket     Fare   Cabin Embarked\n",
       "886 39  0     5     382652     29.125       Q       \n",
       "887 27  0     0     211536     13.000       S       \n",
       "888 19  0     0     112053     30.000 B42   S       \n",
       "889 NA  1     2     W./C. 6607 23.450       S       \n",
       "890 26  0     0     111369     30.000 C148  C       \n",
       "891 32  0     0     370376      7.750       Q       "
      ]
     },
     "metadata": {},
     "output_type": "display_data"
    },
    {
     "data": {
      "text/plain": [
       "  PassengerId       Survived          Pclass     \n",
       " Min.   :  1.0   Min.   :0.0000   Min.   :1.000  \n",
       " 1st Qu.:223.5   1st Qu.:0.0000   1st Qu.:2.000  \n",
       " Median :446.0   Median :0.0000   Median :3.000  \n",
       " Mean   :446.0   Mean   :0.3838   Mean   :2.309  \n",
       " 3rd Qu.:668.5   3rd Qu.:1.0000   3rd Qu.:3.000  \n",
       " Max.   :891.0   Max.   :1.0000   Max.   :3.000  \n",
       "                                                 \n",
       "                                    Name         Sex           Age       \n",
       " Abbing, Mr. Anthony                  :  1   female:314   Min.   : 0.42  \n",
       " Abbott, Mr. Rossmore Edward          :  1   male  :577   1st Qu.:20.12  \n",
       " Abbott, Mrs. Stanton (Rosa Hunt)     :  1                Median :28.00  \n",
       " Abelson, Mr. Samuel                  :  1                Mean   :29.70  \n",
       " Abelson, Mrs. Samuel (Hannah Wizosky):  1                3rd Qu.:38.00  \n",
       " Adahl, Mr. Mauritz Nils Martin       :  1                Max.   :80.00  \n",
       " (Other)                              :885                NA's   :177    \n",
       "     SibSp           Parch             Ticket         Fare       \n",
       " Min.   :0.000   Min.   :0.0000   1601    :  7   Min.   :  0.00  \n",
       " 1st Qu.:0.000   1st Qu.:0.0000   347082  :  7   1st Qu.:  7.91  \n",
       " Median :0.000   Median :0.0000   CA. 2343:  7   Median : 14.45  \n",
       " Mean   :0.523   Mean   :0.3816   3101295 :  6   Mean   : 32.20  \n",
       " 3rd Qu.:1.000   3rd Qu.:0.0000   347088  :  6   3rd Qu.: 31.00  \n",
       " Max.   :8.000   Max.   :6.0000   CA 2144 :  6   Max.   :512.33  \n",
       "                                  (Other) :852                   \n",
       "         Cabin     Embarked\n",
       "            :687    :  2   \n",
       " B96 B98    :  4   C:168   \n",
       " C23 C25 C27:  4   Q: 77   \n",
       " G6         :  4   S:644   \n",
       " C22 C26    :  3           \n",
       " D          :  3           \n",
       " (Other)    :186           "
      ]
     },
     "metadata": {},
     "output_type": "display_data"
    }
   ],
   "source": [
    "head(train_df)\n",
    "tail(train_df)\n",
    "summary(train_df)"
   ]
  },
  {
   "cell_type": "code",
   "execution_count": null,
   "id": "b1318bb5",
   "metadata": {},
   "outputs": [],
   "source": []
  }
 ],
 "metadata": {
  "kernelspec": {
   "display_name": "R",
   "language": "R",
   "name": "ir"
  },
  "language_info": {
   "codemirror_mode": "r",
   "file_extension": ".r",
   "mimetype": "text/x-r-source",
   "name": "R",
   "pygments_lexer": "r",
   "version": "3.6.1"
  }
 },
 "nbformat": 4,
 "nbformat_minor": 5
}
