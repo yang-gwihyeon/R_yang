{
 "cells": [
  {
   "cell_type": "code",
   "execution_count": 38,
   "id": "e89398f3",
   "metadata": {},
   "outputs": [],
   "source": [
    "#인공신경망, 의사결정나무, RandomForest, SVM, 로지스틱회귀분석"
   ]
  },
  {
   "cell_type": "code",
   "execution_count": 60,
   "id": "da4e5bf1",
   "metadata": {},
   "outputs": [
    {
     "data": {
      "text/html": [
       "<table>\n",
       "<thead><tr><th scope=col>머신러닝</th></tr></thead>\n",
       "<tbody>\n",
       "\t<tr><td>인공신경망      </td></tr>\n",
       "\t<tr><td>의사결정나무    </td></tr>\n",
       "\t<tr><td>RandomForest    </td></tr>\n",
       "\t<tr><td>SVM             </td></tr>\n",
       "\t<tr><td>로지스틱회귀분석</td></tr>\n",
       "</tbody>\n",
       "</table>\n"
      ],
      "text/latex": [
       "\\begin{tabular}{r|l}\n",
       " 머신러닝\\\\\n",
       "\\hline\n",
       "\t 인공신경망      \\\\\n",
       "\t 의사결정나무    \\\\\n",
       "\t RandomForest    \\\\\n",
       "\t SVM             \\\\\n",
       "\t 로지스틱회귀분석\\\\\n",
       "\\end{tabular}\n"
      ],
      "text/markdown": [
       "\n",
       "| 머신러닝 |\n",
       "|---|\n",
       "| 인공신경망       |\n",
       "| 의사결정나무     |\n",
       "| RandomForest     |\n",
       "| SVM              |\n",
       "| 로지스틱회귀분석 |\n",
       "\n"
      ],
      "text/plain": [
       "  머신러닝        \n",
       "1 인공신경망      \n",
       "2 의사결정나무    \n",
       "3 RandomForest    \n",
       "4 SVM             \n",
       "5 로지스틱회귀분석"
      ]
     },
     "metadata": {},
     "output_type": "display_data"
    }
   ],
   "source": [
    "예측력_결과 <- data.frame(머신러닝=c(\"인공신경망\",\"의사결정나무\",\"RandomForest\",\"SVM\",\"로지스틱회귀분석\"))\n",
    "예측력_결과"
   ]
  },
  {
   "cell_type": "markdown",
   "id": "43e8fc55",
   "metadata": {},
   "source": [
    "# 인공신경망 "
   ]
  },
  {
   "cell_type": "code",
   "execution_count": 19,
   "id": "9702d754",
   "metadata": {},
   "outputs": [],
   "source": [
    "# 인공 신경망 모델 사용\n",
    "\n",
    "인공신경망 <- function(iris_data){\n",
    "    \n",
    "\n",
    "library(nnet)\n",
    "library(caret)\n",
    "\n",
    "# Sampling\n",
    "samp <- createDataPartition(iris_data$Species, p=0.7, list=F)\n",
    "# 학습용 데이터 만들기\n",
    "data.tr <- iris_data[samp,]\n",
    "\n",
    "# 검증용 데이터 만들기\n",
    "data.test <- iris_data[-samp,]\n",
    "\n",
    "# Model 만들기\n",
    "model.nnet <- nnet(Species ~ ., data=data.tr, size=3) \n",
    "# size:은닉층 갯수로 sample수보다 작아야 함(Hyper Parameter)\n",
    "\n",
    "x <- subset(data.test, select = -Species)\n",
    "y <- data.test$Species\n",
    "\n",
    "pred <- predict(model.nnet, x, type = \"class\") # class :분류된것(객관식), raw : 주관식\n",
    "\n",
    "\n",
    " mean(pred == y)\n",
    "    \n",
    "}"
   ]
  },
  {
   "cell_type": "code",
   "execution_count": 20,
   "id": "1d45a7b5",
   "metadata": {},
   "outputs": [
    {
     "name": "stdout",
     "output_type": "stream",
     "text": [
      "# weights:  27\n",
      "initial  value 121.987132 \n",
      "iter  10 value 49.230086\n",
      "iter  20 value 40.706135\n",
      "iter  30 value 7.835403\n",
      "iter  40 value 4.945233\n",
      "iter  50 value 4.512685\n",
      "iter  60 value 4.472086\n",
      "iter  70 value 4.341933\n",
      "iter  80 value 4.154216\n",
      "iter  90 value 4.116877\n",
      "iter 100 value 4.071039\n",
      "final  value 4.071039 \n",
      "stopped after 100 iterations\n"
     ]
    },
    {
     "data": {
      "text/html": [
       "0.977777777777778"
      ],
      "text/latex": [
       "0.977777777777778"
      ],
      "text/markdown": [
       "0.977777777777778"
      ],
      "text/plain": [
       "[1] 0.9777778"
      ]
     },
     "metadata": {},
     "output_type": "display_data"
    }
   ],
   "source": [
    "인공신경망(iris)"
   ]
  },
  {
   "cell_type": "markdown",
   "id": "0a658ea4",
   "metadata": {},
   "source": [
    "# 의사결정나무"
   ]
  },
  {
   "cell_type": "code",
   "execution_count": 17,
   "id": "840613b9",
   "metadata": {},
   "outputs": [],
   "source": [
    "\n",
    "의사결정나무 <- function(iris_data){\n",
    "    library(caret)\n",
    "    library(party)\n",
    "    \n",
    "# Sampling\n",
    "samp <- createDataPartition(iris_data$Species, p=0.7, list=F)\n",
    "# 학습용 데이터 만들기\n",
    "data.tr <- iris_data[samp,]\n",
    "\n",
    "# 검증용 데이터 만들기\n",
    "data.test <- iris_data[-samp,]\n",
    "\n",
    "model.ctree <- ctree(Species ~ ., data=data.tr)\n",
    "\n",
    "x <- subset(data.test, select = -Species)\n",
    "y <- data.test$Species\n",
    "\n",
    "pred <- predict(model.ctree, x, type = \"class\") # class :분류된것(객관식), raw : 주관식\n",
    "\n",
    "\n",
    " mean(pred == y)\n",
    "    }"
   ]
  },
  {
   "cell_type": "code",
   "execution_count": 18,
   "id": "8a2693c3",
   "metadata": {},
   "outputs": [
    {
     "ename": "ERROR",
     "evalue": "Error in match.arg(type): 'arg' should be one of “response”, “node”, “prob”\n",
     "output_type": "error",
     "traceback": [
      "Error in match.arg(type): 'arg' should be one of “response”, “node”, “prob”\nTraceback:\n",
      "1. 의사결정나무(iris)",
      "2. predict(model.ctree, x, type = \"class\")   # at line 19 of file <text>",
      "3. predict.BinaryTree(model.ctree, x, type = \"class\")",
      "4. conditionalTree@predict(object, ...)",
      "5. object@predict_response(...)",
      "6. match.arg(type)",
      "7. stop(gettextf(\"'arg' should be one of %s\", paste(dQuote(choices), \n .     collapse = \", \")), domain = NA)"
     ]
    }
   ],
   "source": [
    "의사결정나무(iris)"
   ]
  },
  {
   "cell_type": "markdown",
   "id": "52978dce",
   "metadata": {},
   "source": [
    "## RandomForest"
   ]
  },
  {
   "cell_type": "code",
   "execution_count": 136,
   "id": "910eaf59",
   "metadata": {},
   "outputs": [],
   "source": [
    "# RandomForest\n",
    "\n",
    "RandomForest <- function(iris_data){\n",
    " library(randomForest)\n",
    " library(caret)\n",
    "    \n",
    "# Sampling\n",
    "samp <- createDataPartition(iris_data$Species, p=0.7, list=F)\n",
    "    \n",
    "# 학습용 데이터 만들기\n",
    "data.tr <- iris_data[samp,]\n",
    "\n",
    "# 검증용 데이터 만들기\n",
    "data.test <- iris_data[-samp,]\n",
    "\n",
    "model.ctree <- ctree(Species ~ ., data=data.tr)\n",
    "\n",
    "x <- subset(data.test, select = -Species)\n",
    "y <- data.test$Species\n",
    "\n",
    "model.rf <- randomForest(Species ~ ., data = data.tr, ntree=1000)\n",
    "    \n",
    "pred <- predict(model.rf, x)\n",
    "    \n",
    "mean(pred == y)\n",
    "\n",
    "    }"
   ]
  },
  {
   "cell_type": "code",
   "execution_count": 139,
   "id": "3d6fabce",
   "metadata": {},
   "outputs": [
    {
     "data": {
      "text/html": [
       "0.911111111111111"
      ],
      "text/latex": [
       "0.911111111111111"
      ],
      "text/markdown": [
       "0.911111111111111"
      ],
      "text/plain": [
       "[1] 0.9111111"
      ]
     },
     "metadata": {},
     "output_type": "display_data"
    }
   ],
   "source": [
    "RandomForest(iris)"
   ]
  },
  {
   "cell_type": "markdown",
   "id": "a643649f",
   "metadata": {},
   "source": [
    "## SVM"
   ]
  },
  {
   "cell_type": "code",
   "execution_count": 158,
   "id": "c28377d6",
   "metadata": {},
   "outputs": [],
   "source": [
    "SVM <- function(iris_data){\n",
    "library(e1071)\n",
    "library(caret)\n",
    "    \n",
    "# Sampling\n",
    "iris2 <- subset(iris_data, select = -Species)\n",
    "iris3 <- scale(iris2)\n",
    "iris4 <- as.data.frame(iris3)\n",
    "iris4$Species <- iris$Species\n",
    "    \n",
    "samp <- createDataPartition(iris4$Species, p=0.7, list=F)  \n",
    "    \n",
    "# 학습용 데이터 만들기\n",
    "data.tr <- iris4[samp,]\n",
    "\n",
    "# 검증용 데이터 만들기\n",
    "data.test <- iris4[-samp,]\n",
    "\n",
    "x <- subset(iris4, select = -Species)\n",
    "y <- iris4$Species\n",
    "\n",
    "model.svm = svm(Species ~ ., data=data.tr)\n",
    "    \n",
    "pred <- predict(model.svm, x)\n",
    "mean(pred == y)\n",
    "    \n",
    "    }"
   ]
  },
  {
   "cell_type": "code",
   "execution_count": 170,
   "id": "d41bbd40",
   "metadata": {},
   "outputs": [
    {
     "data": {
      "text/html": [
       "0.98"
      ],
      "text/latex": [
       "0.98"
      ],
      "text/markdown": [
       "0.98"
      ],
      "text/plain": [
       "[1] 0.98"
      ]
     },
     "metadata": {},
     "output_type": "display_data"
    }
   ],
   "source": [
    "SVM(iris)"
   ]
  },
  {
   "cell_type": "code",
   "execution_count": null,
   "id": "0b7afec1",
   "metadata": {},
   "outputs": [],
   "source": []
  },
  {
   "cell_type": "markdown",
   "id": "edaebc28",
   "metadata": {},
   "source": [
    "## 로지스틱회귀분석"
   ]
  },
  {
   "cell_type": "code",
   "execution_count": 178,
   "id": "04635702",
   "metadata": {},
   "outputs": [],
   "source": [
    "로지스틱회귀분석 <- function(iris_data){\n",
    "library(nnet)\n",
    "library(caret)\n",
    "    \n",
    "# Sampling\n",
    "iris2 <- subset(iris_data, select = -Species)\n",
    "iris3 <- scale(iris2)\n",
    "iris4 <- as.data.frame(iris3)\n",
    "iris4$Species <- iris$Species\n",
    "    \n",
    "samp <- createDataPartition(iris4$Species, p=0.7, list=F)  \n",
    "    \n",
    "# 학습용 데이터 만들기\n",
    "data.tr <- iris4[samp,]\n",
    "\n",
    "# 검증용 데이터 만들기\n",
    "data.test <- iris4[-samp,]\n",
    "\n",
    "x <- subset(iris4, select = -Species)\n",
    "y <- iris4$Species\n",
    "\n",
    "model <- multinom(Species ~ ., data= data.tr)\n",
    "    \n",
    "pred <- predict(model, x)\n",
    "    \n",
    "a <- mean(pred == y)\n",
    "    \n",
    "    }"
   ]
  },
  {
   "cell_type": "code",
   "execution_count": 181,
   "id": "d097f77c",
   "metadata": {},
   "outputs": [
    {
     "name": "stdout",
     "output_type": "stream",
     "text": [
      "# weights:  18 (10 variable)\n",
      "initial  value 115.354290 \n",
      "iter  10 value 12.384194\n",
      "iter  20 value 5.196065\n",
      "iter  30 value 5.173145\n",
      "iter  40 value 5.168550\n",
      "iter  50 value 5.167164\n",
      "iter  60 value 5.166592\n",
      "iter  70 value 5.165892\n",
      "iter  80 value 5.165666\n",
      "iter  90 value 5.165457\n",
      "iter 100 value 5.165258\n",
      "final  value 5.165258 \n",
      "stopped after 100 iterations\n"
     ]
    }
   ],
   "source": [
    "\n",
    "로지스틱회귀분석(iris)\n"
   ]
  },
  {
   "cell_type": "code",
   "execution_count": null,
   "id": "421c1f77",
   "metadata": {},
   "outputs": [],
   "source": []
  },
  {
   "cell_type": "code",
   "execution_count": null,
   "id": "3c455c49",
   "metadata": {},
   "outputs": [],
   "source": []
  }
 ],
 "metadata": {
  "kernelspec": {
   "display_name": "R",
   "language": "R",
   "name": "ir"
  },
  "language_info": {
   "codemirror_mode": "r",
   "file_extension": ".r",
   "mimetype": "text/x-r-source",
   "name": "R",
   "pygments_lexer": "r",
   "version": "3.6.1"
  }
 },
 "nbformat": 4,
 "nbformat_minor": 5
}
