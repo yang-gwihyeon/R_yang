{
 "cells": [
  {
   "cell_type": "code",
   "execution_count": 111,
   "id": "72487336",
   "metadata": {},
   "outputs": [],
   "source": [
    "seoul <- read.csv(\"../R_yang/newSeoul2019.csv\")"
   ]
  },
  {
   "cell_type": "code",
   "execution_count": 112,
   "id": "3e3b5dc2",
   "metadata": {},
   "outputs": [],
   "source": [
    "library(dplyr)"
   ]
  },
  {
   "cell_type": "code",
   "execution_count": 113,
   "id": "26da696a",
   "metadata": {},
   "outputs": [
    {
     "data": {
      "text/html": [
       "<table>\n",
       "<thead><tr><th></th><th scope=col>년도</th><th scope=col>월</th><th scope=col>자치구명</th><th scope=col>발생건수</th><th scope=col>사망자수</th><th scope=col>부상자수</th></tr></thead>\n",
       "<tbody>\n",
       "\t<tr><th scope=row>601</th><td>2013  </td><td>1     </td><td>종로구</td><td>109   </td><td>3     </td><td>154   </td></tr>\n",
       "\t<tr><th scope=row>602</th><td>2013  </td><td>2     </td><td>종로구</td><td> 90   </td><td>1     </td><td>130   </td></tr>\n",
       "\t<tr><th scope=row>603</th><td>2013  </td><td>3     </td><td>종로구</td><td>122   </td><td>1     </td><td>173   </td></tr>\n",
       "\t<tr><th scope=row>604</th><td>2013  </td><td>4     </td><td>종로구</td><td>118   </td><td>0     </td><td>169   </td></tr>\n",
       "\t<tr><th scope=row>605</th><td>2013  </td><td>5     </td><td>종로구</td><td>102   </td><td>1     </td><td>153   </td></tr>\n",
       "\t<tr><th scope=row>606</th><td>2013  </td><td>6     </td><td>종로구</td><td>127   </td><td>0     </td><td>175   </td></tr>\n",
       "</tbody>\n",
       "</table>\n"
      ],
      "text/latex": [
       "\\begin{tabular}{r|llllll}\n",
       "  & 년도 & 월 & 자치구명 & 발생건수 & 사망자수 & 부상자수\\\\\n",
       "\\hline\n",
       "\t601 & 2013   & 1      & 종로구 & 109    & 3      & 154   \\\\\n",
       "\t602 & 2013   & 2      & 종로구 &  90    & 1      & 130   \\\\\n",
       "\t603 & 2013   & 3      & 종로구 & 122    & 1      & 173   \\\\\n",
       "\t604 & 2013   & 4      & 종로구 & 118    & 0      & 169   \\\\\n",
       "\t605 & 2013   & 5      & 종로구 & 102    & 1      & 153   \\\\\n",
       "\t606 & 2013   & 6      & 종로구 & 127    & 0      & 175   \\\\\n",
       "\\end{tabular}\n"
      ],
      "text/markdown": [
       "\n",
       "| <!--/--> | 년도 | 월 | 자치구명 | 발생건수 | 사망자수 | 부상자수 |\n",
       "|---|---|---|---|---|---|---|\n",
       "| 601 | 2013   | 1      | 종로구 | 109    | 3      | 154    |\n",
       "| 602 | 2013   | 2      | 종로구 |  90    | 1      | 130    |\n",
       "| 603 | 2013   | 3      | 종로구 | 122    | 1      | 173    |\n",
       "| 604 | 2013   | 4      | 종로구 | 118    | 0      | 169    |\n",
       "| 605 | 2013   | 5      | 종로구 | 102    | 1      | 153    |\n",
       "| 606 | 2013   | 6      | 종로구 | 127    | 0      | 175    |\n",
       "\n"
      ],
      "text/plain": [
       "    년도 월 자치구명 발생건수 사망자수 부상자수\n",
       "601 2013 1  종로구   109      3        154     \n",
       "602 2013 2  종로구    90      1        130     \n",
       "603 2013 3  종로구   122      1        173     \n",
       "604 2013 4  종로구   118      0        169     \n",
       "605 2013 5  종로구   102      1        153     \n",
       "606 2013 6  종로구   127      0        175     "
      ]
     },
     "metadata": {},
     "output_type": "display_data"
    }
   ],
   "source": [
    "seoulyear <- subset(seoul, seoul$년도 == 2013 | seoul$년도 == 2014 | seoul$년도 == 2015 | seoul$년도 == 2016 | seoul$년도 == 2017 | seoul$년도 == 2018 | seoul$년도 == 2019)\n",
    "head(seoulyear)"
   ]
  },
  {
   "cell_type": "code",
   "execution_count": 114,
   "id": "fe520a6b",
   "metadata": {},
   "outputs": [
    {
     "data": {
      "text/html": [
       "<table>\n",
       "<thead><tr><th scope=col>월</th><th scope=col>발생건수</th><th scope=col>부상자수</th><th scope=col>사망자수</th></tr></thead>\n",
       "<tbody>\n",
       "\t<tr><td>1  </td><td>109</td><td>154</td><td>3  </td></tr>\n",
       "\t<tr><td>2  </td><td> 90</td><td>130</td><td>1  </td></tr>\n",
       "\t<tr><td>3  </td><td>122</td><td>173</td><td>1  </td></tr>\n",
       "\t<tr><td>4  </td><td>118</td><td>169</td><td>0  </td></tr>\n",
       "\t<tr><td>5  </td><td>102</td><td>153</td><td>1  </td></tr>\n",
       "\t<tr><td>6  </td><td>127</td><td>175</td><td>0  </td></tr>\n",
       "</tbody>\n",
       "</table>\n"
      ],
      "text/latex": [
       "\\begin{tabular}{r|llll}\n",
       " 월 & 발생건수 & 부상자수 & 사망자수\\\\\n",
       "\\hline\n",
       "\t 1   & 109 & 154 & 3  \\\\\n",
       "\t 2   &  90 & 130 & 1  \\\\\n",
       "\t 3   & 122 & 173 & 1  \\\\\n",
       "\t 4   & 118 & 169 & 0  \\\\\n",
       "\t 5   & 102 & 153 & 1  \\\\\n",
       "\t 6   & 127 & 175 & 0  \\\\\n",
       "\\end{tabular}\n"
      ],
      "text/markdown": [
       "\n",
       "| 월 | 발생건수 | 부상자수 | 사망자수 |\n",
       "|---|---|---|---|\n",
       "| 1   | 109 | 154 | 3   |\n",
       "| 2   |  90 | 130 | 1   |\n",
       "| 3   | 122 | 173 | 1   |\n",
       "| 4   | 118 | 169 | 0   |\n",
       "| 5   | 102 | 153 | 1   |\n",
       "| 6   | 127 | 175 | 0   |\n",
       "\n"
      ],
      "text/plain": [
       "  월 발생건수 부상자수 사망자수\n",
       "1 1  109      154      3       \n",
       "2 2   90      130      1       \n",
       "3 3  122      173      1       \n",
       "4 4  118      169      0       \n",
       "5 5  102      153      1       \n",
       "6 6  127      175      0       "
      ]
     },
     "metadata": {},
     "output_type": "display_data"
    }
   ],
   "source": [
    "seoulMonths <- data.frame(월=seoulyear$월,발생건수=seoulyear$발생건수,부상자수=seoulyear$부상자수,사망자수=seoulyear$사망자수)\n",
    "head(seoulMonths)"
   ]
  },
  {
   "cell_type": "code",
   "execution_count": 115,
   "id": "74a45b58",
   "metadata": {},
   "outputs": [],
   "source": [
    "seoulyear <- subset(seoulMonths,월 == 1)\n",
    "\n",
    "seoulMonth3 <- data.frame(월=1,발생건수=sum(seoulyear$발생건수),부상자수=sum(seoulyear$부상자수),사망자수=sum(seoulyear$사망자수))"
   ]
  },
  {
   "cell_type": "code",
   "execution_count": 116,
   "id": "53e9e228",
   "metadata": {},
   "outputs": [
    {
     "data": {
      "text/html": [
       "<table>\n",
       "<thead><tr><th scope=col>월</th><th scope=col>발생건수</th><th scope=col>부상자수</th><th scope=col>사망자수</th></tr></thead>\n",
       "<tbody>\n",
       "\t<tr><td> 8   </td><td>23611</td><td>33060</td><td>165  </td></tr>\n",
       "\t<tr><td> 2   </td><td>18703</td><td>26553</td><td>173  </td></tr>\n",
       "\t<tr><td> 4   </td><td>23355</td><td>32667</td><td>184  </td></tr>\n",
       "\t<tr><td> 6   </td><td>23611</td><td>32885</td><td>186  </td></tr>\n",
       "\t<tr><td> 7   </td><td>24070</td><td>33515</td><td>194  </td></tr>\n",
       "\t<tr><td> 5   </td><td>24779</td><td>34449</td><td>204  </td></tr>\n",
       "\t<tr><td> 3   </td><td>22654</td><td>31480</td><td>208  </td></tr>\n",
       "\t<tr><td>11   </td><td>24540</td><td>33812</td><td>208  </td></tr>\n",
       "\t<tr><td> 1   </td><td>21060</td><td>30440</td><td>210  </td></tr>\n",
       "\t<tr><td> 9   </td><td>23731</td><td>32746</td><td>211  </td></tr>\n",
       "\t<tr><td>12   </td><td>23297</td><td>33001</td><td>220  </td></tr>\n",
       "\t<tr><td>10   </td><td>25202</td><td>35288</td><td>236  </td></tr>\n",
       "</tbody>\n",
       "</table>\n"
      ],
      "text/latex": [
       "\\begin{tabular}{r|llll}\n",
       " 월 & 발생건수 & 부상자수 & 사망자수\\\\\n",
       "\\hline\n",
       "\t  8    & 23611 & 33060 & 165  \\\\\n",
       "\t  2    & 18703 & 26553 & 173  \\\\\n",
       "\t  4    & 23355 & 32667 & 184  \\\\\n",
       "\t  6    & 23611 & 32885 & 186  \\\\\n",
       "\t  7    & 24070 & 33515 & 194  \\\\\n",
       "\t  5    & 24779 & 34449 & 204  \\\\\n",
       "\t  3    & 22654 & 31480 & 208  \\\\\n",
       "\t 11    & 24540 & 33812 & 208  \\\\\n",
       "\t  1    & 21060 & 30440 & 210  \\\\\n",
       "\t  9    & 23731 & 32746 & 211  \\\\\n",
       "\t 12    & 23297 & 33001 & 220  \\\\\n",
       "\t 10    & 25202 & 35288 & 236  \\\\\n",
       "\\end{tabular}\n"
      ],
      "text/markdown": [
       "\n",
       "| 월 | 발생건수 | 부상자수 | 사망자수 |\n",
       "|---|---|---|---|\n",
       "|  8    | 23611 | 33060 | 165   |\n",
       "|  2    | 18703 | 26553 | 173   |\n",
       "|  4    | 23355 | 32667 | 184   |\n",
       "|  6    | 23611 | 32885 | 186   |\n",
       "|  7    | 24070 | 33515 | 194   |\n",
       "|  5    | 24779 | 34449 | 204   |\n",
       "|  3    | 22654 | 31480 | 208   |\n",
       "| 11    | 24540 | 33812 | 208   |\n",
       "|  1    | 21060 | 30440 | 210   |\n",
       "|  9    | 23731 | 32746 | 211   |\n",
       "| 12    | 23297 | 33001 | 220   |\n",
       "| 10    | 25202 | 35288 | 236   |\n",
       "\n"
      ],
      "text/plain": [
       "   월 발생건수 부상자수 사망자수\n",
       "1   8 23611    33060    165     \n",
       "2   2 18703    26553    173     \n",
       "3   4 23355    32667    184     \n",
       "4   6 23611    32885    186     \n",
       "5   7 24070    33515    194     \n",
       "6   5 24779    34449    204     \n",
       "7   3 22654    31480    208     \n",
       "8  11 24540    33812    208     \n",
       "9   1 21060    30440    210     \n",
       "10  9 23731    32746    211     \n",
       "11 12 23297    33001    220     \n",
       "12 10 25202    35288    236     "
      ]
     },
     "metadata": {},
     "output_type": "display_data"
    }
   ],
   "source": [
    " for(i in 2:12){\n",
    "seoulyear <- subset(seoulMonths,월 == i)\n",
    "seoulMonth3 <- rbind(seoulMonth3,data.frame(월=i,발생건수=sum(seoulyear$발생건수),부상자수=sum(seoulyear$부상자수),사망자수=sum(seoulyear$사망자수)))\n",
    "}\n",
    "\n",
    "arrange(seoulMonth3,(사망자수))"
   ]
  },
  {
   "cell_type": "code",
   "execution_count": null,
   "id": "b2652cf2",
   "metadata": {},
   "outputs": [],
   "source": []
  },
  {
   "cell_type": "code",
   "execution_count": 142,
   "id": "db60fcdb",
   "metadata": {},
   "outputs": [
    {
     "data": {
      "text/html": [
       "<table>\n",
       "<thead><tr><th></th><th scope=col>기간</th><th scope=col>대분류</th><th scope=col>분류</th><th scope=col>평균</th><th scope=col>1월</th><th scope=col>2월</th><th scope=col>3월</th><th scope=col>4월</th><th scope=col>5월</th><th scope=col>6월</th><th scope=col>7월</th><th scope=col>8월</th><th scope=col>9월</th><th scope=col>10월</th><th scope=col>11월</th><th scope=col>12월</th></tr></thead>\n",
       "<tbody>\n",
       "\t<tr><th scope=row>1</th><td>2013</td><td>전체</td><td>전체</td><td>26.4</td><td>27.5</td><td>27.2</td><td>28.0</td><td>28.0</td><td>27.5</td><td>26.4</td><td>25.2</td><td>25.6</td><td>25.5</td><td>25.1</td><td>24.9</td><td>26.1</td></tr>\n",
       "\t<tr><th scope=row>29</th><td>2014</td><td>전체</td><td>전체</td><td>25.7</td><td>27.1</td><td>27.1</td><td>26.3</td><td>25.9</td><td>25.3</td><td>25.5</td><td>25.5</td><td>25.3</td><td>25.4</td><td>25.3</td><td>25.0</td><td>24.8</td></tr>\n",
       "\t<tr><th scope=row>57</th><td>2015</td><td>전체</td><td>전체</td><td>25.2</td><td>25.8</td><td>25.0</td><td>25.5</td><td>25.3</td><td>25.5</td><td>25.8</td><td>25.4</td><td>25.4</td><td>24.6</td><td>24.8</td><td>24.4</td><td>24.6</td></tr>\n",
       "\t<tr><th scope=row>85</th><td>2016</td><td>전체</td><td>전체</td><td>24.2</td><td>25.1</td><td>24.6</td><td>24.2</td><td>24.2</td><td>24.2</td><td>24.4</td><td>24.1</td><td>23.8</td><td>24.0</td><td>23.8</td><td>23.6</td><td>24.1</td></tr>\n",
       "\t<tr><th scope=row>113</th><td>2017</td><td>전체</td><td>전체</td><td>24.2</td><td>24.6</td><td>24.5</td><td>24.8</td><td>24.5</td><td>24.8</td><td>24.4</td><td>23.8</td><td>23.9</td><td>23.3</td><td>24.7</td><td>23.5</td><td>23.7</td></tr>\n",
       "\t<tr><th scope=row>141</th><td>2018</td><td>전체</td><td>전체</td><td>23.9</td><td>24.7</td><td>24.0</td><td>24.2</td><td>23.9</td><td>23.8</td><td>23.9</td><td>23.6</td><td>23.8</td><td>23.8</td><td>23.8</td><td>23.6</td><td>23.8</td></tr>\n",
       "\t<tr><th scope=row>169</th><td>2019</td><td>전체</td><td>전체</td><td>23.8</td><td>24.3</td><td>24.4</td><td>24.2</td><td>23.8</td><td>23.9</td><td>24.1</td><td>23.6</td><td>23.4</td><td>23.4</td><td>23.4</td><td>22.9</td><td>23.7</td></tr>\n",
       "</tbody>\n",
       "</table>\n"
      ],
      "text/latex": [
       "\\begin{tabular}{r|llllllllllllllll}\n",
       "  & 기간 & 대분류 & 분류 & 평균 & 1월 & 2월 & 3월 & 4월 & 5월 & 6월 & 7월 & 8월 & 9월 & 10월 & 11월 & 12월\\\\\n",
       "\\hline\n",
       "\t1 & 2013 & 전체 & 전체 & 26.4 & 27.5 & 27.2 & 28.0 & 28.0 & 27.5 & 26.4 & 25.2 & 25.6 & 25.5 & 25.1 & 24.9 & 26.1\\\\\n",
       "\t29 & 2014 & 전체 & 전체 & 25.7 & 27.1 & 27.1 & 26.3 & 25.9 & 25.3 & 25.5 & 25.5 & 25.3 & 25.4 & 25.3 & 25.0 & 24.8\\\\\n",
       "\t57 & 2015 & 전체 & 전체 & 25.2 & 25.8 & 25.0 & 25.5 & 25.3 & 25.5 & 25.8 & 25.4 & 25.4 & 24.6 & 24.8 & 24.4 & 24.6\\\\\n",
       "\t85 & 2016 & 전체 & 전체 & 24.2 & 25.1 & 24.6 & 24.2 & 24.2 & 24.2 & 24.4 & 24.1 & 23.8 & 24.0 & 23.8 & 23.6 & 24.1\\\\\n",
       "\t113 & 2017 & 전체 & 전체 & 24.2 & 24.6 & 24.5 & 24.8 & 24.5 & 24.8 & 24.4 & 23.8 & 23.9 & 23.3 & 24.7 & 23.5 & 23.7\\\\\n",
       "\t141 & 2018 & 전체 & 전체 & 23.9 & 24.7 & 24.0 & 24.2 & 23.9 & 23.8 & 23.9 & 23.6 & 23.8 & 23.8 & 23.8 & 23.6 & 23.8\\\\\n",
       "\t169 & 2019 & 전체 & 전체 & 23.8 & 24.3 & 24.4 & 24.2 & 23.8 & 23.9 & 24.1 & 23.6 & 23.4 & 23.4 & 23.4 & 22.9 & 23.7\\\\\n",
       "\\end{tabular}\n"
      ],
      "text/markdown": [
       "\n",
       "| <!--/--> | 기간 | 대분류 | 분류 | 평균 | 1월 | 2월 | 3월 | 4월 | 5월 | 6월 | 7월 | 8월 | 9월 | 10월 | 11월 | 12월 |\n",
       "|---|---|---|---|---|---|---|---|---|---|---|---|---|---|---|---|---|\n",
       "| 1 | 2013 | 전체 | 전체 | 26.4 | 27.5 | 27.2 | 28.0 | 28.0 | 27.5 | 26.4 | 25.2 | 25.6 | 25.5 | 25.1 | 24.9 | 26.1 |\n",
       "| 29 | 2014 | 전체 | 전체 | 25.7 | 27.1 | 27.1 | 26.3 | 25.9 | 25.3 | 25.5 | 25.5 | 25.3 | 25.4 | 25.3 | 25.0 | 24.8 |\n",
       "| 57 | 2015 | 전체 | 전체 | 25.2 | 25.8 | 25.0 | 25.5 | 25.3 | 25.5 | 25.8 | 25.4 | 25.4 | 24.6 | 24.8 | 24.4 | 24.6 |\n",
       "| 85 | 2016 | 전체 | 전체 | 24.2 | 25.1 | 24.6 | 24.2 | 24.2 | 24.2 | 24.4 | 24.1 | 23.8 | 24.0 | 23.8 | 23.6 | 24.1 |\n",
       "| 113 | 2017 | 전체 | 전체 | 24.2 | 24.6 | 24.5 | 24.8 | 24.5 | 24.8 | 24.4 | 23.8 | 23.9 | 23.3 | 24.7 | 23.5 | 23.7 |\n",
       "| 141 | 2018 | 전체 | 전체 | 23.9 | 24.7 | 24.0 | 24.2 | 23.9 | 23.8 | 23.9 | 23.6 | 23.8 | 23.8 | 23.8 | 23.6 | 23.8 |\n",
       "| 169 | 2019 | 전체 | 전체 | 23.8 | 24.3 | 24.4 | 24.2 | 23.8 | 23.9 | 24.1 | 23.6 | 23.4 | 23.4 | 23.4 | 22.9 | 23.7 |\n",
       "\n"
      ],
      "text/plain": [
       "    기간 대분류 분류 평균 1월  2월  3월  4월  5월  6월  7월  8월  9월  10월\n",
       "1   2013 전체   전체 26.4 27.5 27.2 28.0 28.0 27.5 26.4 25.2 25.6 25.5 25.1\n",
       "29  2014 전체   전체 25.7 27.1 27.1 26.3 25.9 25.3 25.5 25.5 25.3 25.4 25.3\n",
       "57  2015 전체   전체 25.2 25.8 25.0 25.5 25.3 25.5 25.8 25.4 25.4 24.6 24.8\n",
       "85  2016 전체   전체 24.2 25.1 24.6 24.2 24.2 24.2 24.4 24.1 23.8 24.0 23.8\n",
       "113 2017 전체   전체 24.2 24.6 24.5 24.8 24.5 24.8 24.4 23.8 23.9 23.3 24.7\n",
       "141 2018 전체   전체 23.9 24.7 24.0 24.2 23.9 23.8 23.9 23.6 23.8 23.8 23.8\n",
       "169 2019 전체   전체 23.8 24.3 24.4 24.2 23.8 23.9 24.1 23.6 23.4 23.4 23.4\n",
       "    11월 12월\n",
       "1   24.9 26.1\n",
       "29  25.0 24.8\n",
       "57  24.4 24.6\n",
       "85  23.6 24.1\n",
       "113 23.5 23.7\n",
       "141 23.6 23.8\n",
       "169 22.9 23.7"
      ]
     },
     "metadata": {},
     "output_type": "display_data"
    }
   ],
   "source": [
    "txtEmp <- read.table(\"../R_yang/fast.txt\", header = T, sep = \"\", stringsAsFactors = F)\n",
    "txtEmp2 <- subset(txtEmp,분류 == '전체')\n",
    "colnames(txtEmp2) = c('기간','대분류','분류','평균','1월','2월','3월','4월','5월','6월','7월','8월','9월','10월','11월','12월')\n",
    "txtEmp2"
   ]
  },
  {
   "cell_type": "code",
   "execution_count": 150,
   "id": "28d559aa",
   "metadata": {},
   "outputs": [],
   "source": [
    "txt3 <- c(sum(txtEmp2[5])/7,sum(txtEmp2[6])/7,sum(txtEmp2[7])/7,sum(txtEmp2[8])/7,sum(txtEmp2[9])/7,sum(txtEmp2[10])/7,sum(txtEmp2[11])/7,sum(txtEmp2[12])/7)"
   ]
  },
  {
   "cell_type": "code",
   "execution_count": 136,
   "id": "8ce8f9b8",
   "metadata": {},
   "outputs": [
    {
     "data": {
      "text/html": [
       "<ol class=list-inline>\n",
       "\t<li>25.5857142857143</li>\n",
       "\t<li>25.2571428571429</li>\n",
       "\t<li>25.3142857142857</li>\n",
       "\t<li>25.0857142857143</li>\n",
       "\t<li>25</li>\n",
       "\t<li>24.9285714285714</li>\n",
       "\t<li>24.4571428571429</li>\n",
       "\t<li>24.4571428571429</li>\n",
       "</ol>\n"
      ],
      "text/latex": [
       "\\begin{enumerate*}\n",
       "\\item 25.5857142857143\n",
       "\\item 25.2571428571429\n",
       "\\item 25.3142857142857\n",
       "\\item 25.0857142857143\n",
       "\\item 25\n",
       "\\item 24.9285714285714\n",
       "\\item 24.4571428571429\n",
       "\\item 24.4571428571429\n",
       "\\end{enumerate*}\n"
      ],
      "text/markdown": [
       "1. 25.5857142857143\n",
       "2. 25.2571428571429\n",
       "3. 25.3142857142857\n",
       "4. 25.0857142857143\n",
       "5. 25\n",
       "6. 24.9285714285714\n",
       "7. 24.4571428571429\n",
       "8. 24.4571428571429\n",
       "\n",
       "\n"
      ],
      "text/plain": [
       "[1] 25.58571 25.25714 25.31429 25.08571 25.00000 24.92857 24.45714 24.45714"
      ]
     },
     "metadata": {},
     "output_type": "display_data"
    }
   ],
   "source": [
    "txt"
   ]
  },
  {
   "cell_type": "code",
   "execution_count": 151,
   "id": "4ec63a5c",
   "metadata": {},
   "outputs": [
    {
     "ename": "ERROR",
     "evalue": "Error in cor(txt, seoulMonth3$발생건수): 호환되지 않는 차원들입니다\n",
     "output_type": "error",
     "traceback": [
      "Error in cor(txt, seoulMonth3$발생건수): 호환되지 않는 차원들입니다\nTraceback:\n",
      "1. cor(txt, seoulMonth3$발생건수)"
     ]
    }
   ],
   "source": [
    "cor(txt,seoulMonth3$발생건수)"
   ]
  },
  {
   "cell_type": "code",
   "execution_count": null,
   "id": "c6da3874",
   "metadata": {},
   "outputs": [],
   "source": []
  }
 ],
 "metadata": {
  "kernelspec": {
   "display_name": "R",
   "language": "R",
   "name": "ir"
  },
  "language_info": {
   "codemirror_mode": "r",
   "file_extension": ".r",
   "mimetype": "text/x-r-source",
   "name": "R",
   "pygments_lexer": "r",
   "version": "3.6.1"
  }
 },
 "nbformat": 4,
 "nbformat_minor": 5
}
