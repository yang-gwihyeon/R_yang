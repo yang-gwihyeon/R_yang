{
 "cells": [
  {
   "cell_type": "markdown",
   "id": "13f2fdc4",
   "metadata": {},
   "source": [
    "# EDA : 선택적 데이터 분석 -> 특성 공학"
   ]
  },
  {
   "cell_type": "markdown",
   "id": "0aefbf6d",
   "metadata": {},
   "source": [
    "피쳐를 뭘쓸껀지  \n",
    "1. NA가 있는지  \n",
    "2. 뭐를 Target으로 잡을지 : 타겟의 결과값에대한 데이터가 있는지 없는지가 중요. 타이타닉은 생존,사망 둘중에 하나를 찾는게 제일 편함  \n",
    "    - classifcation 주관식 정답값이 10퍼센트가 나온거면 높은편.그걸 객관식으로 만들어주는게 중요 범주형으로 나눠서 예측값을 알아야함.\n",
    "- 타겟컬럼으로 으로사용할때는 factor로 만들어준후 비교해야함.  \n",
    " cabin같은경우 비어있는값을 어떻게 해줘야 할지도 정제  \n",
    " 특성공학..?: 파생되는 데이터들... ex)Embarked에 파생되는 각 나라의 데이터들의 컬럼이 추가될수있다.\n",
    "3. 데이터가 가장 간단한것부터 접근하는게 제일 좋다.\n",
    "    Target은 공평해야하고 feature는 불공평해야한다.  \n",
    "    타겟컬럼을 구하는 과정에 그래프그리는과정은 무조건 있어야함. 보고할때에도 필요함. 피쳐컬럼도 마찬가지. 분류하는 작업이 진짜 중요함.  \n",
    "    데이터 분석하는 과정에서 정제하는작업은 3개월중에 2개월이 걸리니까 천천히 하기!  \n",
    "    차트그리는게 진짜 중요!  \n",
    "    차분하게 하는게 중요함!  \n",
    "    데이터를 가지고 세세하게 분리해서 하는게 중요함.  \n",
    "4. 컬럼내용을 이해하는게 제일 중요 , 데이터를 버리는건 타겟으로 쓸수 없을때에 버리기  \n",
    "***데이터를 보고 주제정하는것도 괜찮아!     \n",
    "5. 결측치가 30%가 넘으면 못씀. 결측치가 있는 컬럼이나 로우를 버리거나 이것저것 다 해봐야함. 그래프진짜 중요  \n",
    "6. 처음 데이터 볼때 가장 많이 쓰는 코드는 table, sum, merge."
   ]
  },
  {
   "cell_type": "code",
   "execution_count": 6,
   "id": "d060d441",
   "metadata": {},
   "outputs": [],
   "source": [
    "library(dplyr)"
   ]
  },
  {
   "cell_type": "code",
   "execution_count": 3,
   "id": "0aae4735",
   "metadata": {},
   "outputs": [
    {
     "data": {
      "text/html": [
       "<table>\n",
       "<thead><tr><th scope=col>PassengerId</th><th scope=col>Survived</th><th scope=col>Pclass</th><th scope=col>Name</th><th scope=col>Sex</th><th scope=col>Age</th><th scope=col>SibSp</th><th scope=col>Parch</th><th scope=col>Ticket</th><th scope=col>Fare</th><th scope=col>Cabin</th><th scope=col>Embarked</th></tr></thead>\n",
       "<tbody>\n",
       "\t<tr><td>1                                                  </td><td>0                                                  </td><td>3                                                  </td><td>Braund, Mr. Owen Harris                            </td><td>male                                               </td><td>22                                                 </td><td>1                                                  </td><td>0                                                  </td><td>A/5 21171                                          </td><td> 7.2500                                            </td><td>                                                   </td><td>S                                                  </td></tr>\n",
       "\t<tr><td>2                                                  </td><td>1                                                  </td><td>1                                                  </td><td>Cumings, Mrs. John Bradley (Florence Briggs Thayer)</td><td>female                                             </td><td>38                                                 </td><td>1                                                  </td><td>0                                                  </td><td>PC 17599                                           </td><td>71.2833                                            </td><td>C85                                                </td><td>C                                                  </td></tr>\n",
       "\t<tr><td>3                                                  </td><td>1                                                  </td><td>3                                                  </td><td>Heikkinen, Miss. Laina                             </td><td>female                                             </td><td>26                                                 </td><td>0                                                  </td><td>0                                                  </td><td>STON/O2. 3101282                                   </td><td> 7.9250                                            </td><td>                                                   </td><td>S                                                  </td></tr>\n",
       "\t<tr><td>4                                                  </td><td>1                                                  </td><td>1                                                  </td><td>Futrelle, Mrs. Jacques Heath (Lily May Peel)       </td><td>female                                             </td><td>35                                                 </td><td>1                                                  </td><td>0                                                  </td><td>113803                                             </td><td>53.1000                                            </td><td>C123                                               </td><td>S                                                  </td></tr>\n",
       "\t<tr><td>5                                                  </td><td>0                                                  </td><td>3                                                  </td><td>Allen, Mr. William Henry                           </td><td>male                                               </td><td>35                                                 </td><td>0                                                  </td><td>0                                                  </td><td>373450                                             </td><td> 8.0500                                            </td><td>                                                   </td><td>S                                                  </td></tr>\n",
       "\t<tr><td>6                                                  </td><td>0                                                  </td><td>3                                                  </td><td>Moran, Mr. James                                   </td><td>male                                               </td><td>NA                                                 </td><td>0                                                  </td><td>0                                                  </td><td>330877                                             </td><td> 8.4583                                            </td><td>                                                   </td><td>Q                                                  </td></tr>\n",
       "</tbody>\n",
       "</table>\n"
      ],
      "text/latex": [
       "\\begin{tabular}{r|llllllllllll}\n",
       " PassengerId & Survived & Pclass & Name & Sex & Age & SibSp & Parch & Ticket & Fare & Cabin & Embarked\\\\\n",
       "\\hline\n",
       "\t 1                                                   & 0                                                   & 3                                                   & Braund, Mr. Owen Harris                             & male                                                & 22                                                  & 1                                                   & 0                                                   & A/5 21171                                           &  7.2500                                             &                                                     & S                                                  \\\\\n",
       "\t 2                                                   & 1                                                   & 1                                                   & Cumings, Mrs. John Bradley (Florence Briggs Thayer) & female                                              & 38                                                  & 1                                                   & 0                                                   & PC 17599                                            & 71.2833                                             & C85                                                 & C                                                  \\\\\n",
       "\t 3                                                   & 1                                                   & 3                                                   & Heikkinen, Miss. Laina                              & female                                              & 26                                                  & 0                                                   & 0                                                   & STON/O2. 3101282                                    &  7.9250                                             &                                                     & S                                                  \\\\\n",
       "\t 4                                                   & 1                                                   & 1                                                   & Futrelle, Mrs. Jacques Heath (Lily May Peel)        & female                                              & 35                                                  & 1                                                   & 0                                                   & 113803                                              & 53.1000                                             & C123                                                & S                                                  \\\\\n",
       "\t 5                                                   & 0                                                   & 3                                                   & Allen, Mr. William Henry                            & male                                                & 35                                                  & 0                                                   & 0                                                   & 373450                                              &  8.0500                                             &                                                     & S                                                  \\\\\n",
       "\t 6                                                   & 0                                                   & 3                                                   & Moran, Mr. James                                    & male                                                & NA                                                  & 0                                                   & 0                                                   & 330877                                              &  8.4583                                             &                                                     & Q                                                  \\\\\n",
       "\\end{tabular}\n"
      ],
      "text/markdown": [
       "\n",
       "| PassengerId | Survived | Pclass | Name | Sex | Age | SibSp | Parch | Ticket | Fare | Cabin | Embarked |\n",
       "|---|---|---|---|---|---|---|---|---|---|---|---|\n",
       "| 1                                                   | 0                                                   | 3                                                   | Braund, Mr. Owen Harris                             | male                                                | 22                                                  | 1                                                   | 0                                                   | A/5 21171                                           |  7.2500                                             |                                                     | S                                                   |\n",
       "| 2                                                   | 1                                                   | 1                                                   | Cumings, Mrs. John Bradley (Florence Briggs Thayer) | female                                              | 38                                                  | 1                                                   | 0                                                   | PC 17599                                            | 71.2833                                             | C85                                                 | C                                                   |\n",
       "| 3                                                   | 1                                                   | 3                                                   | Heikkinen, Miss. Laina                              | female                                              | 26                                                  | 0                                                   | 0                                                   | STON/O2. 3101282                                    |  7.9250                                             |                                                     | S                                                   |\n",
       "| 4                                                   | 1                                                   | 1                                                   | Futrelle, Mrs. Jacques Heath (Lily May Peel)        | female                                              | 35                                                  | 1                                                   | 0                                                   | 113803                                              | 53.1000                                             | C123                                                | S                                                   |\n",
       "| 5                                                   | 0                                                   | 3                                                   | Allen, Mr. William Henry                            | male                                                | 35                                                  | 0                                                   | 0                                                   | 373450                                              |  8.0500                                             |                                                     | S                                                   |\n",
       "| 6                                                   | 0                                                   | 3                                                   | Moran, Mr. James                                    | male                                                | NA                                                  | 0                                                   | 0                                                   | 330877                                              |  8.4583                                             |                                                     | Q                                                   |\n",
       "\n"
      ],
      "text/plain": [
       "  PassengerId Survived Pclass\n",
       "1 1           0        3     \n",
       "2 2           1        1     \n",
       "3 3           1        3     \n",
       "4 4           1        1     \n",
       "5 5           0        3     \n",
       "6 6           0        3     \n",
       "  Name                                                Sex    Age SibSp Parch\n",
       "1 Braund, Mr. Owen Harris                             male   22  1     0    \n",
       "2 Cumings, Mrs. John Bradley (Florence Briggs Thayer) female 38  1     0    \n",
       "3 Heikkinen, Miss. Laina                              female 26  0     0    \n",
       "4 Futrelle, Mrs. Jacques Heath (Lily May Peel)        female 35  1     0    \n",
       "5 Allen, Mr. William Henry                            male   35  0     0    \n",
       "6 Moran, Mr. James                                    male   NA  0     0    \n",
       "  Ticket           Fare    Cabin Embarked\n",
       "1 A/5 21171         7.2500       S       \n",
       "2 PC 17599         71.2833 C85   C       \n",
       "3 STON/O2. 3101282  7.9250       S       \n",
       "4 113803           53.1000 C123  S       \n",
       "5 373450            8.0500       S       \n",
       "6 330877            8.4583       Q       "
      ]
     },
     "metadata": {},
     "output_type": "display_data"
    }
   ],
   "source": [
    "train_df <- read.csv(\"Rdata/Titanic_train.csv\")\n",
    "head(train_df)\n"
   ]
  },
  {
   "cell_type": "code",
   "execution_count": null,
   "id": "37612be7",
   "metadata": {},
   "outputs": [],
   "source": [
    "6:4간신히 걸쳤지만 타겟으로 쓸만하겠다!"
   ]
  },
  {
   "cell_type": "code",
   "execution_count": 9,
   "id": "6d01b233",
   "metadata": {},
   "outputs": [
    {
     "data": {
      "text/html": [
       "549"
      ],
      "text/latex": [
       "549"
      ],
      "text/markdown": [
       "549"
      ],
      "text/plain": [
       "[1] 549"
      ]
     },
     "metadata": {},
     "output_type": "display_data"
    },
    {
     "data": {
      "text/html": [
       "342"
      ],
      "text/latex": [
       "342"
      ],
      "text/markdown": [
       "342"
      ],
      "text/plain": [
       "[1] 342"
      ]
     },
     "metadata": {},
     "output_type": "display_data"
    },
    {
     "data": {
      "text/html": [
       "0.622950819672131"
      ],
      "text/latex": [
       "0.622950819672131"
      ],
      "text/markdown": [
       "0.622950819672131"
      ],
      "text/plain": [
       "[1] 0.6229508"
      ]
     },
     "metadata": {},
     "output_type": "display_data"
    }
   ],
   "source": [
    "sum(train_df$Survived == 0)\n",
    "sum(train_df$Survived == 1)\n",
    "342 / 549"
   ]
  },
  {
   "cell_type": "code",
   "execution_count": 13,
   "id": "18152256",
   "metadata": {},
   "outputs": [
    {
     "data": {
      "text/html": [
       "314"
      ],
      "text/latex": [
       "314"
      ],
      "text/markdown": [
       "314"
      ],
      "text/plain": [
       "[1] 314"
      ]
     },
     "metadata": {},
     "output_type": "display_data"
    },
    {
     "data": {
      "text/html": [
       "577"
      ],
      "text/latex": [
       "577"
      ],
      "text/markdown": [
       "577"
      ],
      "text/plain": [
       "[1] 577"
      ]
     },
     "metadata": {},
     "output_type": "display_data"
    },
    {
     "data": {
      "text/html": [
       "0.54419410745234"
      ],
      "text/latex": [
       "0.54419410745234"
      ],
      "text/markdown": [
       "0.54419410745234"
      ],
      "text/plain": [
       "[1] 0.5441941"
      ]
     },
     "metadata": {},
     "output_type": "display_data"
    }
   ],
   "source": [
    "sum(train_df$Sex == \"female\")\n",
    "sum(train_df$Sex == \"male\")\n",
    "314/577"
   ]
  },
  {
   "cell_type": "markdown",
   "id": "b06e994c",
   "metadata": {},
   "source": [
    "두배정도 차이가 나네 조금더 비교해보자"
   ]
  },
  {
   "cell_type": "code",
   "execution_count": 15,
   "id": "8737b0b8",
   "metadata": {},
   "outputs": [
    {
     "data": {
      "text/html": [
       "233"
      ],
      "text/latex": [
       "233"
      ],
      "text/markdown": [
       "233"
      ],
      "text/plain": [
       "[1] 233"
      ]
     },
     "metadata": {},
     "output_type": "display_data"
    },
    {
     "data": {
      "text/html": [
       "109"
      ],
      "text/latex": [
       "109"
      ],
      "text/markdown": [
       "109"
      ],
      "text/plain": [
       "[1] 109"
      ]
     },
     "metadata": {},
     "output_type": "display_data"
    }
   ],
   "source": [
    "sum(train_df$Survived == 1 & train_df$Sex ==\"female\")\n",
    "sum(train_df$Survived == 1 & train_df$Sex ==\"male\")"
   ]
  },
  {
   "cell_type": "markdown",
   "id": "59d0f2bc",
   "metadata": {},
   "source": [
    "차이가 많이나네!"
   ]
  },
  {
   "cell_type": "code",
   "execution_count": 16,
   "id": "7153fe8d",
   "metadata": {},
   "outputs": [
    {
     "data": {
      "text/html": [
       "81"
      ],
      "text/latex": [
       "81"
      ],
      "text/markdown": [
       "81"
      ],
      "text/plain": [
       "[1] 81"
      ]
     },
     "metadata": {},
     "output_type": "display_data"
    },
    {
     "data": {
      "text/html": [
       "468"
      ],
      "text/latex": [
       "468"
      ],
      "text/markdown": [
       "468"
      ],
      "text/plain": [
       "[1] 468"
      ]
     },
     "metadata": {},
     "output_type": "display_data"
    }
   ],
   "source": [
    "sum(train_df$Survived == 0 & train_df$Sex ==\"female\")\n",
    "sum(train_df$Survived == 0 & train_df$Sex ==\"male\")"
   ]
  },
  {
   "cell_type": "markdown",
   "id": "2f20fbba",
   "metadata": {},
   "source": [
    "> 피쳐로 쓰기 적합!"
   ]
  },
  {
   "cell_type": "markdown",
   "id": "c7b4e3ed",
   "metadata": {},
   "source": [
    "- 테이블이 진짜 보기 편해 I LOVE TABLE"
   ]
  },
  {
   "cell_type": "code",
   "execution_count": 19,
   "id": "d0cf7c63",
   "metadata": {},
   "outputs": [
    {
     "data": {
      "text/plain": [
       "        \n",
       "           0   1\n",
       "  female  81 233\n",
       "  male   468 109"
      ]
     },
     "metadata": {},
     "output_type": "display_data"
    }
   ],
   "source": [
    "table(train_df$Sex, train_df$Survived)"
   ]
  },
  {
   "cell_type": "code",
   "execution_count": 27,
   "id": "50797eed",
   "metadata": {},
   "outputs": [
    {
     "data": {
      "text/plain": [
       "   \n",
       "      0   1\n",
       "  1  80 136\n",
       "  2  97  87\n",
       "  3 372 119"
      ]
     },
     "metadata": {},
     "output_type": "display_data"
    }
   ],
   "source": [
    "table(train_df$Pclass, train_df$Survived)"
   ]
  },
  {
   "cell_type": "code",
   "execution_count": 28,
   "id": "99a45e65",
   "metadata": {},
   "outputs": [
    {
     "data": {
      "image/png": "[encoded data removed]",
      "text/plain": [
       "plot without title"
      ]
     },
     "metadata": {},
     "output_type": "display_data"
    }
   ],
   "source": [
    "barplot(table(train_df$Pclass, train_df$Survived))"
   ]
  },
  {
   "cell_type": "code",
   "execution_count": null,
   "id": "107777dd",
   "metadata": {},
   "outputs": [],
   "source": []
  }
 ],
 "metadata": {
  "kernelspec": {
   "display_name": "R",
   "language": "R",
   "name": "ir"
  },
  "language_info": {
   "codemirror_mode": "r",
   "file_extension": ".r",
   "mimetype": "text/x-r-source",
   "name": "R",
   "pygments_lexer": "r",
   "version": "3.6.1"
  }
 },
 "nbformat": 4,
 "nbformat_minor": 5
}
